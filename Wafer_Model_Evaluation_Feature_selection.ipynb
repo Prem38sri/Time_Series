{
 "cells": [
  {
   "cell_type": "markdown",
   "metadata": {},
   "source": [
    "# Wafer Model Evaluation"
   ]
  },
  {
   "cell_type": "code",
   "execution_count": 1,
   "metadata": {},
   "outputs": [],
   "source": [
    "import pandas as pd"
   ]
  },
  {
   "cell_type": "code",
   "execution_count": 2,
   "metadata": {},
   "outputs": [],
   "source": [
    "df_feature = pd.read_csv('C:/Users/user/Desktop/AI & ML/Project/Wafer_X_train.csv',index_col='file_name')\n",
    "df_featuret = pd.read_csv('C:/Users/user/Desktop/AI & ML/Project/Wafer_X_test.csv',index_col='file_name')"
   ]
  },
  {
   "cell_type": "code",
   "execution_count": 3,
   "metadata": {},
   "outputs": [],
   "source": [
    "accuracy_list = []\n",
    "sensitivity_score = []\n",
    "specificity_score = []"
   ]
  },
  {
   "cell_type": "code",
   "execution_count": 4,
   "metadata": {},
   "outputs": [
    {
     "name": "stderr",
     "output_type": "stream",
     "text": [
      "C:\\Users\\user\\Anaconda3\\lib\\site-packages\\sklearn\\preprocessing\\data.py:645: DataConversionWarning: Data with input dtype int64, float64 were all converted to float64 by StandardScaler.\n",
      "  return self.partial_fit(X, y)\n",
      "C:\\Users\\user\\Anaconda3\\lib\\site-packages\\ipykernel_launcher.py:16: DataConversionWarning: Data with input dtype int64, float64 were all converted to float64 by StandardScaler.\n",
      "  app.launch_new_instance()\n",
      "C:\\Users\\user\\Anaconda3\\lib\\site-packages\\sklearn\\preprocessing\\data.py:645: DataConversionWarning: Data with input dtype int64, float64 were all converted to float64 by StandardScaler.\n",
      "  return self.partial_fit(X, y)\n",
      "C:\\Users\\user\\Anaconda3\\lib\\site-packages\\ipykernel_launcher.py:18: DataConversionWarning: Data with input dtype int64, float64 were all converted to float64 by StandardScaler.\n"
     ]
    }
   ],
   "source": [
    "from sklearn.model_selection import cross_val_score\n",
    "from sklearn.ensemble import RandomForestClassifier\n",
    "from sklearn.preprocessing import StandardScaler\n",
    "from sklearn.metrics import accuracy_score\n",
    "from sklearn.utils import shuffle\n",
    "\n",
    "df_feature = shuffle(df_feature)\n",
    "\n",
    "X_train = df_feature.drop(['label'],axis=1)\n",
    "y_train = df_feature['label']\n",
    "X_test = df_featuret.drop(['label'],axis=1)\n",
    "y_test = df_featuret['label']\n",
    "\n",
    "scaler = StandardScaler()\n",
    "scaler.fit(X_train)\n",
    "X_train = scaler.transform(X_train)\n",
    "scaler.fit(X_test)\n",
    "X_test = scaler.transform(X_test)"
   ]
  },
  {
   "cell_type": "code",
   "execution_count": 5,
   "metadata": {},
   "outputs": [
    {
     "data": {
      "text/plain": [
       "array([0.99837794, 0.99675588, 0.99837794, 0.99918897, 0.99918831])"
      ]
     },
     "execution_count": 5,
     "metadata": {},
     "output_type": "execute_result"
    }
   ],
   "source": [
    "RFC_METRIC = 'entropy'  #metric used for RandomForrestClassifier\n",
    "NUM_ESTIMATORS = 100 #number of estimators used for RandomForrestClassifier\n",
    "NO_JOBS = -1 #number of parallel jobs used for RandomForrestClassifier\n",
    "clf = RandomForestClassifier(n_jobs=NO_JOBS, \n",
    "                             random_state=2000,\n",
    "                             criterion=RFC_METRIC,\n",
    "                             n_estimators=NUM_ESTIMATORS,\n",
    "                             verbose=False)\n",
    "\n",
    "scores_RF = cross_val_score(clf, X_train, y_train, cv=5)\n",
    "scores_RF\n"
   ]
  },
  {
   "cell_type": "code",
   "execution_count": 6,
   "metadata": {},
   "outputs": [
    {
     "data": {
      "text/plain": [
       "1.0"
      ]
     },
     "execution_count": 6,
     "metadata": {},
     "output_type": "execute_result"
    }
   ],
   "source": [
    "clf.fit(X_train,y_train)\n",
    "pred1 = clf.predict(X_test)\n",
    "acc_score_RF = accuracy_score(y_test,pred1)\n",
    "acc_score_RF"
   ]
  },
  {
   "cell_type": "code",
   "execution_count": 7,
   "metadata": {},
   "outputs": [
    {
     "name": "stdout",
     "output_type": "stream",
     "text": [
      "Sensitivity is 1.0\n",
      "Specificity is 1.0\n"
     ]
    }
   ],
   "source": [
    "from sklearn.metrics import confusion_matrix\n",
    "cm = confusion_matrix(y_test,pred1)\n",
    "TP = cm[0][0]\n",
    "FP = cm[0][1]\n",
    "FN = cm[1][0]\n",
    "TN = cm[1][1]\n",
    "\n",
    "Sensitivity_RF = TP / (TP + FN)\n",
    "Specificity_RF = TN / (TN + FP)\n",
    "\n",
    "print(F\"Sensitivity is { Sensitivity_RF }\")\n",
    "print(F\"Specificity is { Specificity_RF }\")"
   ]
  },
  {
   "cell_type": "code",
   "execution_count": 8,
   "metadata": {},
   "outputs": [],
   "source": [
    "accuracy_list.append(acc_score_RF)\n",
    "sensitivity_score.append(Sensitivity_RF)\n",
    "specificity_score.append(Specificity_RF)"
   ]
  },
  {
   "cell_type": "raw",
   "metadata": {},
   "source": [
    "\"\"\"\n",
    "from sklearn import svm\n",
    "from sklearn.model_selection import GridSearchCV \n",
    "\n",
    "# defining parameter range \n",
    "param_grid = {'C': [0.1, 1, 10, 100], \n",
    "                'gamma': [1, 0.1, 0.01, 0.001, 0.0001], \n",
    "                'kernel': ['linear','rbf']} \n",
    "\n",
    "grid = GridSearchCV(svm.SVC(), param_grid, refit = True, verbose = 3) \n",
    "\n",
    "# fitting the model for grid search \n",
    "grid.fit(X_train, y_train) \n",
    "\n",
    "# print best parameter after tuning \n",
    "print(grid.best_params_) \n",
    "\n",
    "# print how our model looks after hyper-parameter tuning \n",
    "print(grid.best_estimator_) \n",
    "\"\"\"\n"
   ]
  },
  {
   "cell_type": "code",
   "execution_count": 9,
   "metadata": {},
   "outputs": [
    {
     "data": {
      "text/plain": [
       "array([0.99675588, 0.99918897, 1.        , 0.99837794, 0.99918831])"
      ]
     },
     "execution_count": 9,
     "metadata": {},
     "output_type": "execute_result"
    }
   ],
   "source": [
    "from sklearn import svm\n",
    "clf_svm1 = svm.SVC(kernel='linear', C=1)\n",
    "scores_svm1 = cross_val_score(clf_svm1, X_train, y_train, cv=5)\n",
    "scores_svm1"
   ]
  },
  {
   "cell_type": "code",
   "execution_count": 10,
   "metadata": {},
   "outputs": [
    {
     "data": {
      "text/plain": [
       "0.999"
      ]
     },
     "execution_count": 10,
     "metadata": {},
     "output_type": "execute_result"
    }
   ],
   "source": [
    "clf_svm1.fit(X_train,y_train)\n",
    "pred2 = clf_svm1.predict(X_test)\n",
    "acc_score_svm1 = accuracy_score(y_test,pred2)\n",
    "acc_score_svm1"
   ]
  },
  {
   "cell_type": "code",
   "execution_count": 11,
   "metadata": {},
   "outputs": [
    {
     "name": "stdout",
     "output_type": "stream",
     "text": [
      "Sensitivity is 0.9897959183673469\n",
      "Specificity is 1.0\n"
     ]
    }
   ],
   "source": [
    "from sklearn.metrics import confusion_matrix\n",
    "cm = confusion_matrix(y_test,pred2)\n",
    "TP = cm[0][0]\n",
    "FP = cm[0][1]\n",
    "FN = cm[1][0]\n",
    "TN = cm[1][1]\n",
    "\n",
    "Sensitivity_svm1 = TP / (TP + FN)\n",
    "Specificity_svm1 = TN / (TN + FP)\n",
    "\n",
    "print(F\"Sensitivity is { Sensitivity_svm1 }\")\n",
    "print(F\"Specificity is { Specificity_svm1 }\")"
   ]
  },
  {
   "cell_type": "code",
   "execution_count": 12,
   "metadata": {},
   "outputs": [],
   "source": [
    "accuracy_list.append(acc_score_svm1)\n",
    "sensitivity_score.append(Sensitivity_svm1)\n",
    "specificity_score.append(Specificity_svm1)"
   ]
  },
  {
   "cell_type": "code",
   "execution_count": 13,
   "metadata": {},
   "outputs": [
    {
     "name": "stderr",
     "output_type": "stream",
     "text": [
      "C:\\Users\\user\\Anaconda3\\lib\\site-packages\\sklearn\\svm\\base.py:196: FutureWarning: The default value of gamma will change from 'auto' to 'scale' in version 0.22 to account better for unscaled features. Set gamma explicitly to 'auto' or 'scale' to avoid this warning.\n",
      "  \"avoid this warning.\", FutureWarning)\n",
      "C:\\Users\\user\\Anaconda3\\lib\\site-packages\\sklearn\\svm\\base.py:196: FutureWarning: The default value of gamma will change from 'auto' to 'scale' in version 0.22 to account better for unscaled features. Set gamma explicitly to 'auto' or 'scale' to avoid this warning.\n",
      "  \"avoid this warning.\", FutureWarning)\n",
      "C:\\Users\\user\\Anaconda3\\lib\\site-packages\\sklearn\\svm\\base.py:196: FutureWarning: The default value of gamma will change from 'auto' to 'scale' in version 0.22 to account better for unscaled features. Set gamma explicitly to 'auto' or 'scale' to avoid this warning.\n",
      "  \"avoid this warning.\", FutureWarning)\n",
      "C:\\Users\\user\\Anaconda3\\lib\\site-packages\\sklearn\\svm\\base.py:196: FutureWarning: The default value of gamma will change from 'auto' to 'scale' in version 0.22 to account better for unscaled features. Set gamma explicitly to 'auto' or 'scale' to avoid this warning.\n",
      "  \"avoid this warning.\", FutureWarning)\n",
      "C:\\Users\\user\\Anaconda3\\lib\\site-packages\\sklearn\\svm\\base.py:196: FutureWarning: The default value of gamma will change from 'auto' to 'scale' in version 0.22 to account better for unscaled features. Set gamma explicitly to 'auto' or 'scale' to avoid this warning.\n",
      "  \"avoid this warning.\", FutureWarning)\n"
     ]
    },
    {
     "data": {
      "text/plain": [
       "array([0.99675588, 0.99675588, 0.99918897, 0.99918897, 0.99837662])"
      ]
     },
     "execution_count": 13,
     "metadata": {},
     "output_type": "execute_result"
    }
   ],
   "source": [
    "clf_svm2 = svm.SVC(kernel='rbf', C=1)\n",
    "scores_svm2 = cross_val_score(clf_svm2, X_train, y_train, cv=5)\n",
    "scores_svm2"
   ]
  },
  {
   "cell_type": "code",
   "execution_count": 14,
   "metadata": {},
   "outputs": [
    {
     "data": {
      "text/plain": [
       "0.998"
      ]
     },
     "execution_count": 14,
     "metadata": {},
     "output_type": "execute_result"
    }
   ],
   "source": [
    "clf_svm2.fit(X_train,y_train)\n",
    "pred2 = clf_svm2.predict(X_test)\n",
    "acc_score_svm2 = accuracy_score(y_test,pred2)\n",
    "acc_score_svm2"
   ]
  },
  {
   "cell_type": "code",
   "execution_count": 15,
   "metadata": {},
   "outputs": [
    {
     "name": "stdout",
     "output_type": "stream",
     "text": [
      "Sensitivity is 0.9797979797979798\n",
      "Specificity is 1.0\n"
     ]
    }
   ],
   "source": [
    "from sklearn.metrics import confusion_matrix\n",
    "cm = confusion_matrix(y_test,pred2)\n",
    "TP = cm[0][0]\n",
    "FP = cm[0][1]\n",
    "FN = cm[1][0]\n",
    "TN = cm[1][1]\n",
    "\n",
    "Sensitivity_svm2 = TP / (TP + FN)\n",
    "Specificity_svm2 = TN / (TN + FP)\n",
    "\n",
    "print(F\"Sensitivity is { Sensitivity_svm2 }\")\n",
    "print(F\"Specificity is { Specificity_svm2 }\")"
   ]
  },
  {
   "cell_type": "code",
   "execution_count": 16,
   "metadata": {},
   "outputs": [],
   "source": [
    "accuracy_list.append(acc_score_svm2)\n",
    "sensitivity_score.append(Sensitivity_svm2)\n",
    "specificity_score.append(Specificity_svm2)"
   ]
  },
  {
   "cell_type": "code",
   "execution_count": 17,
   "metadata": {},
   "outputs": [
    {
     "data": {
      "text/plain": [
       "array([0.99756691, 1.        , 0.99918897, 0.99756691, 0.99837662])"
      ]
     },
     "execution_count": 17,
     "metadata": {},
     "output_type": "execute_result"
    }
   ],
   "source": [
    "clf_svm3 = svm.SVC(C=0.1, cache_size=200, class_weight=None, coef0=0.0,\n",
    "  decision_function_shape='ovr', degree=3, gamma=1, kernel='linear',\n",
    "  max_iter=-1, probability=False, random_state=None, shrinking=True,\n",
    "  tol=0.001, verbose=False)\n",
    "scores_svm3 = cross_val_score(clf_svm3, X_train, y_train, cv=5)\n",
    "scores_svm3"
   ]
  },
  {
   "cell_type": "code",
   "execution_count": 18,
   "metadata": {},
   "outputs": [
    {
     "data": {
      "text/plain": [
       "0.998"
      ]
     },
     "execution_count": 18,
     "metadata": {},
     "output_type": "execute_result"
    }
   ],
   "source": [
    "clf_svm3.fit(X_train,y_train)\n",
    "pred3 = clf_svm3.predict(X_test)\n",
    "acc_score_svm3 = accuracy_score(y_test,pred3)\n",
    "acc_score_svm3"
   ]
  },
  {
   "cell_type": "code",
   "execution_count": 19,
   "metadata": {},
   "outputs": [
    {
     "name": "stdout",
     "output_type": "stream",
     "text": [
      "Sensitivity is 0.9797979797979798\n",
      "Specificity is 1.0\n"
     ]
    }
   ],
   "source": [
    "from sklearn.metrics import confusion_matrix\n",
    "cm = confusion_matrix(y_test,pred2)\n",
    "TP = cm[0][0]\n",
    "FP = cm[0][1]\n",
    "FN = cm[1][0]\n",
    "TN = cm[1][1]\n",
    "\n",
    "Sensitivity_svm3 = TP / (TP + FN)\n",
    "Specificity_svm3 = TN / (TN + FP)\n",
    "\n",
    "print(F\"Sensitivity is { Sensitivity_svm3 }\")\n",
    "print(F\"Specificity is { Specificity_svm3 }\")"
   ]
  },
  {
   "cell_type": "code",
   "execution_count": 20,
   "metadata": {},
   "outputs": [],
   "source": [
    "accuracy_list.append(acc_score_svm3)\n",
    "sensitivity_score.append(Sensitivity_svm3)\n",
    "specificity_score.append(Specificity_svm3)"
   ]
  },
  {
   "cell_type": "code",
   "execution_count": 21,
   "metadata": {},
   "outputs": [],
   "source": [
    "from sklearn.ensemble import VotingClassifier\n",
    "\n",
    "estimators = []\n",
    "estimators.append(('rf', clf))\n",
    "estimators.append(('svm', clf_svm1))\n",
    "estimators.append(('svm3', clf_svm3))\n",
    "# create the ensemble model\n",
    "ensemble = VotingClassifier(estimators)"
   ]
  },
  {
   "cell_type": "code",
   "execution_count": 22,
   "metadata": {},
   "outputs": [
    {
     "data": {
      "text/plain": [
       "array([0.99837794, 1.        , 0.99918897, 0.99837794, 0.99918831])"
      ]
     },
     "execution_count": 22,
     "metadata": {},
     "output_type": "execute_result"
    }
   ],
   "source": [
    "scores_ens = cross_val_score(ensemble, X_train, y_train, cv=5)\n",
    "scores_ens"
   ]
  },
  {
   "cell_type": "code",
   "execution_count": 23,
   "metadata": {},
   "outputs": [
    {
     "data": {
      "text/plain": [
       "0.999"
      ]
     },
     "execution_count": 23,
     "metadata": {},
     "output_type": "execute_result"
    }
   ],
   "source": [
    "ensemble.fit(X_train,y_train)\n",
    "pred4 = ensemble.predict(X_test)\n",
    "acc_score_ens = accuracy_score(y_test,pred4)\n",
    "acc_score_ens"
   ]
  },
  {
   "cell_type": "code",
   "execution_count": 24,
   "metadata": {},
   "outputs": [
    {
     "name": "stdout",
     "output_type": "stream",
     "text": [
      "Sensitivity is 0.9896907216494846\n",
      "Specificity is 0.9988925802879292\n"
     ]
    }
   ],
   "source": [
    "from sklearn.metrics import confusion_matrix\n",
    "cm = confusion_matrix(y_test,pred3)\n",
    "TP = cm[0][0]\n",
    "FP = cm[0][1]\n",
    "FN = cm[1][0]\n",
    "TN = cm[1][1]\n",
    "\n",
    "Sensitivity_ens = TP / (TP + FN)\n",
    "Specificity_ens = TN / (TN + FP)\n",
    "\n",
    "print(F\"Sensitivity is { Sensitivity_ens }\")\n",
    "print(F\"Specificity is { Specificity_ens }\")"
   ]
  },
  {
   "cell_type": "code",
   "execution_count": 25,
   "metadata": {},
   "outputs": [],
   "source": [
    "accuracy_list.append(acc_score_ens)\n",
    "sensitivity_score.append(Sensitivity_ens)\n",
    "specificity_score.append(Specificity_ens)"
   ]
  },
  {
   "cell_type": "code",
   "execution_count": 26,
   "metadata": {},
   "outputs": [
    {
     "data": {
      "text/plain": [
       "Text(0.5, 1.0, 'KFold trend of different Models')"
      ]
     },
     "execution_count": 26,
     "metadata": {},
     "output_type": "execute_result"
    },
    {
     "data": {
      "image/png": "[encoded data removed]",
      "text/plain": [
       "<Figure size 1296x216 with 1 Axes>"
      ]
     },
     "metadata": {
      "needs_background": "light"
     },
     "output_type": "display_data"
    }
   ],
   "source": [
    "import matplotlib.pyplot as plt\n",
    "%matplotlib inline\n",
    "\n",
    "fig= plt.figure(figsize=(18,3))\n",
    "plt.plot( [1,2,3,4,5], scores_RF, linewidth=2,label=\"RF\")\n",
    "plt.plot( [1,2,3,4,5], scores_svm1, linewidth=2,label=\"SVM1\")\n",
    "plt.plot( [1,2,3,4,5], scores_svm2, linewidth=2,label=\"SVM2\")\n",
    "plt.plot( [1,2,3,4,5], scores_svm3, linewidth=2,label=\"SVM3\")\n",
    "plt.plot( [1,2,3,4,5], scores_ens, linewidth=2,label=\"ENS\")\n",
    "plt.legend()\n",
    "plt.title(\"KFold trend of different Models\")\n",
    "\n"
   ]
  },
  {
   "cell_type": "code",
   "execution_count": 27,
   "metadata": {},
   "outputs": [
    {
     "data": {
      "text/plain": [
       "Text(0.5, 1.0, 'Bar plot of accuracy')"
      ]
     },
     "execution_count": 27,
     "metadata": {},
     "output_type": "execute_result"
    },
    {
     "data": {
      "image/png": "[encoded data removed]",
      "text/plain": [
       "<Figure size 648x432 with 1 Axes>"
      ]
     },
     "metadata": {
      "needs_background": "light"
     },
     "output_type": "display_data"
    }
   ],
   "source": [
    "import numpy as np\n",
    "accuracy_listnp = np.array(accuracy_list)\n",
    "accuracy_listnp = accuracy_listnp * 100\n",
    "\n",
    "fig= plt.figure(figsize=(9,6))\n",
    "plt.ylim( (0, 100) ) \n",
    "plt.bar([1,2,3,4,5],accuracy_listnp,color=['orange', 'red', 'green', 'blue', 'cyan'])\n",
    "plt.xticks([1,2,3,4,5], ('RF', 'SVM1', 'SVM2', 'SVM3', 'ENSEMBLE'))\n",
    "plt.title(\"Bar plot of accuracy\")"
   ]
  },
  {
   "cell_type": "code",
   "execution_count": 28,
   "metadata": {},
   "outputs": [
    {
     "data": {
      "text/plain": [
       "<Figure size 864x432 with 0 Axes>"
      ]
     },
     "metadata": {},
     "output_type": "display_data"
    },
    {
     "data": {
      "image/png": "[encoded data removed]",
      "text/plain": [
       "<Figure size 432x288 with 1 Axes>"
      ]
     },
     "metadata": {
      "needs_background": "light"
     },
     "output_type": "display_data"
    }
   ],
   "source": [
    "fig= plt.figure(figsize=(12,6))\n",
    "\n",
    "# data to plot\n",
    "n_groups = 5\n",
    "sensitivity_scorenp = np.array(sensitivity_score)\n",
    "sensitivity_scorenp = sensitivity_scorenp * 100\n",
    "specificity_scorenp = np.array(specificity_score)\n",
    "specificity_scorenp = specificity_scorenp * 100\n",
    "\n",
    "# create plot\n",
    "fig, ax = plt.subplots()\n",
    "index = np.arange(n_groups)\n",
    "bar_width = 0.35\n",
    "opacity = 0.8\n",
    "\n",
    "rects1 = plt.bar(index, sensitivity_scorenp, bar_width,\n",
    "alpha=opacity,\n",
    "color='b',\n",
    "label='Sensitivity')\n",
    "\n",
    "rects2 = plt.bar(index + bar_width, specificity_scorenp, bar_width,\n",
    "alpha=opacity,\n",
    "color='g',\n",
    "label='specificity')\n",
    "\n",
    "plt.xlabel('Models')\n",
    "plt.ylabel('Scores')\n",
    "plt.title('Sensitivity and Specificity')\n",
    "plt.xticks(index + bar_width, ('RF', 'SVM1', 'SVM2', 'SVM3', 'ENSEMBLE'))\n",
    "plt.ylim(0,100)\n",
    "plt.legend()\n",
    "\n",
    "plt.tight_layout()\n",
    "plt.show()"
   ]
  },
  {
   "cell_type": "markdown",
   "metadata": {},
   "source": [
    "# MRMR"
   ]
  },
  {
   "cell_type": "code",
   "execution_count": 29,
   "metadata": {},
   "outputs": [],
   "source": [
    "mrmr_feature = [['energy_psd', 'zcr_ca4', 'mean_ca2', 'std_fftw', 'var_fftw', 'zcr_cd1', 'rms_ca2', 'zcr_ca2', 'rms_fft', 'mean_fftw', 'rms_cd1', 'energy_fft', 'zcr_ca1', 'mean_cd1', 'rms_ca1', 'rms_fftw', 'mean_ca3', 'mean_ca1', 'rms_ca3', 'mean_fft', 'zcr_ca3', 'rms', 'mean_ca4', 'std_fft', 'var_fft', 'zcr', 'rms_ca4', 'skew_ca4', 'std_ca2', 'energy_fftw', 'mcr', 'ac0', 'skew_ca3', 'CF_ca4', 'mcr_ca1', 'skew_ca2', 'mcr_ca2', 'std', 'mode_fftw', 'CF_ca3', 'ac36', 'skew_ca1', 'var', 'std_ca4', 'kurt_ca4', 'CF_ca2', 'energy', 'ac103', 'mcr_cd1', 'skew'],['energy_psd', 'zcr_ca4', 'mean_ca2', 'std_fftw', 'var_fftw', 'zcr_cd1', 'rms_ca2', 'zcr_ca2', 'rms_fft', 'mean_fftw', 'rms_cd1', 'energy_fft', 'zcr_ca1', 'mean_cd1', 'rms_ca1', 'rms_fftw', 'mean_ca3', 'mean_ca1', 'rms_ca3', 'mean_fft', 'zcr_ca3', 'rms', 'mean_ca4', 'std_fft', 'var_fft', 'zcr', 'rms_ca4', 'skew_ca4', 'std_ca2', 'energy_fftw', 'mcr', 'ac0', 'skew_ca3', 'CF_ca4', 'mcr_ca1', 'skew_ca2', 'mcr_ca2', 'std', 'mode_fftw', 'CF_ca3'],['energy_psd', 'zcr_ca4', 'mean_ca2', 'std_fftw', 'var_fftw', 'zcr_cd1', 'rms_ca2', 'zcr_ca2', 'rms_fft', 'mean_fftw', 'rms_cd1', 'energy_fft', 'zcr_ca1', 'mean_cd1', 'rms_ca1', 'rms_fftw', 'mean_ca3', 'mean_ca1', 'rms_ca3', 'mean_fft', 'zcr_ca3', 'rms', 'mean_ca4', 'std_fft', 'var_fft', 'zcr', 'rms_ca4', 'skew_ca4', 'std_ca2', 'energy_fftw'],['energy_psd', 'zcr_ca4', 'mean_ca2', 'std_fftw', 'var_fftw', 'zcr_cd1', 'rms_ca2', 'zcr_ca2', 'rms_fft', 'mean_fftw', 'rms_cd1', 'energy_fft', 'zcr_ca1', 'mean_cd1', 'rms_ca1', 'rms_fftw', 'mean_ca3', 'mean_ca1', 'rms_ca3', 'mean_fft'],['energy_psd', 'zcr_ca4', 'mean_ca2', 'std_fftw', 'var_fftw', 'zcr_cd1', 'rms_ca2', 'zcr_ca2', 'rms_fft', 'mean_fftw']]"
   ]
  },
  {
   "cell_type": "code",
   "execution_count": 30,
   "metadata": {},
   "outputs": [
    {
     "name": "stdout",
     "output_type": "stream",
     "text": [
      "*************************************************\n",
      "features in use - \n",
      " ['energy_psd', 'zcr_ca4', 'mean_ca2', 'std_fftw', 'var_fftw', 'zcr_cd1', 'rms_ca2', 'zcr_ca2', 'rms_fft', 'mean_fftw', 'rms_cd1', 'energy_fft', 'zcr_ca1', 'mean_cd1', 'rms_ca1', 'rms_fftw', 'mean_ca3', 'mean_ca1', 'rms_ca3', 'mean_fft', 'zcr_ca3', 'rms', 'mean_ca4', 'std_fft', 'var_fft', 'zcr', 'rms_ca4', 'skew_ca4', 'std_ca2', 'energy_fftw', 'mcr', 'ac0', 'skew_ca3', 'CF_ca4', 'mcr_ca1', 'skew_ca2', 'mcr_ca2', 'std', 'mode_fftw', 'CF_ca3', 'ac36', 'skew_ca1', 'var', 'std_ca4', 'kurt_ca4', 'CF_ca2', 'energy', 'ac103', 'mcr_cd1', 'skew']\n"
     ]
    },
    {
     "name": "stderr",
     "output_type": "stream",
     "text": [
      "C:\\Users\\user\\Anaconda3\\lib\\site-packages\\sklearn\\preprocessing\\data.py:645: DataConversionWarning: Data with input dtype int64, float64 were all converted to float64 by StandardScaler.\n",
      "  return self.partial_fit(X, y)\n",
      "C:\\Users\\user\\Anaconda3\\lib\\site-packages\\ipykernel_launcher.py:20: DataConversionWarning: Data with input dtype int64, float64 were all converted to float64 by StandardScaler.\n",
      "C:\\Users\\user\\Anaconda3\\lib\\site-packages\\sklearn\\preprocessing\\data.py:645: DataConversionWarning: Data with input dtype int64, float64 were all converted to float64 by StandardScaler.\n",
      "  return self.partial_fit(X, y)\n",
      "C:\\Users\\user\\Anaconda3\\lib\\site-packages\\ipykernel_launcher.py:22: DataConversionWarning: Data with input dtype int64, float64 were all converted to float64 by StandardScaler.\n"
     ]
    },
    {
     "name": "stdout",
     "output_type": "stream",
     "text": [
      "training score for RF is - [0.99675588 0.99594485 0.99351176 0.99756691 0.99594156]\n",
      "test acc_score for RF is - 0.984\n",
      "Sensitivity for RF is 1.0\n",
      "Specificity for RF is 0.9825897714907508\n",
      "training score for svm linear is - [0.98459043 0.98864558 0.98864558 0.98459043 0.98376623]\n",
      "test acc_score for svm linear is - 0.982\n",
      "Sensitivity for svm linear is 0.9759036144578314\n",
      "Specificity for svm linear is 0.9825517993456925\n"
     ]
    },
    {
     "name": "stderr",
     "output_type": "stream",
     "text": [
      "C:\\Users\\user\\Anaconda3\\lib\\site-packages\\sklearn\\svm\\base.py:196: FutureWarning: The default value of gamma will change from 'auto' to 'scale' in version 0.22 to account better for unscaled features. Set gamma explicitly to 'auto' or 'scale' to avoid this warning.\n",
      "  \"avoid this warning.\", FutureWarning)\n",
      "C:\\Users\\user\\Anaconda3\\lib\\site-packages\\sklearn\\svm\\base.py:196: FutureWarning: The default value of gamma will change from 'auto' to 'scale' in version 0.22 to account better for unscaled features. Set gamma explicitly to 'auto' or 'scale' to avoid this warning.\n",
      "  \"avoid this warning.\", FutureWarning)\n",
      "C:\\Users\\user\\Anaconda3\\lib\\site-packages\\sklearn\\svm\\base.py:196: FutureWarning: The default value of gamma will change from 'auto' to 'scale' in version 0.22 to account better for unscaled features. Set gamma explicitly to 'auto' or 'scale' to avoid this warning.\n",
      "  \"avoid this warning.\", FutureWarning)\n",
      "C:\\Users\\user\\Anaconda3\\lib\\site-packages\\sklearn\\svm\\base.py:196: FutureWarning: The default value of gamma will change from 'auto' to 'scale' in version 0.22 to account better for unscaled features. Set gamma explicitly to 'auto' or 'scale' to avoid this warning.\n",
      "  \"avoid this warning.\", FutureWarning)\n",
      "C:\\Users\\user\\Anaconda3\\lib\\site-packages\\sklearn\\svm\\base.py:196: FutureWarning: The default value of gamma will change from 'auto' to 'scale' in version 0.22 to account better for unscaled features. Set gamma explicitly to 'auto' or 'scale' to avoid this warning.\n",
      "  \"avoid this warning.\", FutureWarning)\n"
     ]
    },
    {
     "name": "stdout",
     "output_type": "stream",
     "text": [
      "training score for svm rbf is - [0.99270073 0.9918897  0.99675588 0.99432279 0.99269481]\n",
      "test acc_score for svm rbf is - 0.983\n",
      "Sensitivity for svm rbf is 0.9761904761904762\n",
      "Specificity for svm rbf is 0.9836244541484717\n",
      "training score for svm rbf is - [0.98134631 0.98459043 0.98621249 0.98296837 0.98782468]\n",
      "test acc_score for svm rbf is - 0.965\n",
      "Sensitivity for svm rbf is 0.9305555555555556\n",
      "Specificity for svm rbf is 0.9676724137931034\n",
      "score for eensemble is - [0.98621249 0.98864558 0.98945661 0.98621249 0.98944805]\n",
      "acc_score for ensemble is - 0.977\n",
      "Sensitivity for ensemble is 0.9743589743589743\n",
      "Specificity for ensemble is 0.9772234273318872\n",
      "*************************************************\n",
      "features in use - \n",
      " ['energy_psd', 'zcr_ca4', 'mean_ca2', 'std_fftw', 'var_fftw', 'zcr_cd1', 'rms_ca2', 'zcr_ca2', 'rms_fft', 'mean_fftw', 'rms_cd1', 'energy_fft', 'zcr_ca1', 'mean_cd1', 'rms_ca1', 'rms_fftw', 'mean_ca3', 'mean_ca1', 'rms_ca3', 'mean_fft', 'zcr_ca3', 'rms', 'mean_ca4', 'std_fft', 'var_fft', 'zcr', 'rms_ca4', 'skew_ca4', 'std_ca2', 'energy_fftw', 'mcr', 'ac0', 'skew_ca3', 'CF_ca4', 'mcr_ca1', 'skew_ca2', 'mcr_ca2', 'std', 'mode_fftw', 'CF_ca3']\n"
     ]
    },
    {
     "name": "stderr",
     "output_type": "stream",
     "text": [
      "C:\\Users\\user\\Anaconda3\\lib\\site-packages\\sklearn\\preprocessing\\data.py:645: DataConversionWarning: Data with input dtype int64, float64 were all converted to float64 by StandardScaler.\n",
      "  return self.partial_fit(X, y)\n",
      "C:\\Users\\user\\Anaconda3\\lib\\site-packages\\ipykernel_launcher.py:20: DataConversionWarning: Data with input dtype int64, float64 were all converted to float64 by StandardScaler.\n",
      "C:\\Users\\user\\Anaconda3\\lib\\site-packages\\sklearn\\preprocessing\\data.py:645: DataConversionWarning: Data with input dtype int64, float64 were all converted to float64 by StandardScaler.\n",
      "  return self.partial_fit(X, y)\n",
      "C:\\Users\\user\\Anaconda3\\lib\\site-packages\\ipykernel_launcher.py:22: DataConversionWarning: Data with input dtype int64, float64 were all converted to float64 by StandardScaler.\n"
     ]
    },
    {
     "name": "stdout",
     "output_type": "stream",
     "text": [
      "training score for RF is - [0.99675588 0.99270073 0.99513382 0.99513382 0.99269481]\n",
      "test acc_score for RF is - 0.989\n",
      "Sensitivity for RF is 1.0\n",
      "Specificity for RF is 0.9879649890590809\n",
      "training score for svm linear is - [0.98621249 0.99026764 0.98540146 0.98459043 0.98214286]\n",
      "test acc_score for svm linear is - 0.967\n",
      "Sensitivity for svm linear is 0.9210526315789473\n",
      "Specificity for svm linear is 0.9707792207792207\n"
     ]
    },
    {
     "name": "stderr",
     "output_type": "stream",
     "text": [
      "C:\\Users\\user\\Anaconda3\\lib\\site-packages\\sklearn\\svm\\base.py:196: FutureWarning: The default value of gamma will change from 'auto' to 'scale' in version 0.22 to account better for unscaled features. Set gamma explicitly to 'auto' or 'scale' to avoid this warning.\n",
      "  \"avoid this warning.\", FutureWarning)\n",
      "C:\\Users\\user\\Anaconda3\\lib\\site-packages\\sklearn\\svm\\base.py:196: FutureWarning: The default value of gamma will change from 'auto' to 'scale' in version 0.22 to account better for unscaled features. Set gamma explicitly to 'auto' or 'scale' to avoid this warning.\n",
      "  \"avoid this warning.\", FutureWarning)\n",
      "C:\\Users\\user\\Anaconda3\\lib\\site-packages\\sklearn\\svm\\base.py:196: FutureWarning: The default value of gamma will change from 'auto' to 'scale' in version 0.22 to account better for unscaled features. Set gamma explicitly to 'auto' or 'scale' to avoid this warning.\n",
      "  \"avoid this warning.\", FutureWarning)\n",
      "C:\\Users\\user\\Anaconda3\\lib\\site-packages\\sklearn\\svm\\base.py:196: FutureWarning: The default value of gamma will change from 'auto' to 'scale' in version 0.22 to account better for unscaled features. Set gamma explicitly to 'auto' or 'scale' to avoid this warning.\n",
      "  \"avoid this warning.\", FutureWarning)\n",
      "C:\\Users\\user\\Anaconda3\\lib\\site-packages\\sklearn\\svm\\base.py:196: FutureWarning: The default value of gamma will change from 'auto' to 'scale' in version 0.22 to account better for unscaled features. Set gamma explicitly to 'auto' or 'scale' to avoid this warning.\n",
      "  \"avoid this warning.\", FutureWarning)\n"
     ]
    },
    {
     "name": "stdout",
     "output_type": "stream",
     "text": [
      "training score for svm rbf is - [0.9918897  0.99026764 0.99351176 0.99270073 0.99025974]\n",
      "test acc_score for svm rbf is - 0.975\n",
      "Sensitivity for svm rbf is 0.9615384615384616\n",
      "Specificity for svm rbf is 0.9761388286334056\n",
      "training score for svm rbf is - [0.98053528 0.98134631 0.97891322 0.98215734 0.98376623]\n",
      "test acc_score for svm rbf is - 0.96\n",
      "Sensitivity for svm rbf is 0.9130434782608695\n",
      "Specificity for svm rbf is 0.9634801288936627\n",
      "score for eensemble is - [0.98621249 0.99026764 0.98702352 0.98702352 0.98701299]\n",
      "acc_score for ensemble is - 0.967\n",
      "Sensitivity for ensemble is 0.9210526315789473\n",
      "Specificity for ensemble is 0.9707792207792207\n",
      "*************************************************\n",
      "features in use - \n",
      " ['energy_psd', 'zcr_ca4', 'mean_ca2', 'std_fftw', 'var_fftw', 'zcr_cd1', 'rms_ca2', 'zcr_ca2', 'rms_fft', 'mean_fftw', 'rms_cd1', 'energy_fft', 'zcr_ca1', 'mean_cd1', 'rms_ca1', 'rms_fftw', 'mean_ca3', 'mean_ca1', 'rms_ca3', 'mean_fft', 'zcr_ca3', 'rms', 'mean_ca4', 'std_fft', 'var_fft', 'zcr', 'rms_ca4', 'skew_ca4', 'std_ca2', 'energy_fftw']\n",
      "training score for RF is - [0.99432279 0.99026764 0.99432279 0.99351176 0.99188312]\n",
      "test acc_score for RF is - 0.971\n",
      "Sensitivity for RF is 1.0\n",
      "Specificity for RF is 0.9688841201716738\n",
      "training score for svm linear is - [0.98215734 0.97323601 0.97810219 0.97972425 0.97564935]\n",
      "test acc_score for svm linear is - 0.953\n",
      "Sensitivity for svm linear is 0.9629629629629629\n",
      "Specificity for svm linear is 0.952431289640592\n"
     ]
    },
    {
     "name": "stderr",
     "output_type": "stream",
     "text": [
      "C:\\Users\\user\\Anaconda3\\lib\\site-packages\\sklearn\\svm\\base.py:196: FutureWarning: The default value of gamma will change from 'auto' to 'scale' in version 0.22 to account better for unscaled features. Set gamma explicitly to 'auto' or 'scale' to avoid this warning.\n",
      "  \"avoid this warning.\", FutureWarning)\n",
      "C:\\Users\\user\\Anaconda3\\lib\\site-packages\\sklearn\\svm\\base.py:196: FutureWarning: The default value of gamma will change from 'auto' to 'scale' in version 0.22 to account better for unscaled features. Set gamma explicitly to 'auto' or 'scale' to avoid this warning.\n",
      "  \"avoid this warning.\", FutureWarning)\n",
      "C:\\Users\\user\\Anaconda3\\lib\\site-packages\\sklearn\\svm\\base.py:196: FutureWarning: The default value of gamma will change from 'auto' to 'scale' in version 0.22 to account better for unscaled features. Set gamma explicitly to 'auto' or 'scale' to avoid this warning.\n",
      "  \"avoid this warning.\", FutureWarning)\n",
      "C:\\Users\\user\\Anaconda3\\lib\\site-packages\\sklearn\\svm\\base.py:196: FutureWarning: The default value of gamma will change from 'auto' to 'scale' in version 0.22 to account better for unscaled features. Set gamma explicitly to 'auto' or 'scale' to avoid this warning.\n",
      "  \"avoid this warning.\", FutureWarning)\n",
      "C:\\Users\\user\\Anaconda3\\lib\\site-packages\\sklearn\\svm\\base.py:196: FutureWarning: The default value of gamma will change from 'auto' to 'scale' in version 0.22 to account better for unscaled features. Set gamma explicitly to 'auto' or 'scale' to avoid this warning.\n",
      "  \"avoid this warning.\", FutureWarning)\n"
     ]
    },
    {
     "name": "stdout",
     "output_type": "stream",
     "text": [
      "training score for svm rbf is - [0.98783455 0.98702352 0.98945661 0.98621249 0.98863636]\n",
      "test acc_score for svm rbf is - 0.971\n",
      "Sensitivity for svm rbf is 0.9722222222222222\n",
      "Specificity for svm rbf is 0.9709051724137931\n",
      "training score for svm rbf is - [0.97972425 0.97161395 0.97485807 0.97729116 0.97727273]\n",
      "test acc_score for svm rbf is - 0.947\n",
      "Sensitivity for svm rbf is 0.94\n",
      "Specificity for svm rbf is 0.9473684210526315\n",
      "score for eensemble is - [0.98215734 0.97323601 0.97891322 0.97972425 0.97727273]\n",
      "acc_score for ensemble is - 0.952\n",
      "Sensitivity for ensemble is 0.9622641509433962\n",
      "Specificity for ensemble is 0.9514255543822597\n",
      "*************************************************\n",
      "features in use - \n",
      " ['energy_psd', 'zcr_ca4', 'mean_ca2', 'std_fftw', 'var_fftw', 'zcr_cd1', 'rms_ca2', 'zcr_ca2', 'rms_fft', 'mean_fftw', 'rms_cd1', 'energy_fft', 'zcr_ca1', 'mean_cd1', 'rms_ca1', 'rms_fftw', 'mean_ca3', 'mean_ca1', 'rms_ca3', 'mean_fft']\n",
      "training score for RF is - [0.98540146 0.98296837 0.97891322 0.97972425 0.97564935]\n",
      "test acc_score for RF is - 0.967\n",
      "Sensitivity for RF is 0.9848484848484849\n",
      "Specificity for RF is 0.9657387580299786\n",
      "training score for svm linear is - [0.97485807 0.9594485  0.96593674 0.96512571 0.96672078]\n",
      "test acc_score for svm linear is - 0.926\n",
      "Sensitivity for svm linear is 0.7555555555555555\n",
      "Specificity for svm linear is 0.9340314136125655\n"
     ]
    },
    {
     "name": "stderr",
     "output_type": "stream",
     "text": [
      "C:\\Users\\user\\Anaconda3\\lib\\site-packages\\sklearn\\svm\\base.py:196: FutureWarning: The default value of gamma will change from 'auto' to 'scale' in version 0.22 to account better for unscaled features. Set gamma explicitly to 'auto' or 'scale' to avoid this warning.\n",
      "  \"avoid this warning.\", FutureWarning)\n",
      "C:\\Users\\user\\Anaconda3\\lib\\site-packages\\sklearn\\svm\\base.py:196: FutureWarning: The default value of gamma will change from 'auto' to 'scale' in version 0.22 to account better for unscaled features. Set gamma explicitly to 'auto' or 'scale' to avoid this warning.\n",
      "  \"avoid this warning.\", FutureWarning)\n",
      "C:\\Users\\user\\Anaconda3\\lib\\site-packages\\sklearn\\svm\\base.py:196: FutureWarning: The default value of gamma will change from 'auto' to 'scale' in version 0.22 to account better for unscaled features. Set gamma explicitly to 'auto' or 'scale' to avoid this warning.\n",
      "  \"avoid this warning.\", FutureWarning)\n",
      "C:\\Users\\user\\Anaconda3\\lib\\site-packages\\sklearn\\svm\\base.py:196: FutureWarning: The default value of gamma will change from 'auto' to 'scale' in version 0.22 to account better for unscaled features. Set gamma explicitly to 'auto' or 'scale' to avoid this warning.\n",
      "  \"avoid this warning.\", FutureWarning)\n",
      "C:\\Users\\user\\Anaconda3\\lib\\site-packages\\sklearn\\svm\\base.py:196: FutureWarning: The default value of gamma will change from 'auto' to 'scale' in version 0.22 to account better for unscaled features. Set gamma explicitly to 'auto' or 'scale' to avoid this warning.\n",
      "  \"avoid this warning.\", FutureWarning)\n"
     ]
    },
    {
     "name": "stdout",
     "output_type": "stream",
     "text": [
      "training score for svm rbf is - [0.9756691  0.97404704 0.97404704 0.97891322 0.97483766]\n",
      "test acc_score for svm rbf is - 0.941\n",
      "Sensitivity for svm rbf is 0.8392857142857143\n",
      "Specificity for svm rbf is 0.9470338983050848\n",
      "training score for svm rbf is - [0.96999189 0.95782644 0.96512571 0.96593674 0.9650974 ]\n",
      "test acc_score for svm rbf is - 0.925\n",
      "Sensitivity for svm rbf is 0.775\n",
      "Specificity for svm rbf is 0.93125\n",
      "score for eensemble is - [0.97404704 0.9594485  0.9675588  0.9675588  0.96672078]\n",
      "acc_score for ensemble is - 0.929\n",
      "Sensitivity for ensemble is 0.8095238095238095\n",
      "Specificity for ensemble is 0.9342379958246346\n",
      "*************************************************\n",
      "features in use - \n",
      " ['energy_psd', 'zcr_ca4', 'mean_ca2', 'std_fftw', 'var_fftw', 'zcr_cd1', 'rms_ca2', 'zcr_ca2', 'rms_fft', 'mean_fftw']\n",
      "training score for RF is - [0.98296837 0.9837794  0.98134631 0.98296837 0.97564935]\n",
      "test acc_score for RF is - 0.954\n",
      "Sensitivity for RF is 0.9473684210526315\n",
      "Specificity for RF is 0.9544008483563097\n",
      "training score for svm linear is - [0.97080292 0.95782644 0.96431468 0.9675588  0.9650974 ]\n",
      "test acc_score for svm linear is - 0.925\n",
      "Sensitivity for svm linear is 0.7619047619047619\n",
      "Specificity for svm linear is 0.9321503131524008\n"
     ]
    },
    {
     "name": "stderr",
     "output_type": "stream",
     "text": [
      "C:\\Users\\user\\Anaconda3\\lib\\site-packages\\sklearn\\svm\\base.py:196: FutureWarning: The default value of gamma will change from 'auto' to 'scale' in version 0.22 to account better for unscaled features. Set gamma explicitly to 'auto' or 'scale' to avoid this warning.\n",
      "  \"avoid this warning.\", FutureWarning)\n",
      "C:\\Users\\user\\Anaconda3\\lib\\site-packages\\sklearn\\svm\\base.py:196: FutureWarning: The default value of gamma will change from 'auto' to 'scale' in version 0.22 to account better for unscaled features. Set gamma explicitly to 'auto' or 'scale' to avoid this warning.\n",
      "  \"avoid this warning.\", FutureWarning)\n",
      "C:\\Users\\user\\Anaconda3\\lib\\site-packages\\sklearn\\svm\\base.py:196: FutureWarning: The default value of gamma will change from 'auto' to 'scale' in version 0.22 to account better for unscaled features. Set gamma explicitly to 'auto' or 'scale' to avoid this warning.\n",
      "  \"avoid this warning.\", FutureWarning)\n",
      "C:\\Users\\user\\Anaconda3\\lib\\site-packages\\sklearn\\svm\\base.py:196: FutureWarning: The default value of gamma will change from 'auto' to 'scale' in version 0.22 to account better for unscaled features. Set gamma explicitly to 'auto' or 'scale' to avoid this warning.\n",
      "  \"avoid this warning.\", FutureWarning)\n",
      "C:\\Users\\user\\Anaconda3\\lib\\site-packages\\sklearn\\svm\\base.py:196: FutureWarning: The default value of gamma will change from 'auto' to 'scale' in version 0.22 to account better for unscaled features. Set gamma explicitly to 'auto' or 'scale' to avoid this warning.\n",
      "  \"avoid this warning.\", FutureWarning)\n"
     ]
    },
    {
     "name": "stdout",
     "output_type": "stream",
     "text": [
      "training score for svm rbf is - [0.97729116 0.9675588  0.9756691  0.97648013 0.97483766]\n",
      "test acc_score for svm rbf is - 0.936\n",
      "Sensitivity for svm rbf is 0.8\n",
      "Specificity for svm rbf is 0.9439153439153439\n",
      "training score for svm rbf is - [0.96999189 0.95782644 0.96431468 0.96674777 0.9650974 ]\n",
      "test acc_score for svm rbf is - 0.925\n",
      "Sensitivity for svm rbf is 0.7894736842105263\n",
      "Specificity for svm rbf is 0.9303534303534303\n",
      "score for eensemble is - [0.97080292 0.95863747 0.96512571 0.96918086 0.9650974 ]\n",
      "acc_score for ensemble is - 0.926\n",
      "Sensitivity for ensemble is 0.7948717948717948\n",
      "Specificity for ensemble is 0.931321540062435\n"
     ]
    }
   ],
   "source": [
    "training_score = []\n",
    "test_score = []\n",
    "sensitivity = []\n",
    "specificity = []\n",
    "i = 0\n",
    "for fea_set in mrmr_feature:\n",
    "    print(\"*************************************************\")\n",
    "    print(F\"features in use - \\n { fea_set }\")\n",
    "    try:\n",
    "        del X_train,clfrf,clf_svm1_lin,clf_svm_rbf,ensemble\n",
    "    except NameError as e:\n",
    "        pass\n",
    "    X_train = df_feature[fea_set]\n",
    "    y_train = df_feature['label']\n",
    "    X_test = df_featuret[fea_set]\n",
    "    y_test = df_featuret['label']\n",
    "    #scale\n",
    "    scaler = StandardScaler()\n",
    "    scaler.fit(X_train)\n",
    "    X_train = scaler.transform(X_train)\n",
    "    scaler.fit(X_test)\n",
    "    X_test = scaler.transform(X_test)\n",
    "    #RF\n",
    "    RFC_METRIC = 'entropy'  #metric used for RandomForrestClassifier\n",
    "    NUM_ESTIMATORS = 100 #number of estimators used for RandomForrestClassifier\n",
    "    NO_JOBS = -1 #number of parallel jobs used for RandomForrestClassifier\n",
    "    clf = RandomForestClassifier(n_jobs=NO_JOBS, \n",
    "                                 random_state=2000,\n",
    "                                 criterion=RFC_METRIC,\n",
    "                                 n_estimators=NUM_ESTIMATORS,\n",
    "                                 verbose=False)\n",
    "\n",
    "    scores_rf = cross_val_score(clf, X_train, y_train, cv=5)\n",
    "    training_score.append(scores_rf)\n",
    "    print(F\"training score for RF is - { scores_rf }\")\n",
    "    clf.fit(X_train,y_train)\n",
    "    pred1 = clf.predict(X_test)\n",
    "    acc_score_rf = accuracy_score(y_test,pred1)\n",
    "    test_score.append(acc_score_rf)\n",
    "    print(F\"test acc_score for RF is - { acc_score_rf }\")\n",
    "    #Confusion matrix\n",
    "    cm = confusion_matrix(y_test,pred1)\n",
    "    TP = cm[0][0]\n",
    "    FP = cm[0][1]\n",
    "    FN = cm[1][0]\n",
    "    TN = cm[1][1]\n",
    "\n",
    "    Sensitivity_rf = TP / (TP + FN)\n",
    "    Specificity_rf = TN / (TN + FP)\n",
    "\n",
    "    print(F\"Sensitivity for RF is { Sensitivity_rf }\")\n",
    "    print(F\"Specificity for RF is { Specificity_rf }\")\n",
    "    \n",
    "    sensitivity.append(Sensitivity_rf)\n",
    "    specificity.append(Specificity_rf)\n",
    "    \n",
    "    #SVM linear\n",
    "    \n",
    "    clf_svm1 = svm.SVC(kernel='linear', C=1)\n",
    "    scores_svm1 = cross_val_score(clf_svm1, X_train, y_train, cv=5)\n",
    "    training_score.append(scores_svm1)\n",
    "    print(F\"training score for svm linear is - { scores_svm1 }\")\n",
    "    clf_svm1.fit(X_train,y_train)\n",
    "    pred2 = clf_svm1.predict(X_test)\n",
    "    acc_score_svm1 = accuracy_score(y_test,pred2)\n",
    "    print(F\"test acc_score for svm linear is - { acc_score_svm1 }\")\n",
    "    test_score.append(acc_score_svm1)\n",
    "    #Confusion matrix\n",
    "    cm = confusion_matrix(y_test,pred2)\n",
    "    TP = cm[0][0] \n",
    "    FP = cm[0][1]\n",
    "    FN = cm[1][0]\n",
    "    TN = cm[1][1]\n",
    "\n",
    "    Sensitivity_svm1 = TP / (TP + FN)\n",
    "    Specificity_svm1 = TN / (TN + FP)\n",
    "\n",
    "    print(F\"Sensitivity for svm linear is { Sensitivity_svm1 }\")\n",
    "    print(F\"Specificity for svm linear is { Specificity_svm1 }\")\n",
    "    \n",
    "    sensitivity.append(Sensitivity_svm1)\n",
    "    specificity.append(Specificity_svm1)\n",
    "    \n",
    "    #SVM rbf\n",
    "    clf_svm2 = svm.SVC(kernel='rbf', C=1)\n",
    "    scores_svm2 = cross_val_score(clf_svm2, X_train, y_train, cv=5)\n",
    "    training_score.append(scores_svm2)\n",
    "    print(F\"training score for svm rbf is - { scores_svm2 }\")\n",
    "    clf_svm2.fit(X_train,y_train)\n",
    "    pred3 = clf_svm2.predict(X_test)\n",
    "    acc_score_svm2 = accuracy_score(y_test,pred3)\n",
    "    print(F\"test acc_score for svm rbf is - { acc_score_svm2 }\")\n",
    "    test_score.append(acc_score_svm2)\n",
    "    #Confusion matrix\n",
    "    cm = confusion_matrix(y_test,pred3)\n",
    "    TP = cm[0][0]\n",
    "    FP = cm[0][1]\n",
    "    FN = cm[1][0]\n",
    "    TN = cm[1][1]\n",
    "\n",
    "    Sensitivity_svm2 = TP / (TP + FN)\n",
    "    Specificity_svm2 = TN / (TN + FP)\n",
    "\n",
    "    print(F\"Sensitivity for svm rbf is { Sensitivity_svm2 }\")\n",
    "    print(F\"Specificity for svm rbf is { Specificity_svm2 }\")\n",
    "    \n",
    "    sensitivity.append(Sensitivity_svm2)\n",
    "    specificity.append(Specificity_svm2)\n",
    "    #svm3\n",
    "    clf_svm3 = svm.SVC(C=0.1, cache_size=200, class_weight=None, coef0=0.0,\n",
    "      decision_function_shape='ovr', degree=3, gamma=1, kernel='linear',\n",
    "      max_iter=-1, probability=False, random_state=None, shrinking=True,\n",
    "      tol=0.001, verbose=False)\n",
    "    scores_svm3 = cross_val_score(clf_svm3, X_train, y_train, cv=5)\n",
    "    print(F\"training score for svm rbf is - { scores_svm3 }\")\n",
    "    training_score.append(scores_svm3)\n",
    "    clf_svm3.fit(X_train,y_train)\n",
    "    pred4 = clf_svm3.predict(X_test)\n",
    "    acc_score_svm3 = accuracy_score(y_test,pred4)\n",
    "    print(F\"test acc_score for svm rbf is - { acc_score_svm3 }\")\n",
    "    test_score.append(acc_score_svm3)\n",
    "    cm = confusion_matrix(y_test,pred4)\n",
    "    TP = cm[0][0]\n",
    "    FP = cm[0][1]\n",
    "    FN = cm[1][0]\n",
    "    TN = cm[1][1]\n",
    "\n",
    "    Sensitivity_svm3 = TP / (TP + FN)\n",
    "    Specificity_svm3 = TN / (TN + FP)\n",
    "\n",
    "    print(F\"Sensitivity for svm rbf is { Sensitivity_svm3 }\")\n",
    "    print(F\"Specificity for svm rbf is { Specificity_svm3 }\")\n",
    "    \n",
    "    sensitivity.append(Sensitivity_svm3)\n",
    "    specificity.append(Specificity_svm3)\n",
    "    #ensemble\n",
    "    estimators = []\n",
    "    estimators.append(('rf', clf))\n",
    "    estimators.append(('svm', clf_svm1))\n",
    "    estimators.append(('svm3', clf_svm3))\n",
    "    # create the ensemble model\n",
    "    ensemble = VotingClassifier(estimators)\n",
    "    scores_ens = cross_val_score(ensemble, X_train, y_train, cv=5)\n",
    "    training_score.append(scores_ens)\n",
    "    print(F\"score for eensemble is - { scores_ens }\")\n",
    "    ensemble.fit(X_train,y_train)\n",
    "    pred4 = ensemble.predict(X_test)\n",
    "    acc_score_ens = accuracy_score(y_test,pred4)   \n",
    "    print(F\"acc_score for ensemble is - { acc_score_ens }\")\n",
    "    test_score.append(acc_score_ens)\n",
    "    cm = confusion_matrix(y_test,pred4)\n",
    "    TP = cm[0][0]\n",
    "    FP = cm[0][1]\n",
    "    FN = cm[1][0]\n",
    "    TN = cm[1][1]\n",
    "\n",
    "    Sensitivity_ens = TP / (TP + FN)\n",
    "    Specificity_ens = TN / (TN + FP)\n",
    "    sensitivity.append(Sensitivity_ens)\n",
    "    specificity.append(Specificity_ens)\n",
    "\n",
    "    print(F\"Sensitivity for ensemble is { Sensitivity_ens }\")\n",
    "    print(F\"Specificity for ensemble is { Specificity_ens }\")\n",
    "    \n",
    "    "
   ]
  },
  {
   "cell_type": "markdown",
   "metadata": {},
   "source": [
    "# Recursive Feature Elimination\n",
    "The Recursive Feature Elimination (or RFE) works by recursively removing attributes and building a model on those attributes that remain.\n",
    "\n",
    "It uses the model accuracy to identify which attributes (and combination of attributes) contribute the most to predicting the target attribute."
   ]
  },
  {
   "cell_type": "code",
   "execution_count": 31,
   "metadata": {},
   "outputs": [],
   "source": [
    "from sklearn.feature_selection import RFE\n"
   ]
  },
  {
   "cell_type": "code",
   "execution_count": 32,
   "metadata": {},
   "outputs": [
    {
     "name": "stderr",
     "output_type": "stream",
     "text": [
      "C:\\Users\\user\\Anaconda3\\lib\\site-packages\\sklearn\\preprocessing\\data.py:645: DataConversionWarning: Data with input dtype int64, float64 were all converted to float64 by StandardScaler.\n",
      "  return self.partial_fit(X, y)\n",
      "C:\\Users\\user\\Anaconda3\\lib\\site-packages\\ipykernel_launcher.py:9: DataConversionWarning: Data with input dtype int64, float64 were all converted to float64 by StandardScaler.\n",
      "  if __name__ == '__main__':\n"
     ]
    }
   ],
   "source": [
    "df_feature = shuffle(df_feature)\n",
    "\n",
    "X_train_full = df_feature.drop(['label'],axis=1)\n",
    "all_features = X_train_full.columns\n",
    "y_train_full = df_feature['label']\n",
    "\n",
    "scaler = StandardScaler()\n",
    "scaler.fit(X_train_full)\n",
    "X_train_full = scaler.transform(X_train_full)\n",
    "y_train_full = np.array(y_train_full)\n"
   ]
  },
  {
   "cell_type": "code",
   "execution_count": 33,
   "metadata": {},
   "outputs": [
    {
     "name": "stdout",
     "output_type": "stream",
     "text": [
      "training score for 20 feature is - [0.99756691 0.99918897 0.99918897 0.99918897 0.99837662]\n",
      "test acc_score for svm linear is - 0.998\n",
      "Sensitivity for svm linear is 1.0\n",
      "Specificity for svm linear is 0.9977900552486187\n",
      "training score for 30 feature is - [0.99756691 0.99837794 0.99918897 0.99918897 0.99837662]\n",
      "test acc_score for svm linear is - 0.999\n",
      "Sensitivity for svm linear is 1.0\n",
      "Specificity for svm linear is 0.9988938053097345\n",
      "training score for 40 feature is - [0.99837794 0.99918897 1.         1.         0.99837662]\n",
      "test acc_score for svm linear is - 0.997\n",
      "Sensitivity for svm linear is 0.9795918367346939\n",
      "Specificity for svm linear is 0.9988913525498891\n",
      "training score for 50 feature is - [0.99837794 0.99918897 1.         1.         0.99918831]\n",
      "test acc_score for svm linear is - 0.998\n",
      "Sensitivity for svm linear is 0.9896907216494846\n",
      "Specificity for svm linear is 0.9988925802879292\n",
      "training score for 60 feature is - [0.99918897 0.99918897 1.         1.         0.99837662]\n",
      "test acc_score for svm linear is - 0.998\n",
      "Sensitivity for svm linear is 0.9896907216494846\n",
      "Specificity for svm linear is 0.9988925802879292\n"
     ]
    }
   ],
   "source": [
    "clf_svm_rfe = svm.SVC(C=0.1, cache_size=200, class_weight=None, coef0=0.0,\n",
    "  decision_function_shape='ovr', degree=3, gamma=1, kernel='linear',\n",
    "  max_iter=-1, probability=False, random_state=None, shrinking=True,\n",
    "  tol=0.001, verbose=False)\n",
    "\n",
    "\n",
    "for ix in [20,30,40,50,60]:\n",
    "    del X_train,X_test,y_train,y_test\n",
    "    rfe = RFE(clf_svm_rfe, ix)\n",
    "    fit = rfe.fit(X_train_full,y_train_full)\n",
    "    best_fea = fit.ranking_\n",
    "    index = []\n",
    "    for i in range(0,len(best_fea)):\n",
    "        if int(best_fea[i]) == 1:\n",
    "            index.append(i)\n",
    "    best_feature = []\n",
    "    for k in index:\n",
    "        best_feature.append(all_features[k])\n",
    "    X_train = df_feature[best_feature]\n",
    "    #print(X_train.shape)\n",
    "    X_test = df_featuret[best_feature]\n",
    "    #print(X_test.shape)\n",
    "    y_train = df_feature['label']\n",
    "    y_test = df_featuret['label']\n",
    "    scaler1 = StandardScaler()\n",
    "    scaler1.fit(X_train)\n",
    "    X_train = scaler1.transform(X_train)\n",
    "    #print(X_train.shape)\n",
    "    scaler2 = StandardScaler()\n",
    "    scaler2.fit(X_test)\n",
    "    X_test = scaler2.transform(X_test)\n",
    "    scores_svm_rfe = cross_val_score(clf_svm_rfe, X_train, y_train, cv=5)\n",
    "    print(F\"training score for { len(best_feature) } feature is - { scores_svm_rfe }\")\n",
    "    clf_svm_rfe.fit(X_train,y_train)\n",
    "    pred_rfe = clf_svm_rfe.predict(X_test)\n",
    "    acc_score_rfe = accuracy_score(y_test,pred_rfe)\n",
    "    print(F\"test acc_score for svm linear is - { acc_score_rfe }\")\n",
    "    #Confusion matrix\n",
    "    cm = confusion_matrix(y_test,pred_rfe)\n",
    "    TP = cm[0][0] \n",
    "    FP = cm[0][1]\n",
    "    FN = cm[1][0]\n",
    "    TN = cm[1][1]\n",
    "\n",
    "    Sensitivity_rfe = TP / (TP + FN)\n",
    "    Specificity_rfe = TN / (TN + FP)\n",
    "\n",
    "    print(F\"Sensitivity for svm linear is { Sensitivity_rfe }\")\n",
    "    print(F\"Specificity for svm linear is { Specificity_rfe }\")\n",
    "   "
   ]
  },
  {
   "cell_type": "markdown",
   "metadata": {},
   "source": [
    "# Feature Importance"
   ]
  },
  {
   "cell_type": "code",
   "execution_count": 34,
   "metadata": {},
   "outputs": [],
   "source": [
    "from sklearn.ensemble import ExtraTreesClassifier\n",
    "from sklearn.ensemble import VotingClassifier\n",
    "import numpy as np"
   ]
  },
  {
   "cell_type": "code",
   "execution_count": 35,
   "metadata": {},
   "outputs": [
    {
     "name": "stderr",
     "output_type": "stream",
     "text": [
      "C:\\Users\\user\\Anaconda3\\lib\\site-packages\\sklearn\\ensemble\\forest.py:246: FutureWarning: The default value of n_estimators will change from 10 in version 0.20 to 100 in 0.22.\n",
      "  \"10 in version 0.20 to 100 in 0.22.\", FutureWarning)\n"
     ]
    }
   ],
   "source": [
    "df_feature = shuffle(df_feature)\n",
    "\n",
    "X_train_full = df_feature.drop(['label'],axis=1)\n",
    "y_train_full = df_feature['label']\n",
    "\n",
    "model = ExtraTreesClassifier()\n",
    "model.fit(X_train_full,y_train_full)\n",
    "\n",
    "feat_importances = pd.Series(model.feature_importances_, index=X_train_full.columns)"
   ]
  },
  {
   "cell_type": "code",
   "execution_count": 36,
   "metadata": {},
   "outputs": [],
   "source": [
    "training_score = []\n",
    "test_score = []\n",
    "sensitivity = []\n",
    "specificity = []\n",
    "NOF = []"
   ]
  },
  {
   "cell_type": "code",
   "execution_count": 37,
   "metadata": {},
   "outputs": [
    {
     "name": "stdout",
     "output_type": "stream",
     "text": [
      "*************************************************\n",
      "features in use - \n",
      " ['ac24', 'ac26', 'ac27', 'ac80', 'energy_ca4', 'ac113', 'ac98', 'ac91', 'ac146', 'ac145']\n",
      "training score for RF is - [0.99837794 0.99513382 0.99837794 0.99756691 0.99594156]\n",
      "test acc_score for RF is - 0.997\n",
      "Sensitivity for RF is 0.9795918367346939\n",
      "Specificity for RF is 0.9988913525498891\n",
      "training score for svm linear is - [0.99513382 0.99675588 0.99432279 0.99837794 0.99512987]\n",
      "test acc_score for svm linear is - 0.996\n",
      "Sensitivity for svm linear is 0.9696969696969697\n",
      "Specificity for svm linear is 0.9988901220865705\n"
     ]
    },
    {
     "name": "stderr",
     "output_type": "stream",
     "text": [
      "C:\\Users\\user\\Anaconda3\\lib\\site-packages\\sklearn\\svm\\base.py:196: FutureWarning: The default value of gamma will change from 'auto' to 'scale' in version 0.22 to account better for unscaled features. Set gamma explicitly to 'auto' or 'scale' to avoid this warning.\n",
      "  \"avoid this warning.\", FutureWarning)\n",
      "C:\\Users\\user\\Anaconda3\\lib\\site-packages\\sklearn\\svm\\base.py:196: FutureWarning: The default value of gamma will change from 'auto' to 'scale' in version 0.22 to account better for unscaled features. Set gamma explicitly to 'auto' or 'scale' to avoid this warning.\n",
      "  \"avoid this warning.\", FutureWarning)\n",
      "C:\\Users\\user\\Anaconda3\\lib\\site-packages\\sklearn\\svm\\base.py:196: FutureWarning: The default value of gamma will change from 'auto' to 'scale' in version 0.22 to account better for unscaled features. Set gamma explicitly to 'auto' or 'scale' to avoid this warning.\n",
      "  \"avoid this warning.\", FutureWarning)\n",
      "C:\\Users\\user\\Anaconda3\\lib\\site-packages\\sklearn\\svm\\base.py:196: FutureWarning: The default value of gamma will change from 'auto' to 'scale' in version 0.22 to account better for unscaled features. Set gamma explicitly to 'auto' or 'scale' to avoid this warning.\n",
      "  \"avoid this warning.\", FutureWarning)\n",
      "C:\\Users\\user\\Anaconda3\\lib\\site-packages\\sklearn\\svm\\base.py:196: FutureWarning: The default value of gamma will change from 'auto' to 'scale' in version 0.22 to account better for unscaled features. Set gamma explicitly to 'auto' or 'scale' to avoid this warning.\n",
      "  \"avoid this warning.\", FutureWarning)\n"
     ]
    },
    {
     "name": "stdout",
     "output_type": "stream",
     "text": [
      "training score for svm rbf is - [0.99756691 0.99675588 0.99837794 0.99675588 0.99512987]\n",
      "test acc_score for svm rbf is - 0.996\n",
      "Sensitivity for svm rbf is 0.9696969696969697\n",
      "Specificity for svm rbf is 0.9988901220865705\n",
      "training score for svm rbf is - [0.99432279 0.99351176 0.99270073 0.99270073 0.99188312]\n",
      "test acc_score for svm rbf is - 0.994\n",
      "Sensitivity for svm rbf is 0.9789473684210527\n",
      "Specificity for svm rbf is 0.9955801104972376\n",
      "score for eensemble is - [0.99513382 0.99513382 0.99432279 0.99675588 0.99512987]\n",
      "acc_score for ensemble is - 0.996\n",
      "Sensitivity for ensemble is 0.979381443298969\n",
      "Specificity for ensemble is 0.9977851605758582\n",
      "*************************************************\n",
      "features in use - \n",
      " ['ac24', 'ac26', 'ac27', 'ac80', 'energy_ca4', 'ac113', 'ac98', 'ac91', 'ac146', 'ac145', 'ac5', 'ac72', 'ac97', 'mcr_fftw', 'ac116', 'ac130', 'ac112', 'ac19', 'ac23', 'kurt_ca4']\n"
     ]
    },
    {
     "name": "stderr",
     "output_type": "stream",
     "text": [
      "C:\\Users\\user\\Anaconda3\\lib\\site-packages\\sklearn\\preprocessing\\data.py:645: DataConversionWarning: Data with input dtype int64, float64 were all converted to float64 by StandardScaler.\n",
      "  return self.partial_fit(X, y)\n",
      "C:\\Users\\user\\Anaconda3\\lib\\site-packages\\ipykernel_launcher.py:18: DataConversionWarning: Data with input dtype int64, float64 were all converted to float64 by StandardScaler.\n",
      "C:\\Users\\user\\Anaconda3\\lib\\site-packages\\sklearn\\preprocessing\\data.py:645: DataConversionWarning: Data with input dtype int64, float64 were all converted to float64 by StandardScaler.\n",
      "  return self.partial_fit(X, y)\n",
      "C:\\Users\\user\\Anaconda3\\lib\\site-packages\\ipykernel_launcher.py:20: DataConversionWarning: Data with input dtype int64, float64 were all converted to float64 by StandardScaler.\n"
     ]
    },
    {
     "name": "stdout",
     "output_type": "stream",
     "text": [
      "training score for RF is - [1.         0.99675588 0.99756691 0.99837794 0.99594156]\n",
      "test acc_score for RF is - 0.998\n",
      "Sensitivity for RF is 0.9896907216494846\n",
      "Specificity for RF is 0.9988925802879292\n",
      "training score for svm linear is - [0.99675588 0.99675588 0.99432279 0.99432279 0.99431818]\n",
      "test acc_score for svm linear is - 0.997\n",
      "Sensitivity for svm linear is 0.9895833333333334\n",
      "Specificity for svm linear is 0.9977876106194691\n"
     ]
    },
    {
     "name": "stderr",
     "output_type": "stream",
     "text": [
      "C:\\Users\\user\\Anaconda3\\lib\\site-packages\\sklearn\\svm\\base.py:196: FutureWarning: The default value of gamma will change from 'auto' to 'scale' in version 0.22 to account better for unscaled features. Set gamma explicitly to 'auto' or 'scale' to avoid this warning.\n",
      "  \"avoid this warning.\", FutureWarning)\n",
      "C:\\Users\\user\\Anaconda3\\lib\\site-packages\\sklearn\\svm\\base.py:196: FutureWarning: The default value of gamma will change from 'auto' to 'scale' in version 0.22 to account better for unscaled features. Set gamma explicitly to 'auto' or 'scale' to avoid this warning.\n",
      "  \"avoid this warning.\", FutureWarning)\n",
      "C:\\Users\\user\\Anaconda3\\lib\\site-packages\\sklearn\\svm\\base.py:196: FutureWarning: The default value of gamma will change from 'auto' to 'scale' in version 0.22 to account better for unscaled features. Set gamma explicitly to 'auto' or 'scale' to avoid this warning.\n",
      "  \"avoid this warning.\", FutureWarning)\n",
      "C:\\Users\\user\\Anaconda3\\lib\\site-packages\\sklearn\\svm\\base.py:196: FutureWarning: The default value of gamma will change from 'auto' to 'scale' in version 0.22 to account better for unscaled features. Set gamma explicitly to 'auto' or 'scale' to avoid this warning.\n",
      "  \"avoid this warning.\", FutureWarning)\n",
      "C:\\Users\\user\\Anaconda3\\lib\\site-packages\\sklearn\\svm\\base.py:196: FutureWarning: The default value of gamma will change from 'auto' to 'scale' in version 0.22 to account better for unscaled features. Set gamma explicitly to 'auto' or 'scale' to avoid this warning.\n",
      "  \"avoid this warning.\", FutureWarning)\n"
     ]
    },
    {
     "name": "stdout",
     "output_type": "stream",
     "text": [
      "training score for svm rbf is - [0.99837794 0.99513382 0.99756691 0.99918897 0.99594156]\n",
      "test acc_score for svm rbf is - 0.996\n",
      "Sensitivity for svm rbf is 0.979381443298969\n",
      "Specificity for svm rbf is 0.9977851605758582\n",
      "training score for svm rbf is - [0.99594485 0.99351176 0.99270073 0.99513382 0.99350649]\n",
      "test acc_score for svm rbf is - 0.994\n",
      "Sensitivity for svm rbf is 0.9789473684210527\n",
      "Specificity for svm rbf is 0.9955801104972376\n",
      "score for eensemble is - [0.99675588 0.99594485 0.99351176 0.99675588 0.99431818]\n",
      "acc_score for ensemble is - 0.996\n",
      "Sensitivity for ensemble is 0.979381443298969\n",
      "Specificity for ensemble is 0.9977851605758582\n",
      "*************************************************\n",
      "features in use - \n",
      " ['ac24', 'ac26', 'ac27', 'ac80', 'energy_ca4', 'ac113', 'ac98', 'ac91', 'ac146', 'ac145', 'ac5', 'ac72', 'ac97', 'mcr_fftw', 'ac116', 'ac130', 'ac112', 'ac19', 'ac23', 'kurt_ca4', 'ac49', 'std_fft', 'ac89', 'ac102', 'ac46', 'ac141', 'ac42', 'ac133', 'ac25', 'ac75']\n"
     ]
    },
    {
     "name": "stderr",
     "output_type": "stream",
     "text": [
      "C:\\Users\\user\\Anaconda3\\lib\\site-packages\\sklearn\\preprocessing\\data.py:645: DataConversionWarning: Data with input dtype int64, float64 were all converted to float64 by StandardScaler.\n",
      "  return self.partial_fit(X, y)\n",
      "C:\\Users\\user\\Anaconda3\\lib\\site-packages\\ipykernel_launcher.py:18: DataConversionWarning: Data with input dtype int64, float64 were all converted to float64 by StandardScaler.\n",
      "C:\\Users\\user\\Anaconda3\\lib\\site-packages\\sklearn\\preprocessing\\data.py:645: DataConversionWarning: Data with input dtype int64, float64 were all converted to float64 by StandardScaler.\n",
      "  return self.partial_fit(X, y)\n",
      "C:\\Users\\user\\Anaconda3\\lib\\site-packages\\ipykernel_launcher.py:20: DataConversionWarning: Data with input dtype int64, float64 were all converted to float64 by StandardScaler.\n"
     ]
    },
    {
     "name": "stdout",
     "output_type": "stream",
     "text": [
      "training score for RF is - [0.99918897 0.99594485 0.99837794 0.99837794 0.99675325]\n",
      "test acc_score for RF is - 0.998\n",
      "Sensitivity for RF is 0.9896907216494846\n",
      "Specificity for RF is 0.9988925802879292\n",
      "training score for svm linear is - [0.99675588 0.99756691 0.99756691 0.99594485 0.99512987]\n",
      "test acc_score for svm linear is - 0.997\n",
      "Sensitivity for svm linear is 0.9795918367346939\n",
      "Specificity for svm linear is 0.9988913525498891\n"
     ]
    },
    {
     "name": "stderr",
     "output_type": "stream",
     "text": [
      "C:\\Users\\user\\Anaconda3\\lib\\site-packages\\sklearn\\svm\\base.py:196: FutureWarning: The default value of gamma will change from 'auto' to 'scale' in version 0.22 to account better for unscaled features. Set gamma explicitly to 'auto' or 'scale' to avoid this warning.\n",
      "  \"avoid this warning.\", FutureWarning)\n",
      "C:\\Users\\user\\Anaconda3\\lib\\site-packages\\sklearn\\svm\\base.py:196: FutureWarning: The default value of gamma will change from 'auto' to 'scale' in version 0.22 to account better for unscaled features. Set gamma explicitly to 'auto' or 'scale' to avoid this warning.\n",
      "  \"avoid this warning.\", FutureWarning)\n",
      "C:\\Users\\user\\Anaconda3\\lib\\site-packages\\sklearn\\svm\\base.py:196: FutureWarning: The default value of gamma will change from 'auto' to 'scale' in version 0.22 to account better for unscaled features. Set gamma explicitly to 'auto' or 'scale' to avoid this warning.\n",
      "  \"avoid this warning.\", FutureWarning)\n",
      "C:\\Users\\user\\Anaconda3\\lib\\site-packages\\sklearn\\svm\\base.py:196: FutureWarning: The default value of gamma will change from 'auto' to 'scale' in version 0.22 to account better for unscaled features. Set gamma explicitly to 'auto' or 'scale' to avoid this warning.\n",
      "  \"avoid this warning.\", FutureWarning)\n",
      "C:\\Users\\user\\Anaconda3\\lib\\site-packages\\sklearn\\svm\\base.py:196: FutureWarning: The default value of gamma will change from 'auto' to 'scale' in version 0.22 to account better for unscaled features. Set gamma explicitly to 'auto' or 'scale' to avoid this warning.\n",
      "  \"avoid this warning.\", FutureWarning)\n"
     ]
    },
    {
     "name": "stdout",
     "output_type": "stream",
     "text": [
      "training score for svm rbf is - [0.99837794 0.99513382 0.99756691 0.99837794 0.99594156]\n",
      "test acc_score for svm rbf is - 0.996\n",
      "Sensitivity for svm rbf is 0.979381443298969\n",
      "Specificity for svm rbf is 0.9977851605758582\n",
      "training score for svm rbf is - [0.99675588 0.99513382 0.99432279 0.99513382 0.99350649]\n",
      "test acc_score for svm rbf is - 0.994\n",
      "Sensitivity for svm rbf is 0.9690721649484536\n",
      "Specificity for svm rbf is 0.9966777408637874\n",
      "score for eensemble is - [0.99675588 0.99675588 0.99675588 0.99675588 0.99594156]\n",
      "acc_score for ensemble is - 0.997\n",
      "Sensitivity for ensemble is 0.9795918367346939\n",
      "Specificity for ensemble is 0.9988913525498891\n",
      "*************************************************\n",
      "features in use - \n",
      " ['ac24', 'ac26', 'ac27', 'ac80', 'energy_ca4', 'ac113', 'ac98', 'ac91', 'ac146', 'ac145', 'ac5', 'ac72', 'ac97', 'mcr_fftw', 'ac116', 'ac130', 'ac112', 'ac19', 'ac23', 'kurt_ca4', 'ac49', 'std_fft', 'ac89', 'ac102', 'ac46', 'ac141', 'ac42', 'ac133', 'ac25', 'ac75', 'ac93', 'CF_fft', 'ac126', 'ac118', 'ac149', 'ac73', 'std_psd', 'ac85', 'mode_psd', 'std_fftw']\n"
     ]
    },
    {
     "name": "stderr",
     "output_type": "stream",
     "text": [
      "C:\\Users\\user\\Anaconda3\\lib\\site-packages\\sklearn\\preprocessing\\data.py:645: DataConversionWarning: Data with input dtype int64, float64 were all converted to float64 by StandardScaler.\n",
      "  return self.partial_fit(X, y)\n",
      "C:\\Users\\user\\Anaconda3\\lib\\site-packages\\ipykernel_launcher.py:18: DataConversionWarning: Data with input dtype int64, float64 were all converted to float64 by StandardScaler.\n",
      "C:\\Users\\user\\Anaconda3\\lib\\site-packages\\sklearn\\preprocessing\\data.py:645: DataConversionWarning: Data with input dtype int64, float64 were all converted to float64 by StandardScaler.\n",
      "  return self.partial_fit(X, y)\n",
      "C:\\Users\\user\\Anaconda3\\lib\\site-packages\\ipykernel_launcher.py:20: DataConversionWarning: Data with input dtype int64, float64 were all converted to float64 by StandardScaler.\n"
     ]
    },
    {
     "name": "stdout",
     "output_type": "stream",
     "text": [
      "training score for RF is - [0.99918897 0.99675588 0.99837794 0.99837794 0.99675325]\n",
      "test acc_score for RF is - 0.998\n",
      "Sensitivity for RF is 0.9896907216494846\n",
      "Specificity for RF is 0.9988925802879292\n",
      "training score for svm linear is - [0.99918897 0.99756691 0.99756691 0.99837794 0.99675325]\n",
      "test acc_score for svm linear is - 0.998\n",
      "Sensitivity for svm linear is 0.9896907216494846\n",
      "Specificity for svm linear is 0.9988925802879292\n"
     ]
    },
    {
     "name": "stderr",
     "output_type": "stream",
     "text": [
      "C:\\Users\\user\\Anaconda3\\lib\\site-packages\\sklearn\\svm\\base.py:196: FutureWarning: The default value of gamma will change from 'auto' to 'scale' in version 0.22 to account better for unscaled features. Set gamma explicitly to 'auto' or 'scale' to avoid this warning.\n",
      "  \"avoid this warning.\", FutureWarning)\n",
      "C:\\Users\\user\\Anaconda3\\lib\\site-packages\\sklearn\\svm\\base.py:196: FutureWarning: The default value of gamma will change from 'auto' to 'scale' in version 0.22 to account better for unscaled features. Set gamma explicitly to 'auto' or 'scale' to avoid this warning.\n",
      "  \"avoid this warning.\", FutureWarning)\n",
      "C:\\Users\\user\\Anaconda3\\lib\\site-packages\\sklearn\\svm\\base.py:196: FutureWarning: The default value of gamma will change from 'auto' to 'scale' in version 0.22 to account better for unscaled features. Set gamma explicitly to 'auto' or 'scale' to avoid this warning.\n",
      "  \"avoid this warning.\", FutureWarning)\n",
      "C:\\Users\\user\\Anaconda3\\lib\\site-packages\\sklearn\\svm\\base.py:196: FutureWarning: The default value of gamma will change from 'auto' to 'scale' in version 0.22 to account better for unscaled features. Set gamma explicitly to 'auto' or 'scale' to avoid this warning.\n",
      "  \"avoid this warning.\", FutureWarning)\n",
      "C:\\Users\\user\\Anaconda3\\lib\\site-packages\\sklearn\\svm\\base.py:196: FutureWarning: The default value of gamma will change from 'auto' to 'scale' in version 0.22 to account better for unscaled features. Set gamma explicitly to 'auto' or 'scale' to avoid this warning.\n",
      "  \"avoid this warning.\", FutureWarning)\n"
     ]
    },
    {
     "name": "stdout",
     "output_type": "stream",
     "text": [
      "training score for svm rbf is - [0.99837794 0.99513382 0.99756691 0.99837794 0.99594156]\n",
      "test acc_score for svm rbf is - 0.996\n",
      "Sensitivity for svm rbf is 0.979381443298969\n",
      "Specificity for svm rbf is 0.9977851605758582\n",
      "training score for svm rbf is - [0.99675588 0.99675588 0.99432279 0.99513382 0.99512987]\n",
      "test acc_score for svm rbf is - 0.996\n",
      "Sensitivity for svm rbf is 0.979381443298969\n",
      "Specificity for svm rbf is 0.9977851605758582\n",
      "score for eensemble is - [0.99918897 0.99675588 0.99675588 0.99837794 0.99675325]\n",
      "acc_score for ensemble is - 0.998\n",
      "Sensitivity for ensemble is 0.9896907216494846\n",
      "Specificity for ensemble is 0.9988925802879292\n",
      "*************************************************\n",
      "features in use - \n",
      " ['ac24', 'ac26', 'ac27', 'ac80', 'energy_ca4', 'ac113', 'ac98', 'ac91', 'ac146', 'ac145', 'ac5', 'ac72', 'ac97', 'mcr_fftw', 'ac116', 'ac130', 'ac112', 'ac19', 'ac23', 'kurt_ca4', 'ac49', 'std_fft', 'ac89', 'ac102', 'ac46', 'ac141', 'ac42', 'ac133', 'ac25', 'ac75', 'ac93', 'CF_fft', 'ac126', 'ac118', 'ac149', 'ac73', 'std_psd', 'ac85', 'mode_psd', 'std_fftw', 'ac83', 'ac151', 'ac90', 'ac22', 'ac78', 'ac59', 'ac132', 'CF_ca1', 'rms_ca4', 'zcr']\n"
     ]
    },
    {
     "name": "stderr",
     "output_type": "stream",
     "text": [
      "C:\\Users\\user\\Anaconda3\\lib\\site-packages\\sklearn\\preprocessing\\data.py:645: DataConversionWarning: Data with input dtype int64, float64 were all converted to float64 by StandardScaler.\n",
      "  return self.partial_fit(X, y)\n",
      "C:\\Users\\user\\Anaconda3\\lib\\site-packages\\ipykernel_launcher.py:18: DataConversionWarning: Data with input dtype int64, float64 were all converted to float64 by StandardScaler.\n",
      "C:\\Users\\user\\Anaconda3\\lib\\site-packages\\sklearn\\preprocessing\\data.py:645: DataConversionWarning: Data with input dtype int64, float64 were all converted to float64 by StandardScaler.\n",
      "  return self.partial_fit(X, y)\n",
      "C:\\Users\\user\\Anaconda3\\lib\\site-packages\\ipykernel_launcher.py:20: DataConversionWarning: Data with input dtype int64, float64 were all converted to float64 by StandardScaler.\n"
     ]
    },
    {
     "name": "stdout",
     "output_type": "stream",
     "text": [
      "training score for RF is - [0.99918897 0.99675588 1.         0.99837794 0.99594156]\n",
      "test acc_score for RF is - 1.0\n",
      "Sensitivity for RF is 1.0\n",
      "Specificity for RF is 1.0\n",
      "training score for svm linear is - [0.99918897 0.99756691 0.99918897 0.99756691 0.99512987]\n",
      "test acc_score for svm linear is - 0.999\n",
      "Sensitivity for svm linear is 0.9897959183673469\n",
      "Specificity for svm linear is 1.0\n"
     ]
    },
    {
     "name": "stderr",
     "output_type": "stream",
     "text": [
      "C:\\Users\\user\\Anaconda3\\lib\\site-packages\\sklearn\\svm\\base.py:196: FutureWarning: The default value of gamma will change from 'auto' to 'scale' in version 0.22 to account better for unscaled features. Set gamma explicitly to 'auto' or 'scale' to avoid this warning.\n",
      "  \"avoid this warning.\", FutureWarning)\n",
      "C:\\Users\\user\\Anaconda3\\lib\\site-packages\\sklearn\\svm\\base.py:196: FutureWarning: The default value of gamma will change from 'auto' to 'scale' in version 0.22 to account better for unscaled features. Set gamma explicitly to 'auto' or 'scale' to avoid this warning.\n",
      "  \"avoid this warning.\", FutureWarning)\n",
      "C:\\Users\\user\\Anaconda3\\lib\\site-packages\\sklearn\\svm\\base.py:196: FutureWarning: The default value of gamma will change from 'auto' to 'scale' in version 0.22 to account better for unscaled features. Set gamma explicitly to 'auto' or 'scale' to avoid this warning.\n",
      "  \"avoid this warning.\", FutureWarning)\n",
      "C:\\Users\\user\\Anaconda3\\lib\\site-packages\\sklearn\\svm\\base.py:196: FutureWarning: The default value of gamma will change from 'auto' to 'scale' in version 0.22 to account better for unscaled features. Set gamma explicitly to 'auto' or 'scale' to avoid this warning.\n",
      "  \"avoid this warning.\", FutureWarning)\n",
      "C:\\Users\\user\\Anaconda3\\lib\\site-packages\\sklearn\\svm\\base.py:196: FutureWarning: The default value of gamma will change from 'auto' to 'scale' in version 0.22 to account better for unscaled features. Set gamma explicitly to 'auto' or 'scale' to avoid this warning.\n",
      "  \"avoid this warning.\", FutureWarning)\n"
     ]
    },
    {
     "name": "stdout",
     "output_type": "stream",
     "text": [
      "training score for svm rbf is - [0.99918897 0.99594485 0.99918897 0.99837794 0.99594156]\n",
      "test acc_score for svm rbf is - 0.999\n",
      "Sensitivity for svm rbf is 0.9897959183673469\n",
      "Specificity for svm rbf is 1.0\n",
      "training score for svm rbf is - [0.99756691 0.99675588 0.99756691 0.99756691 0.99512987]\n",
      "test acc_score for svm rbf is - 0.996\n",
      "Sensitivity for svm rbf is 0.9603960396039604\n",
      "Specificity for svm rbf is 1.0\n",
      "score for eensemble is - [0.99918897 0.99756691 1.         0.99756691 0.99512987]\n",
      "acc_score for ensemble is - 0.999\n",
      "Sensitivity for ensemble is 0.9897959183673469\n",
      "Specificity for ensemble is 1.0\n",
      "*************************************************\n",
      "features in use - \n",
      " ['ac24', 'ac26', 'ac27', 'ac80', 'energy_ca4', 'ac113', 'ac98', 'ac91', 'ac146', 'ac145', 'ac5', 'ac72', 'ac97', 'mcr_fftw', 'ac116', 'ac130', 'ac112', 'ac19', 'ac23', 'kurt_ca4', 'ac49', 'std_fft', 'ac89', 'ac102', 'ac46', 'ac141', 'ac42', 'ac133', 'ac25', 'ac75', 'ac93', 'CF_fft', 'ac126', 'ac118', 'ac149', 'ac73', 'std_psd', 'ac85', 'mode_psd', 'std_fftw', 'ac83', 'ac151', 'ac90', 'ac22', 'ac78', 'ac59', 'ac132', 'CF_ca1', 'rms_ca4', 'zcr', 'zcr_cd1', 'ac39', 'zcr_ca1', 'kurt_ca1', 'ac127', 'ac131', 'ac43', 'mode_ca1', 'ac128', 'ac119']\n"
     ]
    },
    {
     "name": "stderr",
     "output_type": "stream",
     "text": [
      "C:\\Users\\user\\Anaconda3\\lib\\site-packages\\sklearn\\preprocessing\\data.py:645: DataConversionWarning: Data with input dtype int64, float64 were all converted to float64 by StandardScaler.\n",
      "  return self.partial_fit(X, y)\n",
      "C:\\Users\\user\\Anaconda3\\lib\\site-packages\\ipykernel_launcher.py:18: DataConversionWarning: Data with input dtype int64, float64 were all converted to float64 by StandardScaler.\n",
      "C:\\Users\\user\\Anaconda3\\lib\\site-packages\\sklearn\\preprocessing\\data.py:645: DataConversionWarning: Data with input dtype int64, float64 were all converted to float64 by StandardScaler.\n",
      "  return self.partial_fit(X, y)\n",
      "C:\\Users\\user\\Anaconda3\\lib\\site-packages\\ipykernel_launcher.py:20: DataConversionWarning: Data with input dtype int64, float64 were all converted to float64 by StandardScaler.\n"
     ]
    },
    {
     "name": "stdout",
     "output_type": "stream",
     "text": [
      "training score for RF is - [1.         0.99675588 1.         0.99918897 0.99756494]\n",
      "test acc_score for RF is - 1.0\n",
      "Sensitivity for RF is 1.0\n",
      "Specificity for RF is 1.0\n",
      "training score for svm linear is - [1.         0.99756691 0.99837794 0.99675588 0.99675325]\n",
      "test acc_score for svm linear is - 0.994\n",
      "Sensitivity for svm linear is 0.9789473684210527\n",
      "Specificity for svm linear is 0.9955801104972376\n"
     ]
    },
    {
     "name": "stderr",
     "output_type": "stream",
     "text": [
      "C:\\Users\\user\\Anaconda3\\lib\\site-packages\\sklearn\\svm\\base.py:196: FutureWarning: The default value of gamma will change from 'auto' to 'scale' in version 0.22 to account better for unscaled features. Set gamma explicitly to 'auto' or 'scale' to avoid this warning.\n",
      "  \"avoid this warning.\", FutureWarning)\n",
      "C:\\Users\\user\\Anaconda3\\lib\\site-packages\\sklearn\\svm\\base.py:196: FutureWarning: The default value of gamma will change from 'auto' to 'scale' in version 0.22 to account better for unscaled features. Set gamma explicitly to 'auto' or 'scale' to avoid this warning.\n",
      "  \"avoid this warning.\", FutureWarning)\n",
      "C:\\Users\\user\\Anaconda3\\lib\\site-packages\\sklearn\\svm\\base.py:196: FutureWarning: The default value of gamma will change from 'auto' to 'scale' in version 0.22 to account better for unscaled features. Set gamma explicitly to 'auto' or 'scale' to avoid this warning.\n",
      "  \"avoid this warning.\", FutureWarning)\n",
      "C:\\Users\\user\\Anaconda3\\lib\\site-packages\\sklearn\\svm\\base.py:196: FutureWarning: The default value of gamma will change from 'auto' to 'scale' in version 0.22 to account better for unscaled features. Set gamma explicitly to 'auto' or 'scale' to avoid this warning.\n",
      "  \"avoid this warning.\", FutureWarning)\n",
      "C:\\Users\\user\\Anaconda3\\lib\\site-packages\\sklearn\\svm\\base.py:196: FutureWarning: The default value of gamma will change from 'auto' to 'scale' in version 0.22 to account better for unscaled features. Set gamma explicitly to 'auto' or 'scale' to avoid this warning.\n",
      "  \"avoid this warning.\", FutureWarning)\n"
     ]
    },
    {
     "name": "stdout",
     "output_type": "stream",
     "text": [
      "training score for svm rbf is - [0.99918897 0.99675588 1.         0.99837794 0.99756494]\n",
      "test acc_score for svm rbf is - 0.998\n",
      "Sensitivity for svm rbf is 0.9896907216494846\n",
      "Specificity for svm rbf is 0.9988925802879292\n",
      "training score for svm rbf is - [0.99837794 0.99756691 0.99837794 0.99837794 0.99756494]\n",
      "test acc_score for svm rbf is - 0.999\n",
      "Sensitivity for svm rbf is 0.9897959183673469\n",
      "Specificity for svm rbf is 1.0\n",
      "score for eensemble is - [1.         0.99756691 0.99837794 0.99837794 0.99756494]\n",
      "acc_score for ensemble is - 1.0\n",
      "Sensitivity for ensemble is 1.0\n",
      "Specificity for ensemble is 1.0\n"
     ]
    }
   ],
   "source": [
    "for fea in [10,20,30,40,50,60]:\n",
    "    feature_importance = pd.Index.tolist(feat_importances.nlargest(fea).index)\n",
    "    fea_set = feature_importance\n",
    "    NOF.append(len(fea_set))\n",
    "    print(\"*************************************************\")\n",
    "    print(F\"features in use - \\n { fea_set }\")\n",
    "    try:\n",
    "        del X_train,clfrf,clf_svm1_lin,clf_svm_rbf,ensemble\n",
    "    except NameError as e:\n",
    "        pass\n",
    "    X_train = df_feature[fea_set]\n",
    "    y_train = df_feature['label']\n",
    "    X_test = df_featuret[fea_set]\n",
    "    y_test = df_featuret['label']\n",
    "    #scale\n",
    "    scaler = StandardScaler()\n",
    "    scaler.fit(X_train)\n",
    "    X_train = scaler.transform(X_train)\n",
    "    scaler.fit(X_test)\n",
    "    X_test = scaler.transform(X_test)\n",
    "    #RF\n",
    "    RFC_METRIC = 'entropy'  #metric used for RandomForrestClassifier\n",
    "    NUM_ESTIMATORS = 100 #number of estimators used for RandomForrestClassifier\n",
    "    NO_JOBS = -1 #number of parallel jobs used for RandomForrestClassifier\n",
    "    clf = RandomForestClassifier(n_jobs=NO_JOBS, \n",
    "                                 random_state=2000,\n",
    "                                 criterion=RFC_METRIC,\n",
    "                                 n_estimators=NUM_ESTIMATORS,\n",
    "                                 verbose=False)\n",
    "\n",
    "    scores_rf = cross_val_score(clf, X_train, y_train, cv=5)\n",
    "    training_score.append(scores_rf)\n",
    "    print(F\"training score for RF is - { scores_rf }\")\n",
    "    clf.fit(X_train,y_train)\n",
    "    pred1 = clf.predict(X_test)\n",
    "    acc_score_rf = accuracy_score(y_test,pred1)\n",
    "    test_score.append(acc_score_rf)\n",
    "    print(F\"test acc_score for RF is - { acc_score_rf }\")\n",
    "    #Confusion matrix\n",
    "    cm = confusion_matrix(y_test,pred1)\n",
    "    TP = cm[0][0]\n",
    "    FP = cm[0][1]\n",
    "    FN = cm[1][0]\n",
    "    TN = cm[1][1]\n",
    "\n",
    "    Sensitivity_rf = TP / (TP + FN)\n",
    "    Specificity_rf = TN / (TN + FP)\n",
    "\n",
    "    print(F\"Sensitivity for RF is { Sensitivity_rf }\")\n",
    "    print(F\"Specificity for RF is { Specificity_rf }\")\n",
    "    \n",
    "    sensitivity.append(Sensitivity_rf)\n",
    "    specificity.append(Specificity_rf)\n",
    "    \n",
    "    #SVM linear\n",
    "    \n",
    "    clf_svm1 = svm.SVC(kernel='linear', C=1)\n",
    "    scores_svm1 = cross_val_score(clf_svm1, X_train, y_train, cv=5)\n",
    "    training_score.append(scores_svm1)\n",
    "    print(F\"training score for svm linear is - { scores_svm1 }\")\n",
    "    clf_svm1.fit(X_train,y_train)\n",
    "    pred2 = clf_svm1.predict(X_test)\n",
    "    acc_score_svm1 = accuracy_score(y_test,pred2)\n",
    "    print(F\"test acc_score for svm linear is - { acc_score_svm1 }\")\n",
    "    test_score.append(acc_score_svm1)\n",
    "    #Confusion matrix\n",
    "    cm = confusion_matrix(y_test,pred2)\n",
    "    TP = cm[0][0] \n",
    "    FP = cm[0][1]\n",
    "    FN = cm[1][0]\n",
    "    TN = cm[1][1]\n",
    "\n",
    "    Sensitivity_svm1 = TP / (TP + FN)\n",
    "    Specificity_svm1 = TN / (TN + FP)\n",
    "\n",
    "    print(F\"Sensitivity for svm linear is { Sensitivity_svm1 }\")\n",
    "    print(F\"Specificity for svm linear is { Specificity_svm1 }\")\n",
    "    \n",
    "    sensitivity.append(Sensitivity_svm1)\n",
    "    specificity.append(Specificity_svm1)\n",
    "    \n",
    "    #SVM rbf\n",
    "    clf_svm2 = svm.SVC(kernel='rbf', C=1)\n",
    "    scores_svm2 = cross_val_score(clf_svm2, X_train, y_train, cv=5)\n",
    "    training_score.append(scores_svm2)\n",
    "    print(F\"training score for svm rbf is - { scores_svm2 }\")\n",
    "    clf_svm2.fit(X_train,y_train)\n",
    "    pred3 = clf_svm2.predict(X_test)\n",
    "    acc_score_svm2 = accuracy_score(y_test,pred3)\n",
    "    print(F\"test acc_score for svm rbf is - { acc_score_svm2 }\")\n",
    "    test_score.append(acc_score_svm2)\n",
    "    #Confusion matrix\n",
    "    cm = confusion_matrix(y_test,pred3)\n",
    "    TP = cm[0][0]\n",
    "    FP = cm[0][1]\n",
    "    FN = cm[1][0]\n",
    "    TN = cm[1][1]\n",
    "\n",
    "    Sensitivity_svm2 = TP / (TP + FN)\n",
    "    Specificity_svm2 = TN / (TN + FP)\n",
    "\n",
    "    print(F\"Sensitivity for svm rbf is { Sensitivity_svm2 }\")\n",
    "    print(F\"Specificity for svm rbf is { Specificity_svm2 }\")\n",
    "    \n",
    "    sensitivity.append(Sensitivity_svm2)\n",
    "    specificity.append(Specificity_svm2)\n",
    "    #svm3\n",
    "    clf_svm3 = svm.SVC(C=0.1, cache_size=200, class_weight=None, coef0=0.0,\n",
    "      decision_function_shape='ovr', degree=3, gamma=1, kernel='linear',\n",
    "      max_iter=-1, probability=False, random_state=None, shrinking=True,\n",
    "      tol=0.001, verbose=False)\n",
    "    scores_svm3 = cross_val_score(clf_svm3, X_train, y_train, cv=5)\n",
    "    print(F\"training score for svm rbf is - { scores_svm3 }\")\n",
    "    training_score.append(scores_svm3)\n",
    "    clf_svm3.fit(X_train,y_train)\n",
    "    pred4 = clf_svm3.predict(X_test)\n",
    "    acc_score_svm3 = accuracy_score(y_test,pred4)\n",
    "    print(F\"test acc_score for svm rbf is - { acc_score_svm3 }\")\n",
    "    test_score.append(acc_score_svm3)\n",
    "    cm = confusion_matrix(y_test,pred4)\n",
    "    TP = cm[0][0]\n",
    "    FP = cm[0][1]\n",
    "    FN = cm[1][0]\n",
    "    TN = cm[1][1]\n",
    "\n",
    "    Sensitivity_svm3 = TP / (TP + FN)\n",
    "    Specificity_svm3 = TN / (TN + FP)\n",
    "\n",
    "    print(F\"Sensitivity for svm rbf is { Sensitivity_svm3 }\")\n",
    "    print(F\"Specificity for svm rbf is { Specificity_svm3 }\")\n",
    "    \n",
    "    sensitivity.append(Sensitivity_svm3)\n",
    "    specificity.append(Specificity_svm3)\n",
    "    #ensemble\n",
    "    estimators = []\n",
    "    estimators.append(('rf', clf))\n",
    "    estimators.append(('svm', clf_svm1))\n",
    "    estimators.append(('svm3', clf_svm3))\n",
    "    # create the ensemble model\n",
    "    ensemble = VotingClassifier(estimators)\n",
    "    scores_ens = cross_val_score(ensemble, X_train, y_train, cv=5)\n",
    "    training_score.append(scores_ens)\n",
    "    print(F\"score for eensemble is - { scores_ens }\")\n",
    "    ensemble.fit(X_train,y_train)\n",
    "    pred4 = ensemble.predict(X_test)\n",
    "    acc_score_ens = accuracy_score(y_test,pred4)   \n",
    "    print(F\"acc_score for ensemble is - { acc_score_ens }\")\n",
    "    test_score.append(acc_score_ens)\n",
    "    cm = confusion_matrix(y_test,pred4)\n",
    "    TP = cm[0][0]\n",
    "    FP = cm[0][1]\n",
    "    FN = cm[1][0]\n",
    "    TN = cm[1][1]\n",
    "\n",
    "    Sensitivity_ens = TP / (TP + FN)\n",
    "    Specificity_ens = TN / (TN + FP)\n",
    "    sensitivity.append(Sensitivity_ens)\n",
    "    specificity.append(Specificity_ens)\n",
    "\n",
    "    print(F\"Sensitivity for ensemble is { Sensitivity_ens }\")\n",
    "    print(F\"Specificity for ensemble is { Specificity_ens }\")"
   ]
  },
  {
   "cell_type": "code",
   "execution_count": null,
   "metadata": {},
   "outputs": [],
   "source": []
  }
 ],
 "metadata": {
  "kernelspec": {
   "display_name": "Python 3",
   "language": "python",
   "name": "python3"
  },
  "language_info": {
   "codemirror_mode": {
    "name": "ipython",
    "version": 3
   },
   "file_extension": ".py",
   "mimetype": "text/x-python",
   "name": "python",
   "nbconvert_exporter": "python",
   "pygments_lexer": "ipython3",
   "version": "3.7.3"
  }
 },
 "nbformat": 4,
 "nbformat_minor": 2
}
