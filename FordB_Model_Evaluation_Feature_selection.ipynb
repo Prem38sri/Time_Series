{
 "cells": [
  {
   "cell_type": "markdown",
   "metadata": {},
   "source": [
    "# Ford B Model Evaluation"
   ]
  },
  {
   "cell_type": "code",
   "execution_count": 1,
   "metadata": {},
   "outputs": [],
   "source": [
    "import pandas as pd"
   ]
  },
  {
   "cell_type": "code",
   "execution_count": 2,
   "metadata": {},
   "outputs": [],
   "source": [
    "df_feature = pd.read_csv('C:/Users/user/Desktop/AI & ML/Project/FordBX_train.csv',index_col='file_name')\n",
    "df_featuret = pd.read_csv('C:/Users/user/Desktop/AI & ML/Project/FordBX_test.csv',index_col='file_name')"
   ]
  },
  {
   "cell_type": "code",
   "execution_count": 3,
   "metadata": {},
   "outputs": [],
   "source": [
    "accuracy_list = []\n",
    "sensitivity_score = []\n",
    "specificity_score = []"
   ]
  },
  {
   "cell_type": "code",
   "execution_count": 4,
   "metadata": {},
   "outputs": [
    {
     "name": "stderr",
     "output_type": "stream",
     "text": [
      "C:\\Users\\user\\Anaconda3\\lib\\site-packages\\sklearn\\preprocessing\\data.py:645: DataConversionWarning: Data with input dtype int64, float64 were all converted to float64 by StandardScaler.\n",
      "  return self.partial_fit(X, y)\n",
      "C:\\Users\\user\\Anaconda3\\lib\\site-packages\\ipykernel_launcher.py:16: DataConversionWarning: Data with input dtype int64, float64 were all converted to float64 by StandardScaler.\n",
      "  app.launch_new_instance()\n",
      "C:\\Users\\user\\Anaconda3\\lib\\site-packages\\sklearn\\preprocessing\\data.py:645: DataConversionWarning: Data with input dtype int64, float64 were all converted to float64 by StandardScaler.\n",
      "  return self.partial_fit(X, y)\n",
      "C:\\Users\\user\\Anaconda3\\lib\\site-packages\\ipykernel_launcher.py:18: DataConversionWarning: Data with input dtype int64, float64 were all converted to float64 by StandardScaler.\n"
     ]
    }
   ],
   "source": [
    "from sklearn.model_selection import cross_val_score\n",
    "from sklearn.ensemble import RandomForestClassifier\n",
    "from sklearn.preprocessing import StandardScaler\n",
    "from sklearn.metrics import accuracy_score\n",
    "from sklearn.utils import shuffle\n",
    "\n",
    "df_feature = shuffle(df_feature)\n",
    "\n",
    "X_train = df_feature.drop(['label'],axis=1)\n",
    "y_train = df_feature['label']\n",
    "X_test = df_featuret.drop(['label'],axis=1)\n",
    "y_test = df_featuret['label']\n",
    "\n",
    "scaler = StandardScaler()\n",
    "scaler.fit(X_train)\n",
    "X_train = scaler.transform(X_train)\n",
    "scaler.fit(X_test)\n",
    "X_test = scaler.transform(X_test)"
   ]
  },
  {
   "cell_type": "code",
   "execution_count": 5,
   "metadata": {},
   "outputs": [
    {
     "data": {
      "text/plain": [
       "array([0.92994505, 0.92984869, 0.92572215, 0.92709766, 0.94497937])"
      ]
     },
     "execution_count": 5,
     "metadata": {},
     "output_type": "execute_result"
    }
   ],
   "source": [
    "RFC_METRIC = 'entropy'  #metric used for RandomForrestClassifier\n",
    "NUM_ESTIMATORS = 100 #number of estimators used for RandomForrestClassifier\n",
    "NO_JOBS = -1 #number of parallel jobs used for RandomForrestClassifier\n",
    "clf = RandomForestClassifier(n_jobs=NO_JOBS, \n",
    "                             random_state=2000,\n",
    "                             criterion=RFC_METRIC,\n",
    "                             n_estimators=NUM_ESTIMATORS,\n",
    "                             verbose=False)\n",
    "\n",
    "scores_RF = cross_val_score(clf, X_train, y_train, cv=5)\n",
    "scores_RF\n"
   ]
  },
  {
   "cell_type": "code",
   "execution_count": 6,
   "metadata": {},
   "outputs": [
    {
     "data": {
      "text/plain": [
       "0.725925925925926"
      ]
     },
     "execution_count": 6,
     "metadata": {},
     "output_type": "execute_result"
    }
   ],
   "source": [
    "clf.fit(X_train,y_train)\n",
    "pred1 = clf.predict(X_test)\n",
    "acc_score_RF = accuracy_score(y_test,pred1)\n",
    "acc_score_RF"
   ]
  },
  {
   "cell_type": "code",
   "execution_count": 7,
   "metadata": {},
   "outputs": [
    {
     "name": "stdout",
     "output_type": "stream",
     "text": [
      "Sensitivity is 0.727735368956743\n",
      "Specificity is 0.7242206235011991\n"
     ]
    }
   ],
   "source": [
    "from sklearn.metrics import confusion_matrix\n",
    "cm = confusion_matrix(y_test,pred1)\n",
    "TP = cm[0][0]\n",
    "FP = cm[0][1]\n",
    "FN = cm[1][0]\n",
    "TN = cm[1][1]\n",
    "\n",
    "Sensitivity_RF = TP / (TP + FN)\n",
    "Specificity_RF = TN / (TN + FP)\n",
    "\n",
    "print(F\"Sensitivity is { Sensitivity_RF }\")\n",
    "print(F\"Specificity is { Specificity_RF }\")"
   ]
  },
  {
   "cell_type": "code",
   "execution_count": 8,
   "metadata": {},
   "outputs": [],
   "source": [
    "accuracy_list.append(acc_score_RF)\n",
    "sensitivity_score.append(Sensitivity_RF)\n",
    "specificity_score.append(Specificity_RF)"
   ]
  },
  {
   "cell_type": "raw",
   "metadata": {},
   "source": [
    "\"\"\"\n",
    "from sklearn import svm\n",
    "from sklearn.model_selection import GridSearchCV \n",
    "\n",
    "# defining parameter range \n",
    "param_grid = {'C': [0.1, 1, 10, 100], \n",
    "                'gamma': [1, 0.1, 0.01, 0.001, 0.0001], \n",
    "                'kernel': ['linear','rbf']} \n",
    "\n",
    "grid = GridSearchCV(svm.SVC(), param_grid, refit = True, verbose = 3) \n",
    "\n",
    "# fitting the model for grid search \n",
    "grid.fit(X_train, y_train) \n",
    "\n",
    "# print best parameter after tuning \n",
    "print(grid.best_params_) \n",
    "\n",
    "# print how our model looks after hyper-parameter tuning \n",
    "print(grid.best_estimator_) \n",
    "\"\"\"\n"
   ]
  },
  {
   "cell_type": "code",
   "execution_count": 9,
   "metadata": {},
   "outputs": [
    {
     "data": {
      "text/plain": [
       "array([0.93406593, 0.93672627, 0.91746905, 0.94085282, 0.9215956 ])"
      ]
     },
     "execution_count": 9,
     "metadata": {},
     "output_type": "execute_result"
    }
   ],
   "source": [
    "from sklearn import svm\n",
    "clf_svm1 = svm.SVC(kernel='linear', C=1)\n",
    "scores_svm1 = cross_val_score(clf_svm1, X_train, y_train, cv=5)\n",
    "scores_svm1"
   ]
  },
  {
   "cell_type": "code",
   "execution_count": 10,
   "metadata": {},
   "outputs": [
    {
     "data": {
      "text/plain": [
       "0.7283950617283951"
      ]
     },
     "execution_count": 10,
     "metadata": {},
     "output_type": "execute_result"
    }
   ],
   "source": [
    "clf_svm1.fit(X_train,y_train)\n",
    "pred2 = clf_svm1.predict(X_test)\n",
    "acc_score_svm1 = accuracy_score(y_test,pred2)\n",
    "acc_score_svm1"
   ]
  },
  {
   "cell_type": "code",
   "execution_count": 11,
   "metadata": {},
   "outputs": [
    {
     "name": "stdout",
     "output_type": "stream",
     "text": [
      "Sensitivity is 0.7061503416856492\n",
      "Specificity is 0.7547169811320755\n"
     ]
    }
   ],
   "source": [
    "from sklearn.metrics import confusion_matrix\n",
    "cm = confusion_matrix(y_test,pred2)\n",
    "TP = cm[0][0]\n",
    "FP = cm[0][1]\n",
    "FN = cm[1][0]\n",
    "TN = cm[1][1]\n",
    "\n",
    "Sensitivity_svm1 = TP / (TP + FN)\n",
    "Specificity_svm1 = TN / (TN + FP)\n",
    "\n",
    "print(F\"Sensitivity is { Sensitivity_svm1 }\")\n",
    "print(F\"Specificity is { Specificity_svm1 }\")"
   ]
  },
  {
   "cell_type": "code",
   "execution_count": 12,
   "metadata": {},
   "outputs": [],
   "source": [
    "accuracy_list.append(acc_score_svm1)\n",
    "sensitivity_score.append(Sensitivity_svm1)\n",
    "specificity_score.append(Specificity_svm1)"
   ]
  },
  {
   "cell_type": "code",
   "execution_count": 13,
   "metadata": {},
   "outputs": [
    {
     "name": "stderr",
     "output_type": "stream",
     "text": [
      "C:\\Users\\user\\Anaconda3\\lib\\site-packages\\sklearn\\svm\\base.py:196: FutureWarning: The default value of gamma will change from 'auto' to 'scale' in version 0.22 to account better for unscaled features. Set gamma explicitly to 'auto' or 'scale' to avoid this warning.\n",
      "  \"avoid this warning.\", FutureWarning)\n",
      "C:\\Users\\user\\Anaconda3\\lib\\site-packages\\sklearn\\svm\\base.py:196: FutureWarning: The default value of gamma will change from 'auto' to 'scale' in version 0.22 to account better for unscaled features. Set gamma explicitly to 'auto' or 'scale' to avoid this warning.\n",
      "  \"avoid this warning.\", FutureWarning)\n",
      "C:\\Users\\user\\Anaconda3\\lib\\site-packages\\sklearn\\svm\\base.py:196: FutureWarning: The default value of gamma will change from 'auto' to 'scale' in version 0.22 to account better for unscaled features. Set gamma explicitly to 'auto' or 'scale' to avoid this warning.\n",
      "  \"avoid this warning.\", FutureWarning)\n",
      "C:\\Users\\user\\Anaconda3\\lib\\site-packages\\sklearn\\svm\\base.py:196: FutureWarning: The default value of gamma will change from 'auto' to 'scale' in version 0.22 to account better for unscaled features. Set gamma explicitly to 'auto' or 'scale' to avoid this warning.\n",
      "  \"avoid this warning.\", FutureWarning)\n",
      "C:\\Users\\user\\Anaconda3\\lib\\site-packages\\sklearn\\svm\\base.py:196: FutureWarning: The default value of gamma will change from 'auto' to 'scale' in version 0.22 to account better for unscaled features. Set gamma explicitly to 'auto' or 'scale' to avoid this warning.\n",
      "  \"avoid this warning.\", FutureWarning)\n"
     ]
    },
    {
     "data": {
      "text/plain": [
       "array([0.91208791, 0.92572215, 0.90371389, 0.91884457, 0.92984869])"
      ]
     },
     "execution_count": 13,
     "metadata": {},
     "output_type": "execute_result"
    }
   ],
   "source": [
    "clf_svm2 = svm.SVC(kernel='rbf', C=1)\n",
    "scores_svm2 = cross_val_score(clf_svm2, X_train, y_train, cv=5)\n",
    "scores_svm2"
   ]
  },
  {
   "cell_type": "code",
   "execution_count": 14,
   "metadata": {},
   "outputs": [
    {
     "data": {
      "text/plain": [
       "0.7185185185185186"
      ]
     },
     "execution_count": 14,
     "metadata": {},
     "output_type": "execute_result"
    }
   ],
   "source": [
    "clf_svm2.fit(X_train,y_train)\n",
    "pred2 = clf_svm2.predict(X_test)\n",
    "acc_score_svm2 = accuracy_score(y_test,pred2)\n",
    "acc_score_svm2"
   ]
  },
  {
   "cell_type": "code",
   "execution_count": 15,
   "metadata": {},
   "outputs": [
    {
     "name": "stdout",
     "output_type": "stream",
     "text": [
      "Sensitivity is 0.7104622871046229\n",
      "Specificity is 0.7268170426065163\n"
     ]
    }
   ],
   "source": [
    "from sklearn.metrics import confusion_matrix\n",
    "cm = confusion_matrix(y_test,pred2)\n",
    "TP = cm[0][0]\n",
    "FP = cm[0][1]\n",
    "FN = cm[1][0]\n",
    "TN = cm[1][1]\n",
    "\n",
    "Sensitivity_svm2 = TP / (TP + FN)\n",
    "Specificity_svm2 = TN / (TN + FP)\n",
    "\n",
    "print(F\"Sensitivity is { Sensitivity_svm2 }\")\n",
    "print(F\"Specificity is { Specificity_svm2 }\")"
   ]
  },
  {
   "cell_type": "code",
   "execution_count": 16,
   "metadata": {},
   "outputs": [],
   "source": [
    "accuracy_list.append(acc_score_svm2)\n",
    "sensitivity_score.append(Sensitivity_svm2)\n",
    "specificity_score.append(Specificity_svm2)"
   ]
  },
  {
   "cell_type": "code",
   "execution_count": 17,
   "metadata": {},
   "outputs": [
    {
     "data": {
      "text/plain": [
       "array([0.92857143, 0.93122421, 0.92297111, 0.94222834, 0.93397524])"
      ]
     },
     "execution_count": 17,
     "metadata": {},
     "output_type": "execute_result"
    }
   ],
   "source": [
    "clf_svm3 = svm.SVC(C=0.1, cache_size=200, class_weight=None, coef0=0.0,\n",
    "  decision_function_shape='ovr', degree=3, gamma=1, kernel='linear',\n",
    "  max_iter=-1, probability=False, random_state=None, shrinking=True,\n",
    "  tol=0.001, verbose=False)\n",
    "scores_svm3 = cross_val_score(clf_svm3, X_train, y_train, cv=5)\n",
    "scores_svm3"
   ]
  },
  {
   "cell_type": "code",
   "execution_count": 18,
   "metadata": {},
   "outputs": [
    {
     "data": {
      "text/plain": [
       "0.7506172839506173"
      ]
     },
     "execution_count": 18,
     "metadata": {},
     "output_type": "execute_result"
    }
   ],
   "source": [
    "clf_svm3.fit(X_train,y_train)\n",
    "pred3 = clf_svm3.predict(X_test)\n",
    "acc_score_svm3 = accuracy_score(y_test,pred3)\n",
    "acc_score_svm3"
   ]
  },
  {
   "cell_type": "code",
   "execution_count": 19,
   "metadata": {},
   "outputs": [
    {
     "name": "stdout",
     "output_type": "stream",
     "text": [
      "Sensitivity is 0.7104622871046229\n",
      "Specificity is 0.7268170426065163\n"
     ]
    }
   ],
   "source": [
    "from sklearn.metrics import confusion_matrix\n",
    "cm = confusion_matrix(y_test,pred3)\n",
    "TP = cm[0][0]\n",
    "FP = cm[0][1]\n",
    "FN = cm[1][0]\n",
    "TN = cm[1][1]\n",
    "\n",
    "Sensitivity_svm3 = TP / (TP + FN)\n",
    "Specificity_svm3 = TN / (TN + FP)\n",
    "\n",
    "print(F\"Sensitivity is { Sensitivity_svm3 }\")\n",
    "print(F\"Specificity is { Specificity_svm3 }\")"
   ]
  },
  {
   "cell_type": "code",
   "execution_count": 20,
   "metadata": {},
   "outputs": [],
   "source": [
    "accuracy_list.append(acc_score_svm3)\n",
    "sensitivity_score.append(Sensitivity_svm3)\n",
    "specificity_score.append(Specificity_svm3)"
   ]
  },
  {
   "cell_type": "code",
   "execution_count": 21,
   "metadata": {},
   "outputs": [],
   "source": [
    "from sklearn.ensemble import VotingClassifier\n",
    "\n",
    "estimators = []\n",
    "estimators.append(('rf', clf))\n",
    "estimators.append(('svm', clf_svm1))\n",
    "estimators.append(('svm3', clf_svm3))\n",
    "# create the ensemble model\n",
    "ensemble = VotingClassifier(estimators)"
   ]
  },
  {
   "cell_type": "code",
   "execution_count": 22,
   "metadata": {},
   "outputs": [
    {
     "data": {
      "text/plain": [
       "array([0.93406593, 0.93672627, 0.92022008, 0.94085282, 0.93535076])"
      ]
     },
     "execution_count": 22,
     "metadata": {},
     "output_type": "execute_result"
    }
   ],
   "source": [
    "scores_ens = cross_val_score(ensemble, X_train, y_train, cv=5)\n",
    "scores_ens"
   ]
  },
  {
   "cell_type": "code",
   "execution_count": 23,
   "metadata": {},
   "outputs": [
    {
     "data": {
      "text/plain": [
       "0.7432098765432099"
      ]
     },
     "execution_count": 23,
     "metadata": {},
     "output_type": "execute_result"
    }
   ],
   "source": [
    "ensemble.fit(X_train,y_train)\n",
    "pred4 = ensemble.predict(X_test)\n",
    "acc_score_ens = accuracy_score(y_test,pred4)\n",
    "acc_score_ens"
   ]
  },
  {
   "cell_type": "code",
   "execution_count": 24,
   "metadata": {},
   "outputs": [
    {
     "name": "stdout",
     "output_type": "stream",
     "text": [
      "Sensitivity is 0.7256235827664399\n",
      "Specificity is 0.7804878048780488\n"
     ]
    }
   ],
   "source": [
    "from sklearn.metrics import confusion_matrix\n",
    "cm = confusion_matrix(y_test,pred3)\n",
    "TP = cm[0][0]\n",
    "FP = cm[0][1]\n",
    "FN = cm[1][0]\n",
    "TN = cm[1][1]\n",
    "\n",
    "Sensitivity_ens = TP / (TP + FN)\n",
    "Specificity_ens = TN / (TN + FP)\n",
    "\n",
    "print(F\"Sensitivity is { Sensitivity_ens }\")\n",
    "print(F\"Specificity is { Specificity_ens }\")"
   ]
  },
  {
   "cell_type": "code",
   "execution_count": 25,
   "metadata": {},
   "outputs": [],
   "source": [
    "accuracy_list.append(acc_score_ens)\n",
    "sensitivity_score.append(Sensitivity_ens)\n",
    "specificity_score.append(Specificity_ens)"
   ]
  },
  {
   "cell_type": "code",
   "execution_count": 26,
   "metadata": {},
   "outputs": [
    {
     "data": {
      "text/plain": [
       "Text(0.5, 1.0, 'KFold trend of different Models')"
      ]
     },
     "execution_count": 26,
     "metadata": {},
     "output_type": "execute_result"
    },
    {
     "data": {
      "image/png": "[encoded data removed]",
      "text/plain": [
       "<Figure size 1296x216 with 1 Axes>"
      ]
     },
     "metadata": {
      "needs_background": "light"
     },
     "output_type": "display_data"
    }
   ],
   "source": [
    "import matplotlib.pyplot as plt\n",
    "%matplotlib inline\n",
    "\n",
    "fig= plt.figure(figsize=(18,3))\n",
    "plt.plot( [1,2,3,4,5], scores_RF, linewidth=2,label=\"RF\")\n",
    "plt.plot( [1,2,3,4,5], scores_svm1, linewidth=2,label=\"SVM1\")\n",
    "plt.plot( [1,2,3,4,5], scores_svm2, linewidth=2,label=\"SVM2\")\n",
    "plt.plot( [1,2,3,4,5], scores_svm3, linewidth=2,label=\"SVM3\")\n",
    "plt.plot( [1,2,3,4,5], scores_ens, linewidth=2,label=\"ENS\")\n",
    "plt.legend()\n",
    "plt.title(\"KFold trend of different Models\")\n",
    "\n"
   ]
  },
  {
   "cell_type": "code",
   "execution_count": 27,
   "metadata": {},
   "outputs": [
    {
     "data": {
      "text/plain": [
       "Text(0.5, 1.0, 'Bar plot of accuracy')"
      ]
     },
     "execution_count": 27,
     "metadata": {},
     "output_type": "execute_result"
    },
    {
     "data": {
      "image/png": "[encoded data removed]",
      "text/plain": [
       "<Figure size 648x432 with 1 Axes>"
      ]
     },
     "metadata": {
      "needs_background": "light"
     },
     "output_type": "display_data"
    }
   ],
   "source": [
    "import numpy as np\n",
    "accuracy_listnp = np.array(accuracy_list)\n",
    "accuracy_listnp = accuracy_listnp * 100\n",
    "\n",
    "fig= plt.figure(figsize=(9,6))\n",
    "plt.ylim( (0, 100) ) \n",
    "plt.bar([1,2,3,4,5],accuracy_listnp,color=['orange', 'red', 'green', 'blue', 'cyan'])\n",
    "plt.xticks([1,2,3,4,5], ('RF', 'SVM1', 'SVM2', 'SVM3', 'ENSEMBLE'))\n",
    "plt.title(\"Bar plot of accuracy\")"
   ]
  },
  {
   "cell_type": "code",
   "execution_count": 28,
   "metadata": {},
   "outputs": [
    {
     "data": {
      "text/plain": [
       "<Figure size 864x432 with 0 Axes>"
      ]
     },
     "metadata": {},
     "output_type": "display_data"
    },
    {
     "data": {
      "image/png": "[encoded data removed]",
      "text/plain": [
       "<Figure size 432x288 with 1 Axes>"
      ]
     },
     "metadata": {
      "needs_background": "light"
     },
     "output_type": "display_data"
    }
   ],
   "source": [
    "fig= plt.figure(figsize=(12,6))\n",
    "\n",
    "# data to plot\n",
    "n_groups = 5\n",
    "sensitivity_scorenp = np.array(sensitivity_score)\n",
    "sensitivity_scorenp = sensitivity_scorenp * 100\n",
    "specificity_scorenp = np.array(specificity_score)\n",
    "specificity_scorenp = specificity_scorenp * 100\n",
    "\n",
    "# create plot\n",
    "fig, ax = plt.subplots()\n",
    "index = np.arange(n_groups)\n",
    "bar_width = 0.35\n",
    "opacity = 0.8\n",
    "\n",
    "rects1 = plt.bar(index, sensitivity_scorenp, bar_width,\n",
    "alpha=opacity,\n",
    "color='b',\n",
    "label='Sensitivity')\n",
    "\n",
    "rects2 = plt.bar(index + bar_width, specificity_scorenp, bar_width,\n",
    "alpha=opacity,\n",
    "color='g',\n",
    "label='specificity')\n",
    "\n",
    "plt.xlabel('Models')\n",
    "plt.ylabel('Scores')\n",
    "plt.title('Sensitivity and Specificity')\n",
    "plt.xticks(index + bar_width, ('RF', 'SVM1', 'SVM2', 'SVM3', 'ENSEMBLE'))\n",
    "plt.ylim(0,100)\n",
    "plt.legend()\n",
    "\n",
    "plt.tight_layout()\n",
    "plt.show()"
   ]
  },
  {
   "cell_type": "markdown",
   "metadata": {},
   "source": [
    "# MRMR"
   ]
  },
  {
   "cell_type": "code",
   "execution_count": 29,
   "metadata": {},
   "outputs": [],
   "source": [
    "mrmr_feature = [['mcr_cd1', 'zcr_ca4', 'ac499', 'mcr_ca4', 'mcr_fft', 'mean_psd', 'var_ca3', 'kurt_psd', 'ac498', 'skew_fftw', 'ac483', 'CF_fft', 'ac478', 'ac473', 'ac1', 'ac461', 'ac306', 'ac2', 'rms_ca3', 'zcr_ca3', 'CF_ca3', 'mcr_ca3', 'mean_ca4', 'std_ca4', 'CF_ca2', 'rms_ca2', 'std_ca2', 'skew_ca2', 'kurt_ca2', 'mode_ca2', 'mode_ca3', 'kurt_ca3', 'zcr_ca2', 'mean_ca3', 'std_ca3', 'skew_ca3', 'var_ca4', 'mean_ca2', 'ac489', 'ac491', 'ac486', 'ac488', 'ac479', 'ac490', 'ac465', 'ac496', 'ac497', 'ac481', 'skew_ca4', 'ac467'],['mcr_cd1', 'zcr_ca4', 'ac499', 'mcr_ca4', 'mcr_fft', 'mean_psd', 'var_ca3', 'kurt_psd', 'ac498', 'skew_fftw', 'ac483', 'CF_fft', 'ac478', 'ac473', 'ac1', 'ac461', 'ac306', 'ac2', 'rms_ca3', 'zcr_ca3', 'CF_ca3', 'mcr_ca3', 'mean_ca4', 'std_ca4', 'CF_ca2', 'rms_ca2', 'std_ca2', 'skew_ca2', 'kurt_ca2', 'mode_ca2', 'mode_ca3', 'kurt_ca3', 'zcr_ca2', 'mean_ca3', 'std_ca3', 'skew_ca3', 'var_ca4', 'mean_ca2', 'ac489', 'ac491'],['mcr_cd1', 'zcr_ca4', 'ac499', 'mcr_ca4', 'mcr_fft', 'mean_psd', 'var_ca3', 'kurt_psd', 'ac498', 'skew_fftw', 'ac483', 'CF_fft', 'ac478', 'ac473', 'ac1', 'ac461', 'ac306', 'ac2', 'rms_ca3', 'zcr_ca3', 'CF_ca3', 'mcr_ca3', 'mean_ca4', 'std_ca4', 'CF_ca2', 'rms_ca2', 'std_ca2', 'skew_ca2', 'kurt_ca2', 'mode_ca2'],['mcr_cd1', 'zcr_ca4', 'ac499', 'mcr_ca4', 'mcr_fft', 'mean_psd', 'var_ca3', 'kurt_psd', 'ac498', 'skew_fftw', 'ac483', 'CF_fft', 'ac478', 'ac473', 'ac1', 'ac461', 'ac306', 'ac2', 'rms_ca3', 'zcr_ca3'],['mcr_cd1', 'zcr_ca4', 'ac499', 'mcr_ca4', 'mcr_fft', 'mean_psd', 'var_ca3', 'kurt_psd', 'ac498', 'skew_fftw']]"
   ]
  },
  {
   "cell_type": "code",
   "execution_count": 30,
   "metadata": {},
   "outputs": [
    {
     "name": "stdout",
     "output_type": "stream",
     "text": [
      "*************************************************\n",
      "features in use - \n",
      " ['mcr_cd1', 'zcr_ca4', 'ac499', 'mcr_ca4', 'mcr_fft', 'mean_psd', 'var_ca3', 'kurt_psd', 'ac498', 'skew_fftw', 'ac483', 'CF_fft', 'ac478', 'ac473', 'ac1', 'ac461', 'ac306', 'ac2', 'rms_ca3', 'zcr_ca3', 'CF_ca3', 'mcr_ca3', 'mean_ca4', 'std_ca4', 'CF_ca2', 'rms_ca2', 'std_ca2', 'skew_ca2', 'kurt_ca2', 'mode_ca2', 'mode_ca3', 'kurt_ca3', 'zcr_ca2', 'mean_ca3', 'std_ca3', 'skew_ca3', 'var_ca4', 'mean_ca2', 'ac489', 'ac491', 'ac486', 'ac488', 'ac479', 'ac490', 'ac465', 'ac496', 'ac497', 'ac481', 'skew_ca4', 'ac467']\n"
     ]
    },
    {
     "name": "stderr",
     "output_type": "stream",
     "text": [
      "C:\\Users\\user\\Anaconda3\\lib\\site-packages\\sklearn\\preprocessing\\data.py:645: DataConversionWarning: Data with input dtype int64, float64 were all converted to float64 by StandardScaler.\n",
      "  return self.partial_fit(X, y)\n",
      "C:\\Users\\user\\Anaconda3\\lib\\site-packages\\ipykernel_launcher.py:20: DataConversionWarning: Data with input dtype int64, float64 were all converted to float64 by StandardScaler.\n",
      "C:\\Users\\user\\Anaconda3\\lib\\site-packages\\sklearn\\preprocessing\\data.py:645: DataConversionWarning: Data with input dtype int64, float64 were all converted to float64 by StandardScaler.\n",
      "  return self.partial_fit(X, y)\n",
      "C:\\Users\\user\\Anaconda3\\lib\\site-packages\\ipykernel_launcher.py:22: DataConversionWarning: Data with input dtype int64, float64 were all converted to float64 by StandardScaler.\n"
     ]
    },
    {
     "name": "stdout",
     "output_type": "stream",
     "text": [
      "training score for RF is - [0.81868132 0.8349381  0.85694635 0.85144429 0.83631362]\n",
      "test acc_score for RF is - 0.5876543209876544\n",
      "Sensitivity for RF is 0.6151202749140894\n",
      "Specificity for RF is 0.5722543352601156\n",
      "training score for svm linear is - [0.81043956 0.80605227 0.84869326 0.8170564  0.85006878]\n",
      "test acc_score for svm linear is - 0.6024691358024692\n",
      "Sensitivity for svm linear is 0.6025974025974026\n",
      "Specificity for svm linear is 0.6023529411764705\n"
     ]
    },
    {
     "name": "stderr",
     "output_type": "stream",
     "text": [
      "C:\\Users\\user\\Anaconda3\\lib\\site-packages\\sklearn\\svm\\base.py:196: FutureWarning: The default value of gamma will change from 'auto' to 'scale' in version 0.22 to account better for unscaled features. Set gamma explicitly to 'auto' or 'scale' to avoid this warning.\n",
      "  \"avoid this warning.\", FutureWarning)\n",
      "C:\\Users\\user\\Anaconda3\\lib\\site-packages\\sklearn\\svm\\base.py:196: FutureWarning: The default value of gamma will change from 'auto' to 'scale' in version 0.22 to account better for unscaled features. Set gamma explicitly to 'auto' or 'scale' to avoid this warning.\n",
      "  \"avoid this warning.\", FutureWarning)\n",
      "C:\\Users\\user\\Anaconda3\\lib\\site-packages\\sklearn\\svm\\base.py:196: FutureWarning: The default value of gamma will change from 'auto' to 'scale' in version 0.22 to account better for unscaled features. Set gamma explicitly to 'auto' or 'scale' to avoid this warning.\n",
      "  \"avoid this warning.\", FutureWarning)\n",
      "C:\\Users\\user\\Anaconda3\\lib\\site-packages\\sklearn\\svm\\base.py:196: FutureWarning: The default value of gamma will change from 'auto' to 'scale' in version 0.22 to account better for unscaled features. Set gamma explicitly to 'auto' or 'scale' to avoid this warning.\n",
      "  \"avoid this warning.\", FutureWarning)\n"
     ]
    },
    {
     "name": "stdout",
     "output_type": "stream",
     "text": [
      "training score for svm rbf is - [0.82554945 0.82668501 0.84731774 0.84044017 0.86244842]\n",
      "test acc_score for svm rbf is - 0.6061728395061728\n",
      "Sensitivity for svm rbf is 0.6227544910179641\n",
      "Specificity for svm rbf is 0.5945378151260504\n",
      "training score for svm rbf is - [0.80494505 0.79779917 0.83768913 0.81017882 0.83768913]\n",
      "test acc_score for svm rbf is - 0.591358024691358\n",
      "Sensitivity for svm rbf is 0.5930851063829787\n",
      "Specificity for svm rbf is 0.5898617511520737\n",
      "score for eensemble is - [0.81043956 0.8088033  0.84594223 0.81980743 0.85144429]\n",
      "acc_score for ensemble is - 0.5962962962962963\n",
      "Sensitivity for ensemble is 0.5989304812834224\n",
      "Specificity for ensemble is 0.5940366972477065\n",
      "*************************************************\n",
      "features in use - \n",
      " ['mcr_cd1', 'zcr_ca4', 'ac499', 'mcr_ca4', 'mcr_fft', 'mean_psd', 'var_ca3', 'kurt_psd', 'ac498', 'skew_fftw', 'ac483', 'CF_fft', 'ac478', 'ac473', 'ac1', 'ac461', 'ac306', 'ac2', 'rms_ca3', 'zcr_ca3', 'CF_ca3', 'mcr_ca3', 'mean_ca4', 'std_ca4', 'CF_ca2', 'rms_ca2', 'std_ca2', 'skew_ca2', 'kurt_ca2', 'mode_ca2', 'mode_ca3', 'kurt_ca3', 'zcr_ca2', 'mean_ca3', 'std_ca3', 'skew_ca3', 'var_ca4', 'mean_ca2', 'ac489', 'ac491']\n"
     ]
    },
    {
     "name": "stderr",
     "output_type": "stream",
     "text": [
      "C:\\Users\\user\\Anaconda3\\lib\\site-packages\\sklearn\\preprocessing\\data.py:645: DataConversionWarning: Data with input dtype int64, float64 were all converted to float64 by StandardScaler.\n",
      "  return self.partial_fit(X, y)\n",
      "C:\\Users\\user\\Anaconda3\\lib\\site-packages\\ipykernel_launcher.py:20: DataConversionWarning: Data with input dtype int64, float64 were all converted to float64 by StandardScaler.\n",
      "C:\\Users\\user\\Anaconda3\\lib\\site-packages\\sklearn\\preprocessing\\data.py:645: DataConversionWarning: Data with input dtype int64, float64 were all converted to float64 by StandardScaler.\n",
      "  return self.partial_fit(X, y)\n",
      "C:\\Users\\user\\Anaconda3\\lib\\site-packages\\ipykernel_launcher.py:22: DataConversionWarning: Data with input dtype int64, float64 were all converted to float64 by StandardScaler.\n"
     ]
    },
    {
     "name": "stdout",
     "output_type": "stream",
     "text": [
      "training score for RF is - [0.83516484 0.8349381  0.86244842 0.8610729  0.84044017]\n",
      "test acc_score for RF is - 0.6037037037037037\n",
      "Sensitivity for RF is 0.6298701298701299\n",
      "Specificity for RF is 0.5876494023904383\n",
      "training score for svm linear is - [0.81181319 0.79779917 0.84869326 0.82530949 0.84594223]\n",
      "test acc_score for svm linear is - 0.5975308641975309\n",
      "Sensitivity for svm linear is 0.5968992248062015\n",
      "Specificity for svm linear is 0.5981087470449172\n"
     ]
    },
    {
     "name": "stderr",
     "output_type": "stream",
     "text": [
      "C:\\Users\\user\\Anaconda3\\lib\\site-packages\\sklearn\\svm\\base.py:196: FutureWarning: The default value of gamma will change from 'auto' to 'scale' in version 0.22 to account better for unscaled features. Set gamma explicitly to 'auto' or 'scale' to avoid this warning.\n",
      "  \"avoid this warning.\", FutureWarning)\n",
      "C:\\Users\\user\\Anaconda3\\lib\\site-packages\\sklearn\\svm\\base.py:196: FutureWarning: The default value of gamma will change from 'auto' to 'scale' in version 0.22 to account better for unscaled features. Set gamma explicitly to 'auto' or 'scale' to avoid this warning.\n",
      "  \"avoid this warning.\", FutureWarning)\n",
      "C:\\Users\\user\\Anaconda3\\lib\\site-packages\\sklearn\\svm\\base.py:196: FutureWarning: The default value of gamma will change from 'auto' to 'scale' in version 0.22 to account better for unscaled features. Set gamma explicitly to 'auto' or 'scale' to avoid this warning.\n",
      "  \"avoid this warning.\", FutureWarning)\n",
      "C:\\Users\\user\\Anaconda3\\lib\\site-packages\\sklearn\\svm\\base.py:196: FutureWarning: The default value of gamma will change from 'auto' to 'scale' in version 0.22 to account better for unscaled features. Set gamma explicitly to 'auto' or 'scale' to avoid this warning.\n",
      "  \"avoid this warning.\", FutureWarning)\n",
      "C:\\Users\\user\\Anaconda3\\lib\\site-packages\\sklearn\\svm\\base.py:196: FutureWarning: The default value of gamma will change from 'auto' to 'scale' in version 0.22 to account better for unscaled features. Set gamma explicitly to 'auto' or 'scale' to avoid this warning.\n",
      "  \"avoid this warning.\", FutureWarning)\n"
     ]
    },
    {
     "name": "stdout",
     "output_type": "stream",
     "text": [
      "training score for svm rbf is - [0.83653846 0.84594223 0.85419532 0.84456671 0.87207703]\n",
      "test acc_score for svm rbf is - 0.6037037037037037\n",
      "Sensitivity for svm rbf is 0.6212121212121212\n",
      "Specificity for svm rbf is 0.5916666666666667\n",
      "training score for svm rbf is - [0.80494505 0.80055021 0.83906465 0.81843191 0.8349381 ]\n",
      "test acc_score for svm rbf is - 0.5938271604938271\n",
      "Sensitivity for svm rbf is 0.5994475138121547\n",
      "Specificity for svm rbf is 0.5892857142857143\n",
      "score for eensemble is - [0.81730769 0.80742779 0.84731774 0.82668501 0.84594223]\n",
      "acc_score for ensemble is - 0.5975308641975309\n",
      "Sensitivity for ensemble is 0.6016260162601627\n",
      "Specificity for ensemble is 0.5941043083900227\n",
      "*************************************************\n",
      "features in use - \n",
      " ['mcr_cd1', 'zcr_ca4', 'ac499', 'mcr_ca4', 'mcr_fft', 'mean_psd', 'var_ca3', 'kurt_psd', 'ac498', 'skew_fftw', 'ac483', 'CF_fft', 'ac478', 'ac473', 'ac1', 'ac461', 'ac306', 'ac2', 'rms_ca3', 'zcr_ca3', 'CF_ca3', 'mcr_ca3', 'mean_ca4', 'std_ca4', 'CF_ca2', 'rms_ca2', 'std_ca2', 'skew_ca2', 'kurt_ca2', 'mode_ca2']\n"
     ]
    },
    {
     "name": "stderr",
     "output_type": "stream",
     "text": [
      "C:\\Users\\user\\Anaconda3\\lib\\site-packages\\sklearn\\preprocessing\\data.py:645: DataConversionWarning: Data with input dtype int64, float64 were all converted to float64 by StandardScaler.\n",
      "  return self.partial_fit(X, y)\n",
      "C:\\Users\\user\\Anaconda3\\lib\\site-packages\\ipykernel_launcher.py:20: DataConversionWarning: Data with input dtype int64, float64 were all converted to float64 by StandardScaler.\n",
      "C:\\Users\\user\\Anaconda3\\lib\\site-packages\\sklearn\\preprocessing\\data.py:645: DataConversionWarning: Data with input dtype int64, float64 were all converted to float64 by StandardScaler.\n",
      "  return self.partial_fit(X, y)\n",
      "C:\\Users\\user\\Anaconda3\\lib\\site-packages\\ipykernel_launcher.py:22: DataConversionWarning: Data with input dtype int64, float64 were all converted to float64 by StandardScaler.\n"
     ]
    },
    {
     "name": "stdout",
     "output_type": "stream",
     "text": [
      "training score for RF is - [0.83653846 0.84044017 0.86519945 0.85281981 0.8349381 ]\n",
      "test acc_score for RF is - 0.5901234567901235\n",
      "Sensitivity for RF is 0.6146179401993356\n",
      "Specificity for RF is 0.5756385068762279\n",
      "training score for svm linear is - [0.81181319 0.80330124 0.83768913 0.82530949 0.84594223]\n",
      "test acc_score for svm linear is - 0.5864197530864198\n",
      "Sensitivity for svm linear is 0.5863874345549738\n",
      "Specificity for svm linear is 0.5864485981308412\n"
     ]
    },
    {
     "name": "stderr",
     "output_type": "stream",
     "text": [
      "C:\\Users\\user\\Anaconda3\\lib\\site-packages\\sklearn\\svm\\base.py:196: FutureWarning: The default value of gamma will change from 'auto' to 'scale' in version 0.22 to account better for unscaled features. Set gamma explicitly to 'auto' or 'scale' to avoid this warning.\n",
      "  \"avoid this warning.\", FutureWarning)\n",
      "C:\\Users\\user\\Anaconda3\\lib\\site-packages\\sklearn\\svm\\base.py:196: FutureWarning: The default value of gamma will change from 'auto' to 'scale' in version 0.22 to account better for unscaled features. Set gamma explicitly to 'auto' or 'scale' to avoid this warning.\n",
      "  \"avoid this warning.\", FutureWarning)\n",
      "C:\\Users\\user\\Anaconda3\\lib\\site-packages\\sklearn\\svm\\base.py:196: FutureWarning: The default value of gamma will change from 'auto' to 'scale' in version 0.22 to account better for unscaled features. Set gamma explicitly to 'auto' or 'scale' to avoid this warning.\n",
      "  \"avoid this warning.\", FutureWarning)\n",
      "C:\\Users\\user\\Anaconda3\\lib\\site-packages\\sklearn\\svm\\base.py:196: FutureWarning: The default value of gamma will change from 'auto' to 'scale' in version 0.22 to account better for unscaled features. Set gamma explicitly to 'auto' or 'scale' to avoid this warning.\n",
      "  \"avoid this warning.\", FutureWarning)\n",
      "C:\\Users\\user\\Anaconda3\\lib\\site-packages\\sklearn\\svm\\base.py:196: FutureWarning: The default value of gamma will change from 'auto' to 'scale' in version 0.22 to account better for unscaled features. Set gamma explicitly to 'auto' or 'scale' to avoid this warning.\n",
      "  \"avoid this warning.\", FutureWarning)\n"
     ]
    },
    {
     "name": "stdout",
     "output_type": "stream",
     "text": [
      "training score for svm rbf is - [0.84340659 0.85281981 0.85419532 0.83631362 0.86657497]\n",
      "test acc_score for svm rbf is - 0.6037037037037037\n",
      "Sensitivity for svm rbf is 0.6257861635220126\n",
      "Specificity for svm rbf is 0.5894308943089431\n",
      "training score for svm rbf is - [0.80082418 0.79504814 0.83218707 0.81980743 0.82393398]\n",
      "test acc_score for svm rbf is - 0.5839506172839506\n",
      "Sensitivity for svm rbf is 0.5864864864864865\n",
      "Specificity for svm rbf is 0.5818181818181818\n",
      "score for eensemble is - [0.81181319 0.80605227 0.84044017 0.82806052 0.84456671]\n",
      "acc_score for ensemble is - 0.5839506172839506\n",
      "Sensitivity for ensemble is 0.5869565217391305\n",
      "Specificity for ensemble is 0.581447963800905\n",
      "*************************************************\n",
      "features in use - \n",
      " ['mcr_cd1', 'zcr_ca4', 'ac499', 'mcr_ca4', 'mcr_fft', 'mean_psd', 'var_ca3', 'kurt_psd', 'ac498', 'skew_fftw', 'ac483', 'CF_fft', 'ac478', 'ac473', 'ac1', 'ac461', 'ac306', 'ac2', 'rms_ca3', 'zcr_ca3']\n"
     ]
    },
    {
     "name": "stderr",
     "output_type": "stream",
     "text": [
      "C:\\Users\\user\\Anaconda3\\lib\\site-packages\\sklearn\\preprocessing\\data.py:645: DataConversionWarning: Data with input dtype int64, float64 were all converted to float64 by StandardScaler.\n",
      "  return self.partial_fit(X, y)\n",
      "C:\\Users\\user\\Anaconda3\\lib\\site-packages\\ipykernel_launcher.py:20: DataConversionWarning: Data with input dtype int64, float64 were all converted to float64 by StandardScaler.\n",
      "C:\\Users\\user\\Anaconda3\\lib\\site-packages\\sklearn\\preprocessing\\data.py:645: DataConversionWarning: Data with input dtype int64, float64 were all converted to float64 by StandardScaler.\n",
      "  return self.partial_fit(X, y)\n",
      "C:\\Users\\user\\Anaconda3\\lib\\site-packages\\ipykernel_launcher.py:22: DataConversionWarning: Data with input dtype int64, float64 were all converted to float64 by StandardScaler.\n"
     ]
    },
    {
     "name": "stdout",
     "output_type": "stream",
     "text": [
      "training score for RF is - [0.84340659 0.84181568 0.84731774 0.83906465 0.8349381 ]\n",
      "test acc_score for RF is - 0.5728395061728395\n",
      "Sensitivity for RF is 0.5951557093425606\n",
      "Specificity for RF is 0.5604606525911708\n",
      "training score for svm linear is - [0.81043956 0.80055021 0.83081155 0.82530949 0.82668501]\n",
      "test acc_score for svm linear is - 0.582716049382716\n",
      "Sensitivity for svm linear is 0.5853658536585366\n",
      "Specificity for svm linear is 0.5804988662131519\n"
     ]
    },
    {
     "name": "stderr",
     "output_type": "stream",
     "text": [
      "C:\\Users\\user\\Anaconda3\\lib\\site-packages\\sklearn\\svm\\base.py:196: FutureWarning: The default value of gamma will change from 'auto' to 'scale' in version 0.22 to account better for unscaled features. Set gamma explicitly to 'auto' or 'scale' to avoid this warning.\n",
      "  \"avoid this warning.\", FutureWarning)\n",
      "C:\\Users\\user\\Anaconda3\\lib\\site-packages\\sklearn\\svm\\base.py:196: FutureWarning: The default value of gamma will change from 'auto' to 'scale' in version 0.22 to account better for unscaled features. Set gamma explicitly to 'auto' or 'scale' to avoid this warning.\n",
      "  \"avoid this warning.\", FutureWarning)\n",
      "C:\\Users\\user\\Anaconda3\\lib\\site-packages\\sklearn\\svm\\base.py:196: FutureWarning: The default value of gamma will change from 'auto' to 'scale' in version 0.22 to account better for unscaled features. Set gamma explicitly to 'auto' or 'scale' to avoid this warning.\n",
      "  \"avoid this warning.\", FutureWarning)\n",
      "C:\\Users\\user\\Anaconda3\\lib\\site-packages\\sklearn\\svm\\base.py:196: FutureWarning: The default value of gamma will change from 'auto' to 'scale' in version 0.22 to account better for unscaled features. Set gamma explicitly to 'auto' or 'scale' to avoid this warning.\n",
      "  \"avoid this warning.\", FutureWarning)\n",
      "C:\\Users\\user\\Anaconda3\\lib\\site-packages\\sklearn\\svm\\base.py:196: FutureWarning: The default value of gamma will change from 'auto' to 'scale' in version 0.22 to account better for unscaled features. Set gamma explicitly to 'auto' or 'scale' to avoid this warning.\n",
      "  \"avoid this warning.\", FutureWarning)\n"
     ]
    },
    {
     "name": "stdout",
     "output_type": "stream",
     "text": [
      "training score for svm rbf is - [0.85164835 0.82530949 0.84869326 0.8431912  0.8610729 ]\n",
      "test acc_score for svm rbf is - 0.6074074074074074\n",
      "Sensitivity for svm rbf is 0.6309148264984227\n",
      "Specificity for svm rbf is 0.592292089249493\n",
      "training score for svm rbf is - [0.79532967 0.79917469 0.82943604 0.81292985 0.81430536]\n",
      "test acc_score for svm rbf is - 0.5740740740740741\n",
      "Sensitivity for svm rbf is 0.5760869565217391\n",
      "Specificity for svm rbf is 0.5723981900452488\n",
      "score for eensemble is - [0.80631868 0.80330124 0.83631362 0.82255846 0.82393398]\n"
     ]
    },
    {
     "name": "stderr",
     "output_type": "stream",
     "text": [
      "C:\\Users\\user\\Anaconda3\\lib\\site-packages\\sklearn\\preprocessing\\data.py:645: DataConversionWarning: Data with input dtype int64, float64 were all converted to float64 by StandardScaler.\n",
      "  return self.partial_fit(X, y)\n",
      "C:\\Users\\user\\Anaconda3\\lib\\site-packages\\ipykernel_launcher.py:20: DataConversionWarning: Data with input dtype int64, float64 were all converted to float64 by StandardScaler.\n",
      "C:\\Users\\user\\Anaconda3\\lib\\site-packages\\sklearn\\preprocessing\\data.py:645: DataConversionWarning: Data with input dtype int64, float64 were all converted to float64 by StandardScaler.\n",
      "  return self.partial_fit(X, y)\n",
      "C:\\Users\\user\\Anaconda3\\lib\\site-packages\\ipykernel_launcher.py:22: DataConversionWarning: Data with input dtype int64, float64 were all converted to float64 by StandardScaler.\n"
     ]
    },
    {
     "name": "stdout",
     "output_type": "stream",
     "text": [
      "acc_score for ensemble is - 0.5839506172839506\n",
      "Sensitivity for ensemble is 0.5888888888888889\n",
      "Specificity for ensemble is 0.58\n",
      "*************************************************\n",
      "features in use - \n",
      " ['mcr_cd1', 'zcr_ca4', 'ac499', 'mcr_ca4', 'mcr_fft', 'mean_psd', 'var_ca3', 'kurt_psd', 'ac498', 'skew_fftw']\n",
      "training score for RF is - [0.83379121 0.82943604 0.84731774 0.84869326 0.81980743]\n",
      "test acc_score for RF is - 0.5728395061728395\n",
      "Sensitivity for RF is 0.5895765472312704\n",
      "Specificity for RF is 0.562624254473161\n",
      "training score for svm linear is - [0.77747253 0.77854195 0.81292985 0.80742779 0.77716644]\n",
      "test acc_score for svm linear is - 0.5604938271604938\n",
      "Sensitivity for svm linear is 0.5675675675675675\n",
      "Specificity for svm linear is 0.5555555555555556\n"
     ]
    },
    {
     "name": "stderr",
     "output_type": "stream",
     "text": [
      "C:\\Users\\user\\Anaconda3\\lib\\site-packages\\sklearn\\svm\\base.py:196: FutureWarning: The default value of gamma will change from 'auto' to 'scale' in version 0.22 to account better for unscaled features. Set gamma explicitly to 'auto' or 'scale' to avoid this warning.\n",
      "  \"avoid this warning.\", FutureWarning)\n",
      "C:\\Users\\user\\Anaconda3\\lib\\site-packages\\sklearn\\svm\\base.py:196: FutureWarning: The default value of gamma will change from 'auto' to 'scale' in version 0.22 to account better for unscaled features. Set gamma explicitly to 'auto' or 'scale' to avoid this warning.\n",
      "  \"avoid this warning.\", FutureWarning)\n",
      "C:\\Users\\user\\Anaconda3\\lib\\site-packages\\sklearn\\svm\\base.py:196: FutureWarning: The default value of gamma will change from 'auto' to 'scale' in version 0.22 to account better for unscaled features. Set gamma explicitly to 'auto' or 'scale' to avoid this warning.\n",
      "  \"avoid this warning.\", FutureWarning)\n",
      "C:\\Users\\user\\Anaconda3\\lib\\site-packages\\sklearn\\svm\\base.py:196: FutureWarning: The default value of gamma will change from 'auto' to 'scale' in version 0.22 to account better for unscaled features. Set gamma explicitly to 'auto' or 'scale' to avoid this warning.\n",
      "  \"avoid this warning.\", FutureWarning)\n",
      "C:\\Users\\user\\Anaconda3\\lib\\site-packages\\sklearn\\svm\\base.py:196: FutureWarning: The default value of gamma will change from 'auto' to 'scale' in version 0.22 to account better for unscaled features. Set gamma explicitly to 'auto' or 'scale' to avoid this warning.\n",
      "  \"avoid this warning.\", FutureWarning)\n"
     ]
    },
    {
     "name": "stdout",
     "output_type": "stream",
     "text": [
      "training score for svm rbf is - [0.83104396 0.81155433 0.84044017 0.84456671 0.84044017]\n",
      "test acc_score for svm rbf is - 0.5814814814814815\n",
      "Sensitivity for svm rbf is 0.6076388888888888\n",
      "Specificity for svm rbf is 0.5670498084291188\n",
      "training score for svm rbf is - [0.78021978 0.78404402 0.81430536 0.81155433 0.77303989]\n",
      "test acc_score for svm rbf is - 0.562962962962963\n",
      "Sensitivity for svm rbf is 0.5709969788519638\n",
      "Specificity for svm rbf is 0.55741127348643\n",
      "score for eensemble is - [0.78021978 0.78404402 0.81568088 0.8088033  0.77716644]\n",
      "acc_score for ensemble is - 0.5604938271604938\n",
      "Sensitivity for ensemble is 0.5675675675675675\n",
      "Specificity for ensemble is 0.5555555555555556\n"
     ]
    }
   ],
   "source": [
    "training_score = []\n",
    "test_score = []\n",
    "sensitivity = []\n",
    "specificity = []\n",
    "i = 0\n",
    "for fea_set in mrmr_feature:\n",
    "    print(\"*************************************************\")\n",
    "    print(F\"features in use - \\n { fea_set }\")\n",
    "    try:\n",
    "        del X_train,clfrf,clf_svm1_lin,clf_svm_rbf,ensemble\n",
    "    except NameError as e:\n",
    "        pass\n",
    "    X_train = df_feature[fea_set]\n",
    "    y_train = df_feature['label']\n",
    "    X_test = df_featuret[fea_set]\n",
    "    y_test = df_featuret['label']\n",
    "    #scale\n",
    "    scaler = StandardScaler()\n",
    "    scaler.fit(X_train)\n",
    "    X_train = scaler.transform(X_train)\n",
    "    scaler.fit(X_test)\n",
    "    X_test = scaler.transform(X_test)\n",
    "    #RF\n",
    "    RFC_METRIC = 'entropy'  #metric used for RandomForrestClassifier\n",
    "    NUM_ESTIMATORS = 100 #number of estimators used for RandomForrestClassifier\n",
    "    NO_JOBS = -1 #number of parallel jobs used for RandomForrestClassifier\n",
    "    clf = RandomForestClassifier(n_jobs=NO_JOBS, \n",
    "                                 random_state=2000,\n",
    "                                 criterion=RFC_METRIC,\n",
    "                                 n_estimators=NUM_ESTIMATORS,\n",
    "                                 verbose=False)\n",
    "\n",
    "    scores_rf = cross_val_score(clf, X_train, y_train, cv=5)\n",
    "    training_score.append(scores_rf)\n",
    "    print(F\"training score for RF is - { scores_rf }\")\n",
    "    clf.fit(X_train,y_train)\n",
    "    pred1 = clf.predict(X_test)\n",
    "    acc_score_rf = accuracy_score(y_test,pred1)\n",
    "    test_score.append(acc_score_rf)\n",
    "    print(F\"test acc_score for RF is - { acc_score_rf }\")\n",
    "    #Confusion matrix\n",
    "    cm = confusion_matrix(y_test,pred1)\n",
    "    TP = cm[0][0]\n",
    "    FP = cm[0][1]\n",
    "    FN = cm[1][0]\n",
    "    TN = cm[1][1]\n",
    "\n",
    "    Sensitivity_rf = TP / (TP + FN)\n",
    "    Specificity_rf = TN / (TN + FP)\n",
    "\n",
    "    print(F\"Sensitivity for RF is { Sensitivity_rf }\")\n",
    "    print(F\"Specificity for RF is { Specificity_rf }\")\n",
    "    \n",
    "    sensitivity.append(Sensitivity_rf)\n",
    "    specificity.append(Specificity_rf)\n",
    "    \n",
    "    #SVM linear\n",
    "    \n",
    "    clf_svm1 = svm.SVC(kernel='linear', C=1)\n",
    "    scores_svm1 = cross_val_score(clf_svm1, X_train, y_train, cv=5)\n",
    "    training_score.append(scores_svm1)\n",
    "    print(F\"training score for svm linear is - { scores_svm1 }\")\n",
    "    clf_svm1.fit(X_train,y_train)\n",
    "    pred2 = clf_svm1.predict(X_test)\n",
    "    acc_score_svm1 = accuracy_score(y_test,pred2)\n",
    "    print(F\"test acc_score for svm linear is - { acc_score_svm1 }\")\n",
    "    test_score.append(acc_score_svm1)\n",
    "    #Confusion matrix\n",
    "    cm = confusion_matrix(y_test,pred2)\n",
    "    TP = cm[0][0] \n",
    "    FP = cm[0][1]\n",
    "    FN = cm[1][0]\n",
    "    TN = cm[1][1]\n",
    "\n",
    "    Sensitivity_svm1 = TP / (TP + FN)\n",
    "    Specificity_svm1 = TN / (TN + FP)\n",
    "\n",
    "    print(F\"Sensitivity for svm linear is { Sensitivity_svm1 }\")\n",
    "    print(F\"Specificity for svm linear is { Specificity_svm1 }\")\n",
    "    \n",
    "    sensitivity.append(Sensitivity_svm1)\n",
    "    specificity.append(Specificity_svm1)\n",
    "    \n",
    "    #SVM rbf\n",
    "    clf_svm2 = svm.SVC(kernel='rbf', C=1)\n",
    "    scores_svm2 = cross_val_score(clf_svm2, X_train, y_train, cv=5)\n",
    "    training_score.append(scores_svm2)\n",
    "    print(F\"training score for svm rbf is - { scores_svm2 }\")\n",
    "    clf_svm2.fit(X_train,y_train)\n",
    "    pred3 = clf_svm2.predict(X_test)\n",
    "    acc_score_svm2 = accuracy_score(y_test,pred3)\n",
    "    print(F\"test acc_score for svm rbf is - { acc_score_svm2 }\")\n",
    "    test_score.append(acc_score_svm2)\n",
    "    #Confusion matrix\n",
    "    cm = confusion_matrix(y_test,pred3)\n",
    "    TP = cm[0][0]\n",
    "    FP = cm[0][1]\n",
    "    FN = cm[1][0]\n",
    "    TN = cm[1][1]\n",
    "\n",
    "    Sensitivity_svm2 = TP / (TP + FN)\n",
    "    Specificity_svm2 = TN / (TN + FP)\n",
    "\n",
    "    print(F\"Sensitivity for svm rbf is { Sensitivity_svm2 }\")\n",
    "    print(F\"Specificity for svm rbf is { Specificity_svm2 }\")\n",
    "    \n",
    "    sensitivity.append(Sensitivity_svm2)\n",
    "    specificity.append(Specificity_svm2)\n",
    "    #svm3\n",
    "    clf_svm3 = svm.SVC(C=0.1, cache_size=200, class_weight=None, coef0=0.0,\n",
    "      decision_function_shape='ovr', degree=3, gamma=1, kernel='linear',\n",
    "      max_iter=-1, probability=False, random_state=None, shrinking=True,\n",
    "      tol=0.001, verbose=False)\n",
    "    scores_svm3 = cross_val_score(clf_svm3, X_train, y_train, cv=5)\n",
    "    print(F\"training score for svm rbf is - { scores_svm3 }\")\n",
    "    training_score.append(scores_svm3)\n",
    "    clf_svm3.fit(X_train,y_train)\n",
    "    pred4 = clf_svm3.predict(X_test)\n",
    "    acc_score_svm3 = accuracy_score(y_test,pred4)\n",
    "    print(F\"test acc_score for svm rbf is - { acc_score_svm3 }\")\n",
    "    test_score.append(acc_score_svm3)\n",
    "    cm = confusion_matrix(y_test,pred4)\n",
    "    TP = cm[0][0]\n",
    "    FP = cm[0][1]\n",
    "    FN = cm[1][0]\n",
    "    TN = cm[1][1]\n",
    "\n",
    "    Sensitivity_svm3 = TP / (TP + FN)\n",
    "    Specificity_svm3 = TN / (TN + FP)\n",
    "\n",
    "    print(F\"Sensitivity for svm rbf is { Sensitivity_svm3 }\")\n",
    "    print(F\"Specificity for svm rbf is { Specificity_svm3 }\")\n",
    "    \n",
    "    sensitivity.append(Sensitivity_svm3)\n",
    "    specificity.append(Specificity_svm3)\n",
    "    #ensemble\n",
    "    estimators = []\n",
    "    estimators.append(('rf', clf))\n",
    "    estimators.append(('svm', clf_svm1))\n",
    "    estimators.append(('svm3', clf_svm3))\n",
    "    # create the ensemble model\n",
    "    ensemble = VotingClassifier(estimators)\n",
    "    scores_ens = cross_val_score(ensemble, X_train, y_train, cv=5)\n",
    "    training_score.append(scores_ens)\n",
    "    print(F\"score for eensemble is - { scores_ens }\")\n",
    "    ensemble.fit(X_train,y_train)\n",
    "    pred4 = ensemble.predict(X_test)\n",
    "    acc_score_ens = accuracy_score(y_test,pred4)   \n",
    "    print(F\"acc_score for ensemble is - { acc_score_ens }\")\n",
    "    test_score.append(acc_score_ens)\n",
    "    cm = confusion_matrix(y_test,pred4)\n",
    "    TP = cm[0][0]\n",
    "    FP = cm[0][1]\n",
    "    FN = cm[1][0]\n",
    "    TN = cm[1][1]\n",
    "\n",
    "    Sensitivity_ens = TP / (TP + FN)\n",
    "    Specificity_ens = TN / (TN + FP)\n",
    "    sensitivity.append(Sensitivity_ens)\n",
    "    specificity.append(Specificity_ens)\n",
    "\n",
    "    print(F\"Sensitivity for ensemble is { Sensitivity_ens }\")\n",
    "    print(F\"Specificity for ensemble is { Specificity_ens }\")\n",
    "    \n",
    "    "
   ]
  },
  {
   "cell_type": "markdown",
   "metadata": {},
   "source": [
    "# Recursive Feature Elimination\n",
    "The Recursive Feature Elimination (or RFE) works by recursively removing attributes and building a model on those attributes that remain.\n",
    "\n",
    "It uses the model accuracy to identify which attributes (and combination of attributes) contribute the most to predicting the target attribute."
   ]
  },
  {
   "cell_type": "code",
   "execution_count": 31,
   "metadata": {},
   "outputs": [],
   "source": [
    "from sklearn.feature_selection import RFE\n"
   ]
  },
  {
   "cell_type": "code",
   "execution_count": 35,
   "metadata": {},
   "outputs": [
    {
     "name": "stderr",
     "output_type": "stream",
     "text": [
      "C:\\Users\\user\\Anaconda3\\lib\\site-packages\\sklearn\\preprocessing\\data.py:645: DataConversionWarning: Data with input dtype int64, float64 were all converted to float64 by StandardScaler.\n",
      "  return self.partial_fit(X, y)\n",
      "C:\\Users\\user\\Anaconda3\\lib\\site-packages\\ipykernel_launcher.py:15: DataConversionWarning: Data with input dtype int64, float64 were all converted to float64 by StandardScaler.\n",
      "  from ipykernel import kernelapp as app\n",
      "C:\\Users\\user\\Anaconda3\\lib\\site-packages\\sklearn\\preprocessing\\data.py:645: DataConversionWarning: Data with input dtype int64, float64 were all converted to float64 by StandardScaler.\n",
      "  return self.partial_fit(X, y)\n",
      "C:\\Users\\user\\Anaconda3\\lib\\site-packages\\ipykernel_launcher.py:18: DataConversionWarning: Data with input dtype int64, float64 were all converted to float64 by StandardScaler.\n"
     ]
    }
   ],
   "source": [
    "df_feature = shuffle(df_feature)\n",
    "\n",
    "try:\n",
    "    del X_train,X_test,y_train,y_test\n",
    "except NameError as e:\n",
    "    pass\n",
    "X_train = df_feature.drop(['label'],axis=1)\n",
    "all_features = X_train.columns\n",
    "y_train = df_feature['label']\n",
    "X_test = df_featuret.drop(['label'],axis=1)\n",
    "y_test = df_feature['label']\n",
    "\n",
    "scaler = StandardScaler()\n",
    "scaler.fit(X_train)\n",
    "X_train = scaler.transform(X_train)\n",
    "y_train = np.array(y_train)\n",
    "scaler.fit(X_test)\n",
    "X_test = scaler.transform(X_test)\n",
    "y_test = np.array(y_test)\n"
   ]
  },
  {
   "cell_type": "code",
   "execution_count": 36,
   "metadata": {},
   "outputs": [
    {
     "name": "stderr",
     "output_type": "stream",
     "text": [
      "C:\\Users\\user\\Anaconda3\\lib\\site-packages\\sklearn\\preprocessing\\data.py:645: DataConversionWarning: Data with input dtype int64, float64 were all converted to float64 by StandardScaler.\n",
      "  return self.partial_fit(X, y)\n",
      "C:\\Users\\user\\Anaconda3\\lib\\site-packages\\ipykernel_launcher.py:24: DataConversionWarning: Data with input dtype int64, float64 were all converted to float64 by StandardScaler.\n",
      "C:\\Users\\user\\Anaconda3\\lib\\site-packages\\sklearn\\preprocessing\\data.py:645: DataConversionWarning: Data with input dtype int64, float64 were all converted to float64 by StandardScaler.\n",
      "  return self.partial_fit(X, y)\n",
      "C:\\Users\\user\\Anaconda3\\lib\\site-packages\\ipykernel_launcher.py:26: DataConversionWarning: Data with input dtype int64, float64 were all converted to float64 by StandardScaler.\n"
     ]
    },
    {
     "name": "stdout",
     "output_type": "stream",
     "text": [
      "(3636, 20)\n",
      "training score for 20 feature is - [0.93406593 0.94222834 0.9477304  0.93122421 0.92984869]\n",
      "test acc_score for svm linear is - 0.7641975308641975\n",
      "Sensitivity for svm linear is 0.7333333333333333\n",
      "Specificity for svm linear is 0.8027777777777778\n"
     ]
    },
    {
     "name": "stderr",
     "output_type": "stream",
     "text": [
      "C:\\Users\\user\\Anaconda3\\lib\\site-packages\\sklearn\\preprocessing\\data.py:645: DataConversionWarning: Data with input dtype int64, float64 were all converted to float64 by StandardScaler.\n",
      "  return self.partial_fit(X, y)\n",
      "C:\\Users\\user\\Anaconda3\\lib\\site-packages\\ipykernel_launcher.py:24: DataConversionWarning: Data with input dtype int64, float64 were all converted to float64 by StandardScaler.\n",
      "C:\\Users\\user\\Anaconda3\\lib\\site-packages\\sklearn\\preprocessing\\data.py:645: DataConversionWarning: Data with input dtype int64, float64 were all converted to float64 by StandardScaler.\n",
      "  return self.partial_fit(X, y)\n",
      "C:\\Users\\user\\Anaconda3\\lib\\site-packages\\ipykernel_launcher.py:26: DataConversionWarning: Data with input dtype int64, float64 were all converted to float64 by StandardScaler.\n"
     ]
    },
    {
     "name": "stdout",
     "output_type": "stream",
     "text": [
      "(3636, 20)\n",
      "training score for 20 feature is - [0.78296703 0.80605227 0.77579092 0.77579092 0.75790922]\n",
      "test acc_score for svm linear is - 0.5765432098765432\n",
      "Sensitivity for svm linear is 0.5843023255813954\n",
      "Specificity for svm linear is 0.5708154506437768\n"
     ]
    },
    {
     "name": "stderr",
     "output_type": "stream",
     "text": [
      "C:\\Users\\user\\Anaconda3\\lib\\site-packages\\sklearn\\preprocessing\\data.py:645: DataConversionWarning: Data with input dtype int64, float64 were all converted to float64 by StandardScaler.\n",
      "  return self.partial_fit(X, y)\n",
      "C:\\Users\\user\\Anaconda3\\lib\\site-packages\\ipykernel_launcher.py:24: DataConversionWarning: Data with input dtype int64, float64 were all converted to float64 by StandardScaler.\n",
      "C:\\Users\\user\\Anaconda3\\lib\\site-packages\\sklearn\\preprocessing\\data.py:645: DataConversionWarning: Data with input dtype int64, float64 were all converted to float64 by StandardScaler.\n",
      "  return self.partial_fit(X, y)\n",
      "C:\\Users\\user\\Anaconda3\\lib\\site-packages\\ipykernel_launcher.py:26: DataConversionWarning: Data with input dtype int64, float64 were all converted to float64 by StandardScaler.\n"
     ]
    },
    {
     "name": "stdout",
     "output_type": "stream",
     "text": [
      "(3636, 20)\n",
      "training score for 20 feature is - [0.78296703 0.80605227 0.77579092 0.77579092 0.75790922]\n",
      "test acc_score for svm linear is - 0.5765432098765432\n",
      "Sensitivity for svm linear is 0.5843023255813954\n",
      "Specificity for svm linear is 0.5708154506437768\n"
     ]
    },
    {
     "name": "stderr",
     "output_type": "stream",
     "text": [
      "C:\\Users\\user\\Anaconda3\\lib\\site-packages\\sklearn\\preprocessing\\data.py:645: DataConversionWarning: Data with input dtype int64, float64 were all converted to float64 by StandardScaler.\n",
      "  return self.partial_fit(X, y)\n",
      "C:\\Users\\user\\Anaconda3\\lib\\site-packages\\ipykernel_launcher.py:24: DataConversionWarning: Data with input dtype int64, float64 were all converted to float64 by StandardScaler.\n",
      "C:\\Users\\user\\Anaconda3\\lib\\site-packages\\sklearn\\preprocessing\\data.py:645: DataConversionWarning: Data with input dtype int64, float64 were all converted to float64 by StandardScaler.\n",
      "  return self.partial_fit(X, y)\n",
      "C:\\Users\\user\\Anaconda3\\lib\\site-packages\\ipykernel_launcher.py:26: DataConversionWarning: Data with input dtype int64, float64 were all converted to float64 by StandardScaler.\n"
     ]
    },
    {
     "name": "stdout",
     "output_type": "stream",
     "text": [
      "(3636, 20)\n",
      "training score for 20 feature is - [0.78296703 0.80605227 0.77579092 0.77579092 0.75790922]\n",
      "test acc_score for svm linear is - 0.5765432098765432\n",
      "Sensitivity for svm linear is 0.5843023255813954\n",
      "Specificity for svm linear is 0.5708154506437768\n"
     ]
    },
    {
     "name": "stderr",
     "output_type": "stream",
     "text": [
      "C:\\Users\\user\\Anaconda3\\lib\\site-packages\\sklearn\\preprocessing\\data.py:645: DataConversionWarning: Data with input dtype int64, float64 were all converted to float64 by StandardScaler.\n",
      "  return self.partial_fit(X, y)\n",
      "C:\\Users\\user\\Anaconda3\\lib\\site-packages\\ipykernel_launcher.py:24: DataConversionWarning: Data with input dtype int64, float64 were all converted to float64 by StandardScaler.\n",
      "C:\\Users\\user\\Anaconda3\\lib\\site-packages\\sklearn\\preprocessing\\data.py:645: DataConversionWarning: Data with input dtype int64, float64 were all converted to float64 by StandardScaler.\n",
      "  return self.partial_fit(X, y)\n",
      "C:\\Users\\user\\Anaconda3\\lib\\site-packages\\ipykernel_launcher.py:26: DataConversionWarning: Data with input dtype int64, float64 were all converted to float64 by StandardScaler.\n"
     ]
    },
    {
     "name": "stdout",
     "output_type": "stream",
     "text": [
      "(3636, 20)\n",
      "training score for 20 feature is - [0.78296703 0.80605227 0.77579092 0.77579092 0.75790922]\n",
      "test acc_score for svm linear is - 0.5765432098765432\n",
      "Sensitivity for svm linear is 0.5843023255813954\n",
      "Specificity for svm linear is 0.5708154506437768\n"
     ]
    }
   ],
   "source": [
    "clf_svm_rfe = svm.SVC(C=0.1, cache_size=200, class_weight=None, coef0=0.0,\n",
    "  decision_function_shape='ovr', degree=3, gamma=1, kernel='linear',\n",
    "  max_iter=-1, probability=False, random_state=None, shrinking=True,\n",
    "  tol=0.001, verbose=False)\n",
    "\n",
    "\n",
    "for ix in [20,30,40,50,60]:\n",
    "    rfe = RFE(clf_svm_rfe, ix)\n",
    "    fit = rfe.fit(X_train,y_train)\n",
    "    best_fea = fit.ranking_\n",
    "    index = []\n",
    "    for i in range(0,len(best_fea)):\n",
    "        if int(best_fea[i]) == 1:\n",
    "            index.append(i)\n",
    "    best_feature = []\n",
    "    for k in index:\n",
    "        best_feature.append(all_features[k])\n",
    "    X_train = df_feature[best_feature]\n",
    "    X_test = df_featuret[best_feature]\n",
    "    y_train = df_feature['label']\n",
    "    y_test = df_featuret['label']\n",
    "    scaler = StandardScaler()\n",
    "    scaler.fit(X_train)\n",
    "    X_train = scaler.transform(X_train)\n",
    "    scaler.fit(X_test)\n",
    "    X_test = scaler.transform(X_test)\n",
    "    print(X_train.shape)\n",
    "    scores_svm_rfe = cross_val_score(clf_svm_rfe, X_train, y_train, cv=5)\n",
    "    print(F\"training score for { len(best_feature) } feature is - { scores_svm_rfe }\")\n",
    "    clf_svm_rfe.fit(X_train,y_train)\n",
    "    pred_rfe = clf_svm_rfe.predict(X_test)\n",
    "    acc_score_rfe = accuracy_score(y_test,pred_rfe)\n",
    "    print(F\"test acc_score for svm linear is - { acc_score_rfe }\")\n",
    "    #Confusion matrix\n",
    "    cm = confusion_matrix(y_test,pred_rfe)\n",
    "    TP = cm[0][0] \n",
    "    FP = cm[0][1]\n",
    "    FN = cm[1][0]\n",
    "    TN = cm[1][1]\n",
    "\n",
    "    Sensitivity_rfe = TP / (TP + FN)\n",
    "    Specificity_rfe = TN / (TN + FP)\n",
    "\n",
    "    print(F\"Sensitivity for svm linear is { Sensitivity_rfe }\")\n",
    "    print(F\"Specificity for svm linear is { Specificity_rfe }\")\n",
    "   "
   ]
  },
  {
   "cell_type": "markdown",
   "metadata": {},
   "source": [
    "# Feature Importance"
   ]
  },
  {
   "cell_type": "code",
   "execution_count": 37,
   "metadata": {},
   "outputs": [],
   "source": [
    "from sklearn.ensemble import ExtraTreesClassifier\n",
    "from sklearn.ensemble import VotingClassifier\n",
    "import numpy as np"
   ]
  },
  {
   "cell_type": "code",
   "execution_count": 38,
   "metadata": {},
   "outputs": [
    {
     "name": "stderr",
     "output_type": "stream",
     "text": [
      "C:\\Users\\user\\Anaconda3\\lib\\site-packages\\sklearn\\ensemble\\forest.py:246: FutureWarning: The default value of n_estimators will change from 10 in version 0.20 to 100 in 0.22.\n",
      "  \"10 in version 0.20 to 100 in 0.22.\", FutureWarning)\n"
     ]
    }
   ],
   "source": [
    "df_feature = shuffle(df_feature)\n",
    "\n",
    "X_train_full = df_feature.drop(['label'],axis=1)\n",
    "y_train_full = df_feature['label']\n",
    "\n",
    "model = ExtraTreesClassifier()\n",
    "model.fit(X_train_full,y_train_full)\n",
    "\n",
    "feat_importances = pd.Series(model.feature_importances_, index=X_train_full.columns)"
   ]
  },
  {
   "cell_type": "code",
   "execution_count": 39,
   "metadata": {},
   "outputs": [],
   "source": [
    "training_score = []\n",
    "test_score = []\n",
    "sensitivity = []\n",
    "specificity = []\n",
    "NOF = []"
   ]
  },
  {
   "cell_type": "code",
   "execution_count": 40,
   "metadata": {},
   "outputs": [
    {
     "name": "stdout",
     "output_type": "stream",
     "text": [
      "*************************************************\n",
      "features in use - \n",
      " ['ac9', 'ac15', 'ac18', 'mean_fftw', 'energy_ca1', 'rms_cd1', 'ac7', 'mcr_fftw', 'ac8', 'mcr_cd1']\n"
     ]
    },
    {
     "name": "stderr",
     "output_type": "stream",
     "text": [
      "C:\\Users\\user\\Anaconda3\\lib\\site-packages\\sklearn\\preprocessing\\data.py:645: DataConversionWarning: Data with input dtype int64, float64 were all converted to float64 by StandardScaler.\n",
      "  return self.partial_fit(X, y)\n",
      "C:\\Users\\user\\Anaconda3\\lib\\site-packages\\ipykernel_launcher.py:18: DataConversionWarning: Data with input dtype int64, float64 were all converted to float64 by StandardScaler.\n",
      "C:\\Users\\user\\Anaconda3\\lib\\site-packages\\sklearn\\preprocessing\\data.py:645: DataConversionWarning: Data with input dtype int64, float64 were all converted to float64 by StandardScaler.\n",
      "  return self.partial_fit(X, y)\n",
      "C:\\Users\\user\\Anaconda3\\lib\\site-packages\\ipykernel_launcher.py:20: DataConversionWarning: Data with input dtype int64, float64 were all converted to float64 by StandardScaler.\n"
     ]
    },
    {
     "name": "stdout",
     "output_type": "stream",
     "text": [
      "training score for RF is - [0.90934066 0.90784044 0.91059147 0.91471802 0.91746905]\n",
      "test acc_score for RF is - 0.6987654320987654\n",
      "Sensitivity for RF is 0.657314629258517\n",
      "Specificity for RF is 0.7652733118971061\n",
      "training score for svm linear is - [0.92994505 0.92434663 0.91884457 0.91746905 0.92984869]\n",
      "test acc_score for svm linear is - 0.6987654320987654\n",
      "Sensitivity for svm linear is 0.6548323471400395\n",
      "Specificity for svm linear is 0.7722772277227723\n"
     ]
    },
    {
     "name": "stderr",
     "output_type": "stream",
     "text": [
      "C:\\Users\\user\\Anaconda3\\lib\\site-packages\\sklearn\\svm\\base.py:196: FutureWarning: The default value of gamma will change from 'auto' to 'scale' in version 0.22 to account better for unscaled features. Set gamma explicitly to 'auto' or 'scale' to avoid this warning.\n",
      "  \"avoid this warning.\", FutureWarning)\n",
      "C:\\Users\\user\\Anaconda3\\lib\\site-packages\\sklearn\\svm\\base.py:196: FutureWarning: The default value of gamma will change from 'auto' to 'scale' in version 0.22 to account better for unscaled features. Set gamma explicitly to 'auto' or 'scale' to avoid this warning.\n",
      "  \"avoid this warning.\", FutureWarning)\n",
      "C:\\Users\\user\\Anaconda3\\lib\\site-packages\\sklearn\\svm\\base.py:196: FutureWarning: The default value of gamma will change from 'auto' to 'scale' in version 0.22 to account better for unscaled features. Set gamma explicitly to 'auto' or 'scale' to avoid this warning.\n",
      "  \"avoid this warning.\", FutureWarning)\n",
      "C:\\Users\\user\\Anaconda3\\lib\\site-packages\\sklearn\\svm\\base.py:196: FutureWarning: The default value of gamma will change from 'auto' to 'scale' in version 0.22 to account better for unscaled features. Set gamma explicitly to 'auto' or 'scale' to avoid this warning.\n",
      "  \"avoid this warning.\", FutureWarning)\n",
      "C:\\Users\\user\\Anaconda3\\lib\\site-packages\\sklearn\\svm\\base.py:196: FutureWarning: The default value of gamma will change from 'auto' to 'scale' in version 0.22 to account better for unscaled features. Set gamma explicitly to 'auto' or 'scale' to avoid this warning.\n",
      "  \"avoid this warning.\", FutureWarning)\n"
     ]
    },
    {
     "name": "stdout",
     "output_type": "stream",
     "text": [
      "training score for svm rbf is - [0.92857143 0.92847318 0.92297111 0.92434663 0.93672627]\n",
      "test acc_score for svm rbf is - 0.7098765432098766\n",
      "Sensitivity for svm rbf is 0.7014563106796117\n",
      "Specificity for svm rbf is 0.7185929648241206\n",
      "training score for svm rbf is - [0.91758242 0.91059147 0.91059147 0.9133425  0.92572215]\n",
      "test acc_score for svm rbf is - 0.691358024691358\n",
      "Sensitivity for svm rbf is 0.65439672801636\n",
      "Specificity for svm rbf is 0.7476635514018691\n",
      "score for eensemble is - [0.92445055 0.92022008 0.92434663 0.92022008 0.92984869]\n",
      "acc_score for ensemble is - 0.6938271604938272\n",
      "Sensitivity for ensemble is 0.6533066132264529\n",
      "Specificity for ensemble is 0.7588424437299035\n",
      "*************************************************\n",
      "features in use - \n",
      " ['ac9', 'ac15', 'ac18', 'mean_fftw', 'energy_ca1', 'rms_cd1', 'ac7', 'mcr_fftw', 'ac8', 'mcr_cd1', 'zcr_cd1', 'skew_fft', 'std_fftw', 'var_ca2', 'var_cd1', 'ac16', 'ac14', 'ac24', 'zcr_ca1', 'ac10']\n"
     ]
    },
    {
     "name": "stderr",
     "output_type": "stream",
     "text": [
      "C:\\Users\\user\\Anaconda3\\lib\\site-packages\\sklearn\\preprocessing\\data.py:645: DataConversionWarning: Data with input dtype int64, float64 were all converted to float64 by StandardScaler.\n",
      "  return self.partial_fit(X, y)\n",
      "C:\\Users\\user\\Anaconda3\\lib\\site-packages\\ipykernel_launcher.py:18: DataConversionWarning: Data with input dtype int64, float64 were all converted to float64 by StandardScaler.\n",
      "C:\\Users\\user\\Anaconda3\\lib\\site-packages\\sklearn\\preprocessing\\data.py:645: DataConversionWarning: Data with input dtype int64, float64 were all converted to float64 by StandardScaler.\n",
      "  return self.partial_fit(X, y)\n",
      "C:\\Users\\user\\Anaconda3\\lib\\site-packages\\ipykernel_launcher.py:20: DataConversionWarning: Data with input dtype int64, float64 were all converted to float64 by StandardScaler.\n"
     ]
    },
    {
     "name": "stdout",
     "output_type": "stream",
     "text": [
      "training score for RF is - [0.91208791 0.91196699 0.9133425  0.91609354 0.92847318]\n",
      "test acc_score for RF is - 0.7148148148148148\n",
      "Sensitivity for RF is 0.6720647773279352\n",
      "Specificity for RF is 0.7816455696202531\n",
      "training score for svm linear is - [0.93818681 0.93122421 0.92434663 0.9215956  0.93810179]\n",
      "test acc_score for svm linear is - 0.7518518518518519\n",
      "Sensitivity for svm linear is 0.7032520325203252\n",
      "Specificity for svm linear is 0.8270440251572327\n"
     ]
    },
    {
     "name": "stderr",
     "output_type": "stream",
     "text": [
      "C:\\Users\\user\\Anaconda3\\lib\\site-packages\\sklearn\\svm\\base.py:196: FutureWarning: The default value of gamma will change from 'auto' to 'scale' in version 0.22 to account better for unscaled features. Set gamma explicitly to 'auto' or 'scale' to avoid this warning.\n",
      "  \"avoid this warning.\", FutureWarning)\n",
      "C:\\Users\\user\\Anaconda3\\lib\\site-packages\\sklearn\\svm\\base.py:196: FutureWarning: The default value of gamma will change from 'auto' to 'scale' in version 0.22 to account better for unscaled features. Set gamma explicitly to 'auto' or 'scale' to avoid this warning.\n",
      "  \"avoid this warning.\", FutureWarning)\n",
      "C:\\Users\\user\\Anaconda3\\lib\\site-packages\\sklearn\\svm\\base.py:196: FutureWarning: The default value of gamma will change from 'auto' to 'scale' in version 0.22 to account better for unscaled features. Set gamma explicitly to 'auto' or 'scale' to avoid this warning.\n",
      "  \"avoid this warning.\", FutureWarning)\n",
      "C:\\Users\\user\\Anaconda3\\lib\\site-packages\\sklearn\\svm\\base.py:196: FutureWarning: The default value of gamma will change from 'auto' to 'scale' in version 0.22 to account better for unscaled features. Set gamma explicitly to 'auto' or 'scale' to avoid this warning.\n",
      "  \"avoid this warning.\", FutureWarning)\n",
      "C:\\Users\\user\\Anaconda3\\lib\\site-packages\\sklearn\\svm\\base.py:196: FutureWarning: The default value of gamma will change from 'auto' to 'scale' in version 0.22 to account better for unscaled features. Set gamma explicitly to 'auto' or 'scale' to avoid this warning.\n",
      "  \"avoid this warning.\", FutureWarning)\n"
     ]
    },
    {
     "name": "stdout",
     "output_type": "stream",
     "text": [
      "training score for svm rbf is - [0.93131868 0.92434663 0.92297111 0.9133425  0.93122421]\n",
      "test acc_score for svm rbf is - 0.7308641975308642\n",
      "Sensitivity for svm rbf is 0.7281795511221946\n",
      "Specificity for svm rbf is 0.7334963325183375\n",
      "training score for svm rbf is - [0.93269231 0.92297111 0.91609354 0.92297111 0.93122421]\n",
      "test acc_score for svm rbf is - 0.7037037037037037\n",
      "Sensitivity for svm rbf is 0.6701902748414377\n",
      "Specificity for svm rbf is 0.7507418397626113\n",
      "score for eensemble is - [0.93543956 0.92572215 0.92297111 0.92434663 0.93672627]\n",
      "acc_score for ensemble is - 0.7320987654320987\n",
      "Sensitivity for ensemble is 0.6847389558232931\n",
      "Specificity for ensemble is 0.8076923076923077\n",
      "*************************************************\n",
      "features in use - \n",
      " ['ac9', 'ac15', 'ac18', 'mean_fftw', 'energy_ca1', 'rms_cd1', 'ac7', 'mcr_fftw', 'ac8', 'mcr_cd1', 'zcr_cd1', 'skew_fft', 'std_fftw', 'var_ca2', 'var_cd1', 'ac16', 'ac14', 'ac24', 'zcr_ca1', 'ac10', 'ac5', 'var_fftw', 'ac45', 'ac33', 'ac13', 'ac23', 'ac25', 'skew_fftw', 'ac17', 'zcr_ca2']\n"
     ]
    },
    {
     "name": "stderr",
     "output_type": "stream",
     "text": [
      "C:\\Users\\user\\Anaconda3\\lib\\site-packages\\sklearn\\preprocessing\\data.py:645: DataConversionWarning: Data with input dtype int64, float64 were all converted to float64 by StandardScaler.\n",
      "  return self.partial_fit(X, y)\n",
      "C:\\Users\\user\\Anaconda3\\lib\\site-packages\\ipykernel_launcher.py:18: DataConversionWarning: Data with input dtype int64, float64 were all converted to float64 by StandardScaler.\n",
      "C:\\Users\\user\\Anaconda3\\lib\\site-packages\\sklearn\\preprocessing\\data.py:645: DataConversionWarning: Data with input dtype int64, float64 were all converted to float64 by StandardScaler.\n",
      "  return self.partial_fit(X, y)\n",
      "C:\\Users\\user\\Anaconda3\\lib\\site-packages\\ipykernel_launcher.py:20: DataConversionWarning: Data with input dtype int64, float64 were all converted to float64 by StandardScaler.\n"
     ]
    },
    {
     "name": "stdout",
     "output_type": "stream",
     "text": [
      "training score for RF is - [0.9271978  0.93259972 0.91884457 0.92709766 0.94222834]\n",
      "test acc_score for RF is - 0.7333333333333333\n",
      "Sensitivity for RF is 0.6997840172786177\n",
      "Specificity for RF is 0.7780979827089337\n",
      "training score for svm linear is - [0.94230769 0.94497937 0.92984869 0.92022008 0.93535076]\n",
      "test acc_score for svm linear is - 0.737037037037037\n",
      "Sensitivity for svm linear is 0.6865079365079365\n",
      "Specificity for svm linear is 0.8202614379084967\n"
     ]
    },
    {
     "name": "stderr",
     "output_type": "stream",
     "text": [
      "C:\\Users\\user\\Anaconda3\\lib\\site-packages\\sklearn\\svm\\base.py:196: FutureWarning: The default value of gamma will change from 'auto' to 'scale' in version 0.22 to account better for unscaled features. Set gamma explicitly to 'auto' or 'scale' to avoid this warning.\n",
      "  \"avoid this warning.\", FutureWarning)\n",
      "C:\\Users\\user\\Anaconda3\\lib\\site-packages\\sklearn\\svm\\base.py:196: FutureWarning: The default value of gamma will change from 'auto' to 'scale' in version 0.22 to account better for unscaled features. Set gamma explicitly to 'auto' or 'scale' to avoid this warning.\n",
      "  \"avoid this warning.\", FutureWarning)\n",
      "C:\\Users\\user\\Anaconda3\\lib\\site-packages\\sklearn\\svm\\base.py:196: FutureWarning: The default value of gamma will change from 'auto' to 'scale' in version 0.22 to account better for unscaled features. Set gamma explicitly to 'auto' or 'scale' to avoid this warning.\n",
      "  \"avoid this warning.\", FutureWarning)\n",
      "C:\\Users\\user\\Anaconda3\\lib\\site-packages\\sklearn\\svm\\base.py:196: FutureWarning: The default value of gamma will change from 'auto' to 'scale' in version 0.22 to account better for unscaled features. Set gamma explicitly to 'auto' or 'scale' to avoid this warning.\n",
      "  \"avoid this warning.\", FutureWarning)\n",
      "C:\\Users\\user\\Anaconda3\\lib\\site-packages\\sklearn\\svm\\base.py:196: FutureWarning: The default value of gamma will change from 'auto' to 'scale' in version 0.22 to account better for unscaled features. Set gamma explicitly to 'auto' or 'scale' to avoid this warning.\n",
      "  \"avoid this warning.\", FutureWarning)\n"
     ]
    },
    {
     "name": "stdout",
     "output_type": "stream",
     "text": [
      "training score for svm rbf is - [0.95054945 0.93259972 0.92022008 0.92434663 0.9477304 ]\n",
      "test acc_score for svm rbf is - 0.7469135802469136\n",
      "Sensitivity for svm rbf is 0.7512820512820513\n",
      "Specificity for svm rbf is 0.7428571428571429\n",
      "training score for svm rbf is - [0.93956044 0.94222834 0.91471802 0.91471802 0.92984869]\n",
      "test acc_score for svm rbf is - 0.7518518518518519\n",
      "Sensitivity for svm rbf is 0.7127659574468085\n",
      "Specificity for svm rbf is 0.8058823529411765\n",
      "score for eensemble is - [0.94093407 0.94360385 0.92572215 0.92022008 0.93259972]\n",
      "acc_score for ensemble is - 0.7518518518518519\n",
      "Sensitivity for ensemble is 0.7066115702479339\n",
      "Specificity for ensemble is 0.8190184049079755\n",
      "*************************************************\n",
      "features in use - \n",
      " ['ac9', 'ac15', 'ac18', 'mean_fftw', 'energy_ca1', 'rms_cd1', 'ac7', 'mcr_fftw', 'ac8', 'mcr_cd1', 'zcr_cd1', 'skew_fft', 'std_fftw', 'var_ca2', 'var_cd1', 'ac16', 'ac14', 'ac24', 'zcr_ca1', 'ac10', 'ac5', 'var_fftw', 'ac45', 'ac33', 'ac13', 'ac23', 'ac25', 'skew_fftw', 'ac17', 'zcr_ca2', 'ac34', 'ac36', 'ac12', 'ac70', 'ac27', 'std_cd1', 'ac68', 'ac11', 'ac66', 'zcr_ca3']\n"
     ]
    },
    {
     "name": "stderr",
     "output_type": "stream",
     "text": [
      "C:\\Users\\user\\Anaconda3\\lib\\site-packages\\sklearn\\preprocessing\\data.py:645: DataConversionWarning: Data with input dtype int64, float64 were all converted to float64 by StandardScaler.\n",
      "  return self.partial_fit(X, y)\n",
      "C:\\Users\\user\\Anaconda3\\lib\\site-packages\\ipykernel_launcher.py:18: DataConversionWarning: Data with input dtype int64, float64 were all converted to float64 by StandardScaler.\n",
      "C:\\Users\\user\\Anaconda3\\lib\\site-packages\\sklearn\\preprocessing\\data.py:645: DataConversionWarning: Data with input dtype int64, float64 were all converted to float64 by StandardScaler.\n",
      "  return self.partial_fit(X, y)\n",
      "C:\\Users\\user\\Anaconda3\\lib\\site-packages\\ipykernel_launcher.py:20: DataConversionWarning: Data with input dtype int64, float64 were all converted to float64 by StandardScaler.\n"
     ]
    },
    {
     "name": "stdout",
     "output_type": "stream",
     "text": [
      "training score for RF is - [0.93956044 0.93535076 0.91196699 0.9215956  0.95185695]\n",
      "test acc_score for RF is - 0.7444444444444445\n",
      "Sensitivity for RF is 0.7320574162679426\n",
      "Specificity for RF is 0.7576530612244898\n",
      "training score for svm linear is - [0.94093407 0.94497937 0.92022008 0.92297111 0.9394773 ]\n",
      "test acc_score for svm linear is - 0.7345679012345679\n",
      "Sensitivity for svm linear is 0.6962025316455697\n",
      "Specificity for svm linear is 0.7886904761904762\n"
     ]
    },
    {
     "name": "stderr",
     "output_type": "stream",
     "text": [
      "C:\\Users\\user\\Anaconda3\\lib\\site-packages\\sklearn\\svm\\base.py:196: FutureWarning: The default value of gamma will change from 'auto' to 'scale' in version 0.22 to account better for unscaled features. Set gamma explicitly to 'auto' or 'scale' to avoid this warning.\n",
      "  \"avoid this warning.\", FutureWarning)\n",
      "C:\\Users\\user\\Anaconda3\\lib\\site-packages\\sklearn\\svm\\base.py:196: FutureWarning: The default value of gamma will change from 'auto' to 'scale' in version 0.22 to account better for unscaled features. Set gamma explicitly to 'auto' or 'scale' to avoid this warning.\n",
      "  \"avoid this warning.\", FutureWarning)\n",
      "C:\\Users\\user\\Anaconda3\\lib\\site-packages\\sklearn\\svm\\base.py:196: FutureWarning: The default value of gamma will change from 'auto' to 'scale' in version 0.22 to account better for unscaled features. Set gamma explicitly to 'auto' or 'scale' to avoid this warning.\n",
      "  \"avoid this warning.\", FutureWarning)\n",
      "C:\\Users\\user\\Anaconda3\\lib\\site-packages\\sklearn\\svm\\base.py:196: FutureWarning: The default value of gamma will change from 'auto' to 'scale' in version 0.22 to account better for unscaled features. Set gamma explicitly to 'auto' or 'scale' to avoid this warning.\n",
      "  \"avoid this warning.\", FutureWarning)\n",
      "C:\\Users\\user\\Anaconda3\\lib\\site-packages\\sklearn\\svm\\base.py:196: FutureWarning: The default value of gamma will change from 'auto' to 'scale' in version 0.22 to account better for unscaled features. Set gamma explicitly to 'auto' or 'scale' to avoid this warning.\n",
      "  \"avoid this warning.\", FutureWarning)\n"
     ]
    },
    {
     "name": "stdout",
     "output_type": "stream",
     "text": [
      "training score for svm rbf is - [0.94368132 0.9394773  0.92297111 0.93259972 0.94910591]\n",
      "test acc_score for svm rbf is - 0.7358024691358025\n",
      "Sensitivity for svm rbf is 0.7604456824512534\n",
      "Specificity for svm rbf is 0.7161862527716186\n",
      "training score for svm rbf is - [0.93681319 0.94085282 0.92022008 0.92022008 0.93810179]\n",
      "test acc_score for svm rbf is - 0.7592592592592593\n",
      "Sensitivity for svm rbf is 0.7172995780590717\n",
      "Specificity for svm rbf is 0.8184523809523809\n",
      "score for eensemble is - [0.94230769 0.94497937 0.91746905 0.92297111 0.9394773 ]\n",
      "acc_score for ensemble is - 0.7567901234567901\n",
      "Sensitivity for ensemble is 0.7170212765957447\n",
      "Specificity for ensemble is 0.8117647058823529\n",
      "*************************************************\n",
      "features in use - \n",
      " ['ac9', 'ac15', 'ac18', 'mean_fftw', 'energy_ca1', 'rms_cd1', 'ac7', 'mcr_fftw', 'ac8', 'mcr_cd1', 'zcr_cd1', 'skew_fft', 'std_fftw', 'var_ca2', 'var_cd1', 'ac16', 'ac14', 'ac24', 'zcr_ca1', 'ac10', 'ac5', 'var_fftw', 'ac45', 'ac33', 'ac13', 'ac23', 'ac25', 'skew_fftw', 'ac17', 'zcr_ca2', 'ac34', 'ac36', 'ac12', 'ac70', 'ac27', 'std_cd1', 'ac68', 'ac11', 'ac66', 'zcr_ca3', 'ac90', 'var_ca4', 'std_fft', 'ac58', 'ac57', 'ac6', 'ac53', 'ac48', 'ac42', 'energy_ca2']\n"
     ]
    },
    {
     "name": "stderr",
     "output_type": "stream",
     "text": [
      "C:\\Users\\user\\Anaconda3\\lib\\site-packages\\sklearn\\preprocessing\\data.py:645: DataConversionWarning: Data with input dtype int64, float64 were all converted to float64 by StandardScaler.\n",
      "  return self.partial_fit(X, y)\n",
      "C:\\Users\\user\\Anaconda3\\lib\\site-packages\\ipykernel_launcher.py:18: DataConversionWarning: Data with input dtype int64, float64 were all converted to float64 by StandardScaler.\n",
      "C:\\Users\\user\\Anaconda3\\lib\\site-packages\\sklearn\\preprocessing\\data.py:645: DataConversionWarning: Data with input dtype int64, float64 were all converted to float64 by StandardScaler.\n",
      "  return self.partial_fit(X, y)\n",
      "C:\\Users\\user\\Anaconda3\\lib\\site-packages\\ipykernel_launcher.py:20: DataConversionWarning: Data with input dtype int64, float64 were all converted to float64 by StandardScaler.\n"
     ]
    },
    {
     "name": "stdout",
     "output_type": "stream",
     "text": [
      "training score for RF is - [0.93956044 0.93535076 0.91196699 0.92984869 0.94635488]\n",
      "test acc_score for RF is - 0.7345679012345679\n",
      "Sensitivity for RF is 0.729064039408867\n",
      "Specificity for RF is 0.7400990099009901\n",
      "training score for svm linear is - [0.94368132 0.94360385 0.92709766 0.92709766 0.9394773 ]\n",
      "test acc_score for svm linear is - 0.7197530864197531\n",
      "Sensitivity for svm linear is 0.6933333333333334\n",
      "Specificity for svm linear is 0.7527777777777778\n"
     ]
    },
    {
     "name": "stderr",
     "output_type": "stream",
     "text": [
      "C:\\Users\\user\\Anaconda3\\lib\\site-packages\\sklearn\\svm\\base.py:196: FutureWarning: The default value of gamma will change from 'auto' to 'scale' in version 0.22 to account better for unscaled features. Set gamma explicitly to 'auto' or 'scale' to avoid this warning.\n",
      "  \"avoid this warning.\", FutureWarning)\n",
      "C:\\Users\\user\\Anaconda3\\lib\\site-packages\\sklearn\\svm\\base.py:196: FutureWarning: The default value of gamma will change from 'auto' to 'scale' in version 0.22 to account better for unscaled features. Set gamma explicitly to 'auto' or 'scale' to avoid this warning.\n",
      "  \"avoid this warning.\", FutureWarning)\n",
      "C:\\Users\\user\\Anaconda3\\lib\\site-packages\\sklearn\\svm\\base.py:196: FutureWarning: The default value of gamma will change from 'auto' to 'scale' in version 0.22 to account better for unscaled features. Set gamma explicitly to 'auto' or 'scale' to avoid this warning.\n",
      "  \"avoid this warning.\", FutureWarning)\n",
      "C:\\Users\\user\\Anaconda3\\lib\\site-packages\\sklearn\\svm\\base.py:196: FutureWarning: The default value of gamma will change from 'auto' to 'scale' in version 0.22 to account better for unscaled features. Set gamma explicitly to 'auto' or 'scale' to avoid this warning.\n",
      "  \"avoid this warning.\", FutureWarning)\n",
      "C:\\Users\\user\\Anaconda3\\lib\\site-packages\\sklearn\\svm\\base.py:196: FutureWarning: The default value of gamma will change from 'auto' to 'scale' in version 0.22 to account better for unscaled features. Set gamma explicitly to 'auto' or 'scale' to avoid this warning.\n",
      "  \"avoid this warning.\", FutureWarning)\n"
     ]
    },
    {
     "name": "stdout",
     "output_type": "stream",
     "text": [
      "training score for svm rbf is - [0.94505495 0.94085282 0.92847318 0.92984869 0.95185695]\n",
      "test acc_score for svm rbf is - 0.7345679012345679\n",
      "Sensitivity for svm rbf is 0.7627118644067796\n",
      "Specificity for svm rbf is 0.7127192982456141\n",
      "training score for svm rbf is - [0.94230769 0.94360385 0.9215956  0.92022008 0.94222834]\n",
      "test acc_score for svm rbf is - 0.7493827160493827\n",
      "Sensitivity for svm rbf is 0.7088607594936709\n",
      "Specificity for svm rbf is 0.8065476190476191\n",
      "score for eensemble is - [0.94093407 0.94635488 0.92434663 0.92572215 0.93810179]\n",
      "acc_score for ensemble is - 0.7432098765432099\n",
      "Sensitivity for ensemble is 0.7084233261339092\n",
      "Specificity for ensemble is 0.7896253602305475\n",
      "*************************************************\n",
      "features in use - \n",
      " ['ac9', 'ac15', 'ac18', 'mean_fftw', 'energy_ca1', 'rms_cd1', 'ac7', 'mcr_fftw', 'ac8', 'mcr_cd1', 'zcr_cd1', 'skew_fft', 'std_fftw', 'var_ca2', 'var_cd1', 'ac16', 'ac14', 'ac24', 'zcr_ca1', 'ac10', 'ac5', 'var_fftw', 'ac45', 'ac33', 'ac13', 'ac23', 'ac25', 'skew_fftw', 'ac17', 'zcr_ca2', 'ac34', 'ac36', 'ac12', 'ac70', 'ac27', 'std_cd1', 'ac68', 'ac11', 'ac66', 'zcr_ca3', 'ac90', 'var_ca4', 'std_fft', 'ac58', 'ac57', 'ac6', 'ac53', 'ac48', 'ac42', 'energy_ca2', 'ac55', 'ac31', 'ac32', 'var_ca1', 'ac1', 'ac2', 'ac21', 'ac65', 'ac52', 'ac56']\n"
     ]
    },
    {
     "name": "stderr",
     "output_type": "stream",
     "text": [
      "C:\\Users\\user\\Anaconda3\\lib\\site-packages\\sklearn\\preprocessing\\data.py:645: DataConversionWarning: Data with input dtype int64, float64 were all converted to float64 by StandardScaler.\n",
      "  return self.partial_fit(X, y)\n",
      "C:\\Users\\user\\Anaconda3\\lib\\site-packages\\ipykernel_launcher.py:18: DataConversionWarning: Data with input dtype int64, float64 were all converted to float64 by StandardScaler.\n",
      "C:\\Users\\user\\Anaconda3\\lib\\site-packages\\sklearn\\preprocessing\\data.py:645: DataConversionWarning: Data with input dtype int64, float64 were all converted to float64 by StandardScaler.\n",
      "  return self.partial_fit(X, y)\n",
      "C:\\Users\\user\\Anaconda3\\lib\\site-packages\\ipykernel_launcher.py:20: DataConversionWarning: Data with input dtype int64, float64 were all converted to float64 by StandardScaler.\n"
     ]
    },
    {
     "name": "stdout",
     "output_type": "stream",
     "text": [
      "training score for RF is - [0.93406593 0.93535076 0.91471802 0.92847318 0.9477304 ]\n",
      "test acc_score for RF is - 0.7222222222222222\n",
      "Sensitivity for RF is 0.7115384615384616\n",
      "Specificity for RF is 0.733502538071066\n",
      "training score for svm linear is - [0.94230769 0.9477304  0.92572215 0.92847318 0.93535076]\n",
      "test acc_score for svm linear is - 0.7296296296296296\n",
      "Sensitivity for svm linear is 0.6911764705882353\n",
      "Specificity for svm linear is 0.7844311377245509\n"
     ]
    },
    {
     "name": "stderr",
     "output_type": "stream",
     "text": [
      "C:\\Users\\user\\Anaconda3\\lib\\site-packages\\sklearn\\svm\\base.py:196: FutureWarning: The default value of gamma will change from 'auto' to 'scale' in version 0.22 to account better for unscaled features. Set gamma explicitly to 'auto' or 'scale' to avoid this warning.\n",
      "  \"avoid this warning.\", FutureWarning)\n",
      "C:\\Users\\user\\Anaconda3\\lib\\site-packages\\sklearn\\svm\\base.py:196: FutureWarning: The default value of gamma will change from 'auto' to 'scale' in version 0.22 to account better for unscaled features. Set gamma explicitly to 'auto' or 'scale' to avoid this warning.\n",
      "  \"avoid this warning.\", FutureWarning)\n",
      "C:\\Users\\user\\Anaconda3\\lib\\site-packages\\sklearn\\svm\\base.py:196: FutureWarning: The default value of gamma will change from 'auto' to 'scale' in version 0.22 to account better for unscaled features. Set gamma explicitly to 'auto' or 'scale' to avoid this warning.\n",
      "  \"avoid this warning.\", FutureWarning)\n",
      "C:\\Users\\user\\Anaconda3\\lib\\site-packages\\sklearn\\svm\\base.py:196: FutureWarning: The default value of gamma will change from 'auto' to 'scale' in version 0.22 to account better for unscaled features. Set gamma explicitly to 'auto' or 'scale' to avoid this warning.\n",
      "  \"avoid this warning.\", FutureWarning)\n",
      "C:\\Users\\user\\Anaconda3\\lib\\site-packages\\sklearn\\svm\\base.py:196: FutureWarning: The default value of gamma will change from 'auto' to 'scale' in version 0.22 to account better for unscaled features. Set gamma explicitly to 'auto' or 'scale' to avoid this warning.\n",
      "  \"avoid this warning.\", FutureWarning)\n"
     ]
    },
    {
     "name": "stdout",
     "output_type": "stream",
     "text": [
      "training score for svm rbf is - [0.94505495 0.9394773  0.93122421 0.92984869 0.95048143]\n",
      "test acc_score for svm rbf is - 0.7358024691358025\n",
      "Sensitivity for svm rbf is 0.7590027700831025\n",
      "Specificity for svm rbf is 0.7171492204899778\n",
      "training score for svm rbf is - [0.94368132 0.94635488 0.92297111 0.92297111 0.9394773 ]\n",
      "test acc_score for svm rbf is - 0.7567901234567901\n",
      "Sensitivity for svm rbf is 0.7116182572614108\n",
      "Specificity for svm rbf is 0.823170731707317\n",
      "score for eensemble is - [0.94368132 0.94497937 0.92572215 0.92709766 0.93672627]\n",
      "acc_score for ensemble is - 0.7506172839506173\n",
      "Sensitivity for ensemble is 0.7094736842105264\n",
      "Specificity for ensemble is 0.808955223880597\n"
     ]
    }
   ],
   "source": [
    "for fea in [10,20,30,40,50,60]:\n",
    "    feature_importance = pd.Index.tolist(feat_importances.nlargest(fea).index)\n",
    "    fea_set = feature_importance\n",
    "    NOF.append(len(fea_set))\n",
    "    print(\"*************************************************\")\n",
    "    print(F\"features in use - \\n { fea_set }\")\n",
    "    try:\n",
    "        del X_train,clfrf,clf_svm1_lin,clf_svm_rbf,ensemble\n",
    "    except NameError as e:\n",
    "        pass\n",
    "    X_train = df_feature[fea_set]\n",
    "    y_train = df_feature['label']\n",
    "    X_test = df_featuret[fea_set]\n",
    "    y_test = df_featuret['label']\n",
    "    #scale\n",
    "    scaler = StandardScaler()\n",
    "    scaler.fit(X_train)\n",
    "    X_train = scaler.transform(X_train)\n",
    "    scaler.fit(X_test)\n",
    "    X_test = scaler.transform(X_test)\n",
    "    #RF\n",
    "    RFC_METRIC = 'entropy'  #metric used for RandomForrestClassifier\n",
    "    NUM_ESTIMATORS = 100 #number of estimators used for RandomForrestClassifier\n",
    "    NO_JOBS = -1 #number of parallel jobs used for RandomForrestClassifier\n",
    "    clf = RandomForestClassifier(n_jobs=NO_JOBS, \n",
    "                                 random_state=2000,\n",
    "                                 criterion=RFC_METRIC,\n",
    "                                 n_estimators=NUM_ESTIMATORS,\n",
    "                                 verbose=False)\n",
    "\n",
    "    scores_rf = cross_val_score(clf, X_train, y_train, cv=5)\n",
    "    training_score.append(scores_rf)\n",
    "    print(F\"training score for RF is - { scores_rf }\")\n",
    "    clf.fit(X_train,y_train)\n",
    "    pred1 = clf.predict(X_test)\n",
    "    acc_score_rf = accuracy_score(y_test,pred1)\n",
    "    test_score.append(acc_score_rf)\n",
    "    print(F\"test acc_score for RF is - { acc_score_rf }\")\n",
    "    #Confusion matrix\n",
    "    cm = confusion_matrix(y_test,pred1)\n",
    "    TP = cm[0][0]\n",
    "    FP = cm[0][1]\n",
    "    FN = cm[1][0]\n",
    "    TN = cm[1][1]\n",
    "\n",
    "    Sensitivity_rf = TP / (TP + FN)\n",
    "    Specificity_rf = TN / (TN + FP)\n",
    "\n",
    "    print(F\"Sensitivity for RF is { Sensitivity_rf }\")\n",
    "    print(F\"Specificity for RF is { Specificity_rf }\")\n",
    "    \n",
    "    sensitivity.append(Sensitivity_rf)\n",
    "    specificity.append(Specificity_rf)\n",
    "    \n",
    "    #SVM linear\n",
    "    \n",
    "    clf_svm1 = svm.SVC(kernel='linear', C=1)\n",
    "    scores_svm1 = cross_val_score(clf_svm1, X_train, y_train, cv=5)\n",
    "    training_score.append(scores_svm1)\n",
    "    print(F\"training score for svm linear is - { scores_svm1 }\")\n",
    "    clf_svm1.fit(X_train,y_train)\n",
    "    pred2 = clf_svm1.predict(X_test)\n",
    "    acc_score_svm1 = accuracy_score(y_test,pred2)\n",
    "    print(F\"test acc_score for svm linear is - { acc_score_svm1 }\")\n",
    "    test_score.append(acc_score_svm1)\n",
    "    #Confusion matrix\n",
    "    cm = confusion_matrix(y_test,pred2)\n",
    "    TP = cm[0][0] \n",
    "    FP = cm[0][1]\n",
    "    FN = cm[1][0]\n",
    "    TN = cm[1][1]\n",
    "\n",
    "    Sensitivity_svm1 = TP / (TP + FN)\n",
    "    Specificity_svm1 = TN / (TN + FP)\n",
    "\n",
    "    print(F\"Sensitivity for svm linear is { Sensitivity_svm1 }\")\n",
    "    print(F\"Specificity for svm linear is { Specificity_svm1 }\")\n",
    "    \n",
    "    sensitivity.append(Sensitivity_svm1)\n",
    "    specificity.append(Specificity_svm1)\n",
    "    \n",
    "    #SVM rbf\n",
    "    clf_svm2 = svm.SVC(kernel='rbf', C=1)\n",
    "    scores_svm2 = cross_val_score(clf_svm2, X_train, y_train, cv=5)\n",
    "    training_score.append(scores_svm2)\n",
    "    print(F\"training score for svm rbf is - { scores_svm2 }\")\n",
    "    clf_svm2.fit(X_train,y_train)\n",
    "    pred3 = clf_svm2.predict(X_test)\n",
    "    acc_score_svm2 = accuracy_score(y_test,pred3)\n",
    "    print(F\"test acc_score for svm rbf is - { acc_score_svm2 }\")\n",
    "    test_score.append(acc_score_svm2)\n",
    "    #Confusion matrix\n",
    "    cm = confusion_matrix(y_test,pred3)\n",
    "    TP = cm[0][0]\n",
    "    FP = cm[0][1]\n",
    "    FN = cm[1][0]\n",
    "    TN = cm[1][1]\n",
    "\n",
    "    Sensitivity_svm2 = TP / (TP + FN)\n",
    "    Specificity_svm2 = TN / (TN + FP)\n",
    "\n",
    "    print(F\"Sensitivity for svm rbf is { Sensitivity_svm2 }\")\n",
    "    print(F\"Specificity for svm rbf is { Specificity_svm2 }\")\n",
    "    \n",
    "    sensitivity.append(Sensitivity_svm2)\n",
    "    specificity.append(Specificity_svm2)\n",
    "    #svm3\n",
    "    clf_svm3 = svm.SVC(C=0.1, cache_size=200, class_weight=None, coef0=0.0,\n",
    "      decision_function_shape='ovr', degree=3, gamma=1, kernel='linear',\n",
    "      max_iter=-1, probability=False, random_state=None, shrinking=True,\n",
    "      tol=0.001, verbose=False)\n",
    "    scores_svm3 = cross_val_score(clf_svm3, X_train, y_train, cv=5)\n",
    "    print(F\"training score for svm rbf is - { scores_svm3 }\")\n",
    "    training_score.append(scores_svm3)\n",
    "    clf_svm3.fit(X_train,y_train)\n",
    "    pred4 = clf_svm3.predict(X_test)\n",
    "    acc_score_svm3 = accuracy_score(y_test,pred4)\n",
    "    print(F\"test acc_score for svm rbf is - { acc_score_svm3 }\")\n",
    "    test_score.append(acc_score_svm3)\n",
    "    cm = confusion_matrix(y_test,pred4)\n",
    "    TP = cm[0][0]\n",
    "    FP = cm[0][1]\n",
    "    FN = cm[1][0]\n",
    "    TN = cm[1][1]\n",
    "\n",
    "    Sensitivity_svm3 = TP / (TP + FN)\n",
    "    Specificity_svm3 = TN / (TN + FP)\n",
    "\n",
    "    print(F\"Sensitivity for svm rbf is { Sensitivity_svm3 }\")\n",
    "    print(F\"Specificity for svm rbf is { Specificity_svm3 }\")\n",
    "    \n",
    "    sensitivity.append(Sensitivity_svm3)\n",
    "    specificity.append(Specificity_svm3)\n",
    "    #ensemble\n",
    "    estimators = []\n",
    "    estimators.append(('rf', clf))\n",
    "    estimators.append(('svm', clf_svm1))\n",
    "    estimators.append(('svm3', clf_svm3))\n",
    "    # create the ensemble model\n",
    "    ensemble = VotingClassifier(estimators)\n",
    "    scores_ens = cross_val_score(ensemble, X_train, y_train, cv=5)\n",
    "    training_score.append(scores_ens)\n",
    "    print(F\"score for eensemble is - { scores_ens }\")\n",
    "    ensemble.fit(X_train,y_train)\n",
    "    pred4 = ensemble.predict(X_test)\n",
    "    acc_score_ens = accuracy_score(y_test,pred4)   \n",
    "    print(F\"acc_score for ensemble is - { acc_score_ens }\")\n",
    "    test_score.append(acc_score_ens)\n",
    "    cm = confusion_matrix(y_test,pred4)\n",
    "    TP = cm[0][0]\n",
    "    FP = cm[0][1]\n",
    "    FN = cm[1][0]\n",
    "    TN = cm[1][1]\n",
    "\n",
    "    Sensitivity_ens = TP / (TP + FN)\n",
    "    Specificity_ens = TN / (TN + FP)\n",
    "    sensitivity.append(Sensitivity_ens)\n",
    "    specificity.append(Specificity_ens)\n",
    "\n",
    "    print(F\"Sensitivity for ensemble is { Sensitivity_ens }\")\n",
    "    print(F\"Specificity for ensemble is { Specificity_ens }\")"
   ]
  },
  {
   "cell_type": "markdown",
   "metadata": {},
   "source": [
    "# Windowed Feature selection"
   ]
  },
  {
   "cell_type": "code",
   "execution_count": 47,
   "metadata": {},
   "outputs": [
    {
     "name": "stderr",
     "output_type": "stream",
     "text": [
      "C:\\Users\\user\\Anaconda3\\lib\\site-packages\\sklearn\\ensemble\\forest.py:246: FutureWarning: The default value of n_estimators will change from 10 in version 0.20 to 100 in 0.22.\n",
      "  \"10 in version 0.20 to 100 in 0.22.\", FutureWarning)\n",
      "C:\\Users\\user\\Anaconda3\\lib\\site-packages\\sklearn\\ensemble\\forest.py:246: FutureWarning: The default value of n_estimators will change from 10 in version 0.20 to 100 in 0.22.\n",
      "  \"10 in version 0.20 to 100 in 0.22.\", FutureWarning)\n",
      "C:\\Users\\user\\Anaconda3\\lib\\site-packages\\sklearn\\ensemble\\forest.py:246: FutureWarning: The default value of n_estimators will change from 10 in version 0.20 to 100 in 0.22.\n",
      "  \"10 in version 0.20 to 100 in 0.22.\", FutureWarning)\n",
      "C:\\Users\\user\\Anaconda3\\lib\\site-packages\\sklearn\\ensemble\\forest.py:246: FutureWarning: The default value of n_estimators will change from 10 in version 0.20 to 100 in 0.22.\n",
      "  \"10 in version 0.20 to 100 in 0.22.\", FutureWarning)\n"
     ]
    },
    {
     "name": "stdout",
     "output_type": "stream",
     "text": [
      "['zcr', 'mcr', 'kurt']\n",
      "['std_fft', 'mean_fft', 'kurt_fft']\n",
      "['std_fftw', 'mcr_fftw', 'var_fftw']\n",
      "['std_psd', 'skew_psd', 'mcr_psd']\n",
      "['energy_ca1', 'std_ca1', 'rms_ca1']"
     ]
    },
    {
     "name": "stderr",
     "output_type": "stream",
     "text": [
      "C:\\Users\\user\\Anaconda3\\lib\\site-packages\\sklearn\\ensemble\\forest.py:246: FutureWarning: The default value of n_estimators will change from 10 in version 0.20 to 100 in 0.22.\n",
      "  \"10 in version 0.20 to 100 in 0.22.\", FutureWarning)\n",
      "C:\\Users\\user\\Anaconda3\\lib\\site-packages\\sklearn\\ensemble\\forest.py:246: FutureWarning: The default value of n_estimators will change from 10 in version 0.20 to 100 in 0.22.\n",
      "  \"10 in version 0.20 to 100 in 0.22.\", FutureWarning)\n",
      "C:\\Users\\user\\Anaconda3\\lib\\site-packages\\sklearn\\ensemble\\forest.py:246: FutureWarning: The default value of n_estimators will change from 10 in version 0.20 to 100 in 0.22.\n",
      "  \"10 in version 0.20 to 100 in 0.22.\", FutureWarning)\n",
      "C:\\Users\\user\\Anaconda3\\lib\\site-packages\\sklearn\\ensemble\\forest.py:246: FutureWarning: The default value of n_estimators will change from 10 in version 0.20 to 100 in 0.22.\n",
      "  \"10 in version 0.20 to 100 in 0.22.\", FutureWarning)\n",
      "C:\\Users\\user\\Anaconda3\\lib\\site-packages\\sklearn\\ensemble\\forest.py:246: FutureWarning: The default value of n_estimators will change from 10 in version 0.20 to 100 in 0.22.\n",
      "  \"10 in version 0.20 to 100 in 0.22.\", FutureWarning)\n"
     ]
    },
    {
     "name": "stdout",
     "output_type": "stream",
     "text": [
      "\n",
      "['zcr_cd1', 'mcr_cd1', 'var_cd1']\n",
      "['var_ca2', 'energy_ca2', 'rms_ca2']\n",
      "['zcr_ca3', 'mcr_ca3', 'energy_ca3']\n",
      "['CF_ca4', 'mean_ca4', 'kurt_ca4']\n",
      "['ac8', 'ac9', 'ac18', 'ac15', 'ac3', 'ac16', 'ac11', 'ac10', 'ac17', 'ac39', 'ac1', 'ac40', 'ac7', 'ac47', 'ac2']\n"
     ]
    },
    {
     "name": "stderr",
     "output_type": "stream",
     "text": [
      "C:\\Users\\user\\Anaconda3\\lib\\site-packages\\sklearn\\ensemble\\forest.py:246: FutureWarning: The default value of n_estimators will change from 10 in version 0.20 to 100 in 0.22.\n",
      "  \"10 in version 0.20 to 100 in 0.22.\", FutureWarning)\n"
     ]
    }
   ],
   "source": [
    "best_of_all = []\n",
    "df_feature = shuffle(df_feature)\n",
    "\n",
    "#Windosw 1\n",
    "X_Tra = df_feature.drop(['label'],axis=1).iloc[:, 0:11]\n",
    "y_Tra = df_feature['label']\n",
    "model = ExtraTreesClassifier()\n",
    "model.fit(X_Tra,y_Tra)\n",
    "feat_importances = pd.Series(model.feature_importances_, index=X_Tra.columns)\n",
    "feature_importance = pd.Index.tolist(feat_importances.nlargest(3).index)\n",
    "fea_set = feature_importance\n",
    "print(fea_set)\n",
    "best_of_all.extend(fea_set)\n",
    "\n",
    "#Window 2\n",
    "X_Tra = df_feature.drop(['label'],axis=1).iloc[:, 11:20]\n",
    "y_Tra = df_feature['label']\n",
    "model = ExtraTreesClassifier()\n",
    "model.fit(X_Tra,y_Tra)\n",
    "feat_importances = pd.Series(model.feature_importances_, index=X_Tra.columns)\n",
    "feature_importance = pd.Index.tolist(feat_importances.nlargest(3).index)\n",
    "fea_set = feature_importance\n",
    "print(fea_set)\n",
    "best_of_all.extend(fea_set)\n",
    "\n",
    "#Window 3\n",
    "X_Tra = df_feature.drop(['label'],axis=1).iloc[:, 20:30]\n",
    "y_Tra = df_feature['label']\n",
    "model = ExtraTreesClassifier()\n",
    "model.fit(X_Tra,y_Tra)\n",
    "feat_importances = pd.Series(model.feature_importances_, index=X_Tra.columns)\n",
    "feature_importance = pd.Index.tolist(feat_importances.nlargest(3).index)\n",
    "fea_set = feature_importance\n",
    "print(fea_set)\n",
    "best_of_all.extend(fea_set)\n",
    "\n",
    "#Window 4\n",
    "X_Tra = df_feature.drop(['label'],axis=1).iloc[:, 30:40]\n",
    "y_Tra = df_feature['label']\n",
    "model = ExtraTreesClassifier()\n",
    "model.fit(X_Tra,y_Tra)\n",
    "feat_importances = pd.Series(model.feature_importances_, index=X_Tra.columns)\n",
    "feature_importance = pd.Index.tolist(feat_importances.nlargest(3).index)\n",
    "fea_set = feature_importance\n",
    "print(fea_set)\n",
    "best_of_all.extend(fea_set)\n",
    "\n",
    "#Window 5\n",
    "X_Tra = df_feature.drop(['label'],axis=1).iloc[:, 40:51]\n",
    "y_Tra = df_feature['label']\n",
    "model = ExtraTreesClassifier()\n",
    "model.fit(X_Tra,y_Tra)\n",
    "feat_importances = pd.Series(model.feature_importances_, index=X_Tra.columns)\n",
    "feature_importance = pd.Index.tolist(feat_importances.nlargest(3).index)\n",
    "fea_set = feature_importance\n",
    "print(fea_set)\n",
    "best_of_all.extend(fea_set)\n",
    "\n",
    "#Window 5\n",
    "X_Tra = df_feature.drop(['label'],axis=1).iloc[:, 51:62]\n",
    "y_Tra = df_feature['label']\n",
    "model = ExtraTreesClassifier()\n",
    "model.fit(X_Tra,y_Tra)\n",
    "feat_importances = pd.Series(model.feature_importances_, index=X_Tra.columns)\n",
    "feature_importance = pd.Index.tolist(feat_importances.nlargest(3).index)\n",
    "fea_set = feature_importance\n",
    "print(fea_set)\n",
    "best_of_all.extend(fea_set)\n",
    "\n",
    "#Window 6\n",
    "X_Tra = df_feature.drop(['label'],axis=1).iloc[:, 62:73]\n",
    "y_Tra = df_feature['label']\n",
    "model = ExtraTreesClassifier()\n",
    "model.fit(X_Tra,y_Tra)\n",
    "feat_importances = pd.Series(model.feature_importances_, index=X_Tra.columns)\n",
    "feature_importance = pd.Index.tolist(feat_importances.nlargest(3).index)\n",
    "fea_set = feature_importance\n",
    "print(fea_set)\n",
    "best_of_all.extend(fea_set)\n",
    "\n",
    "#Window 7\n",
    "X_Tra = df_feature.drop(['label'],axis=1).iloc[:, 73:84]\n",
    "y_Tra = df_feature['label']\n",
    "model = ExtraTreesClassifier()\n",
    "model.fit(X_Tra,y_Tra)\n",
    "feat_importances = pd.Series(model.feature_importances_, index=X_Tra.columns)\n",
    "feature_importance = pd.Index.tolist(feat_importances.nlargest(3).index)\n",
    "fea_set = feature_importance\n",
    "print(fea_set)\n",
    "best_of_all.extend(fea_set)\n",
    "\n",
    "#Window 8\n",
    "X_Tra = df_feature.drop(['label'],axis=1).iloc[:, 84:95]\n",
    "y_Tra = df_feature['label']\n",
    "model = ExtraTreesClassifier()\n",
    "model.fit(X_Tra,y_Tra)\n",
    "feat_importances = pd.Series(model.feature_importances_, index=X_Tra.columns)\n",
    "feature_importance = pd.Index.tolist(feat_importances.nlargest(3).index)\n",
    "fea_set = feature_importance\n",
    "print(fea_set)\n",
    "best_of_all.extend(fea_set)\n",
    "\n",
    "#Window 9\n",
    "X_Tra = df_feature.drop(['label'],axis=1).iloc[:, 95:595]\n",
    "y_Tra = df_feature['label']\n",
    "model = ExtraTreesClassifier()\n",
    "model.fit(X_Tra,y_Tra)\n",
    "feat_importances = pd.Series(model.feature_importances_, index=X_Tra.columns)\n",
    "feature_importance = pd.Index.tolist(feat_importances.nlargest(15).index)\n",
    "fea_set = feature_importance\n",
    "print(fea_set)\n",
    "best_of_all.extend(fea_set)"
   ]
  },
  {
   "cell_type": "code",
   "execution_count": 48,
   "metadata": {},
   "outputs": [],
   "source": [
    "X_train = df_feature[best_of_all]\n",
    "y_train = df_feature['label']\n",
    "X_test = df_featuret[best_of_all]\n",
    "y_test = df_featuret['label']"
   ]
  },
  {
   "cell_type": "code",
   "execution_count": 49,
   "metadata": {},
   "outputs": [
    {
     "name": "stderr",
     "output_type": "stream",
     "text": [
      "C:\\Users\\user\\Anaconda3\\lib\\site-packages\\sklearn\\preprocessing\\data.py:645: DataConversionWarning: Data with input dtype int64, float64 were all converted to float64 by StandardScaler.\n",
      "  return self.partial_fit(X, y)\n",
      "C:\\Users\\user\\Anaconda3\\lib\\site-packages\\ipykernel_launcher.py:3: DataConversionWarning: Data with input dtype int64, float64 were all converted to float64 by StandardScaler.\n",
      "  This is separate from the ipykernel package so we can avoid doing imports until\n",
      "C:\\Users\\user\\Anaconda3\\lib\\site-packages\\sklearn\\preprocessing\\data.py:645: DataConversionWarning: Data with input dtype int64, float64 were all converted to float64 by StandardScaler.\n",
      "  return self.partial_fit(X, y)\n",
      "C:\\Users\\user\\Anaconda3\\lib\\site-packages\\ipykernel_launcher.py:5: DataConversionWarning: Data with input dtype int64, float64 were all converted to float64 by StandardScaler.\n",
      "  \"\"\"\n"
     ]
    }
   ],
   "source": [
    "scaler = StandardScaler()\n",
    "scaler.fit(X_train)\n",
    "X_train = scaler.transform(X_train)\n",
    "scaler.fit(X_test)\n",
    "X_test = scaler.transform(X_test)"
   ]
  },
  {
   "cell_type": "code",
   "execution_count": 50,
   "metadata": {},
   "outputs": [
    {
     "data": {
      "text/plain": [
       "array([0.93818681, 0.92572215, 0.93122421, 0.91746905, 0.94222834])"
      ]
     },
     "execution_count": 50,
     "metadata": {},
     "output_type": "execute_result"
    }
   ],
   "source": [
    "clf_svm3 = svm.SVC(C=0.1, cache_size=200, class_weight=None, coef0=0.0,\n",
    "  decision_function_shape='ovr', degree=3, gamma=1, kernel='linear',\n",
    "  max_iter=-1, probability=False, random_state=None, shrinking=True,\n",
    "  tol=0.001, verbose=False)\n",
    "scores_svm3 = cross_val_score(clf_svm3, X_train, y_train, cv=5)\n",
    "scores_svm3"
   ]
  },
  {
   "cell_type": "code",
   "execution_count": 51,
   "metadata": {},
   "outputs": [
    {
     "data": {
      "text/plain": [
       "0.7691358024691358"
      ]
     },
     "execution_count": 51,
     "metadata": {},
     "output_type": "execute_result"
    }
   ],
   "source": [
    "clf_svm3.fit(X_train,y_train)\n",
    "pred3 = clf_svm3.predict(X_test)\n",
    "acc_score_svm3 = accuracy_score(y_test,pred3)\n",
    "acc_score_svm3"
   ]
  },
  {
   "cell_type": "code",
   "execution_count": 46,
   "metadata": {},
   "outputs": [
    {
     "name": "stdout",
     "output_type": "stream",
     "text": [
      "Sensitivity is 0.6839080459770115\n",
      "Specificity is 0.8472222222222222\n"
     ]
    }
   ],
   "source": [
    "from sklearn.metrics import confusion_matrix\n",
    "cm = confusion_matrix(y_test,pred3)\n",
    "TP = cm[0][0]\n",
    "FP = cm[0][1]\n",
    "FN = cm[1][0]\n",
    "TN = cm[1][1]\n",
    "\n",
    "Sensitivity_svm3 = TP / (TP + FN)\n",
    "Specificity_svm3 = TN / (TN + FP)\n",
    "\n",
    "print(F\"Sensitivity is { Sensitivity_svm3 }\")\n",
    "print(F\"Specificity is { Specificity_svm3 }\")"
   ]
  },
  {
   "cell_type": "code",
   "execution_count": null,
   "metadata": {},
   "outputs": [],
   "source": []
  }
 ],
 "metadata": {
  "kernelspec": {
   "display_name": "Python 3",
   "language": "python",
   "name": "python3"
  },
  "language_info": {
   "codemirror_mode": {
    "name": "ipython",
    "version": 3
   },
   "file_extension": ".py",
   "mimetype": "text/x-python",
   "name": "python",
   "nbconvert_exporter": "python",
   "pygments_lexer": "ipython3",
   "version": "3.7.3"
  }
 },
 "nbformat": 4,
 "nbformat_minor": 2
}
